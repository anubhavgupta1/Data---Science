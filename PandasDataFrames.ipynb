{
  "nbformat": 4,
  "nbformat_minor": 0,
  "metadata": {
    "colab": {
      "name": "Numpy_Assignments_Questions-200320-184846.ipynb",
      "provenance": [],
      "collapsed_sections": [],
      "include_colab_link": true
    },
    "kernelspec": {
      "name": "python3",
      "display_name": "Python 3"
    }
  },
  "cells": [
    {
      "cell_type": "markdown",
      "metadata": {
        "id": "view-in-github",
        "colab_type": "text"
      },
      "source": [
        "<a href=\"https://colab.research.google.com/github/anubhavgupta1/Data---Science/blob/main/PandasDataFrames.ipynb\" target=\"_parent\"><img src=\"https://colab.research.google.com/assets/colab-badge.svg\" alt=\"Open In Colab\"/></a>"
      ]
    },
    {
      "cell_type": "code",
      "metadata": {
        "colab": {
          "base_uri": "https://localhost:8080/"
        },
        "id": "eM8kCeRM8o9k",
        "outputId": "76b785fa-231d-48aa-e02a-f8b402ac6eb6"
      },
      "source": [
        "!ls\n",
        "!apt-get install -y -qq software-properties-common python-software-properties module-init-tools\n",
        "!add-apt-repository -y ppa:alessandro-strada/ppa 2>&1 > /dev/null\n",
        "!apt-get update -qq 2>&1 > /dev/null\n",
        "!apt-get -y install -qq google-drive-ocamlfuse fuse\n",
        "from google.colab import auth\n",
        "auth.authenticate_user()\n",
        "from oauth2client.client import GoogleCredentials\n",
        "creds = GoogleCredentials.get_application_default()\n",
        "import getpass\n",
        "!google-drive-ocamlfuse -headless -id={creds.client_id} -secret={creds.client_secret} < /dev/null 2>&1 | grep URL\n",
        "vcode = getpass.getpass()\n",
        "!echo {vcode} | google-drive-ocamlfuse -headless -id={creds.client_id} -secret={creds.client_secret}\n",
        "\n",
        "\n",
        "!mkdir -p drive\n",
        "!google-drive-ocamlfuse drive\n",
        "\n",
        "import os\n",
        "os.chdir (\"drive/Udacity/data science/\")\n",
        "!ls"
      ],
      "execution_count": 1,
      "outputs": [
        {
          "output_type": "stream",
          "text": [
            "sample_data\n",
            "E: Package 'python-software-properties' has no installation candidate\n",
            "Selecting previously unselected package google-drive-ocamlfuse.\n",
            "(Reading database ... 160983 files and directories currently installed.)\n",
            "Preparing to unpack .../google-drive-ocamlfuse_0.7.26-0ubuntu1~ubuntu18.04.1_amd64.deb ...\n",
            "Unpacking google-drive-ocamlfuse (0.7.26-0ubuntu1~ubuntu18.04.1) ...\n",
            "Setting up google-drive-ocamlfuse (0.7.26-0ubuntu1~ubuntu18.04.1) ...\n",
            "Processing triggers for man-db (2.8.3-2ubuntu0.1) ...\n",
            "Please, open the following URL in a web browser: https://accounts.google.com/o/oauth2/auth?client_id=32555940559.apps.googleusercontent.com&redirect_uri=urn%3Aietf%3Awg%3Aoauth%3A2.0%3Aoob&scope=https%3A%2F%2Fwww.googleapis.com%2Fauth%2Fdrive&response_type=code&access_type=offline&approval_prompt=force\n",
            "··········\n",
            "Please, open the following URL in a web browser: https://accounts.google.com/o/oauth2/auth?client_id=32555940559.apps.googleusercontent.com&redirect_uri=urn%3Aietf%3Awg%3Aoauth%3A2.0%3Aoob&scope=https%3A%2F%2Fwww.googleapis.com%2Fauth%2Fdrive&response_type=code&access_type=offline&approval_prompt=force\n",
            "Please enter the verification code: Access token retrieved correctly.\n",
            "cric_data.tsv\t\t  NIFTY50_2018.csv\tplanets_new.txt       zeros.npz\n",
            "many_arrs_compressed.npz  NIFTY50_2019.csv\tplanets_small.txt\n",
            "many_arrs.npz\t\t  NIFTYNext50_2019.csv\tplanets.txt\n",
            "nifty-200623-235920.csv   planets_new.npy\tzeros_compressed.npz\n"
          ],
          "name": "stdout"
        }
      ]
    },
    {
      "cell_type": "code",
      "metadata": {
        "id": "sYt2mTJb6uuX"
      },
      "source": [
        "import numpy as np\n",
        "import pandas as pd"
      ],
      "execution_count": 2,
      "outputs": []
    },
    {
      "cell_type": "markdown",
      "metadata": {
        "id": "DAjICcPqRsyO"
      },
      "source": [
        "## Creating dataframe objects"
      ]
    },
    {
      "cell_type": "code",
      "metadata": {
        "colab": {
          "base_uri": "https://localhost:8080/",
          "height": 195
        },
        "id": "KF1yJCHDQn7b",
        "outputId": "fd283988-334a-49de-9d3f-9c8c65d44d5b"
      },
      "source": [
        "arr = np.random.randint(0, 10, (5, 3))\n",
        "df = pd.DataFrame(arr)\n",
        "df"
      ],
      "execution_count": 3,
      "outputs": [
        {
          "output_type": "execute_result",
          "data": {
            "text/html": [
              "<div>\n",
              "<style scoped>\n",
              "    .dataframe tbody tr th:only-of-type {\n",
              "        vertical-align: middle;\n",
              "    }\n",
              "\n",
              "    .dataframe tbody tr th {\n",
              "        vertical-align: top;\n",
              "    }\n",
              "\n",
              "    .dataframe thead th {\n",
              "        text-align: right;\n",
              "    }\n",
              "</style>\n",
              "<table border=\"1\" class=\"dataframe\">\n",
              "  <thead>\n",
              "    <tr style=\"text-align: right;\">\n",
              "      <th></th>\n",
              "      <th>0</th>\n",
              "      <th>1</th>\n",
              "      <th>2</th>\n",
              "    </tr>\n",
              "  </thead>\n",
              "  <tbody>\n",
              "    <tr>\n",
              "      <th>0</th>\n",
              "      <td>1</td>\n",
              "      <td>4</td>\n",
              "      <td>2</td>\n",
              "    </tr>\n",
              "    <tr>\n",
              "      <th>1</th>\n",
              "      <td>8</td>\n",
              "      <td>6</td>\n",
              "      <td>8</td>\n",
              "    </tr>\n",
              "    <tr>\n",
              "      <th>2</th>\n",
              "      <td>8</td>\n",
              "      <td>5</td>\n",
              "      <td>8</td>\n",
              "    </tr>\n",
              "    <tr>\n",
              "      <th>3</th>\n",
              "      <td>5</td>\n",
              "      <td>9</td>\n",
              "      <td>0</td>\n",
              "    </tr>\n",
              "    <tr>\n",
              "      <th>4</th>\n",
              "      <td>5</td>\n",
              "      <td>8</td>\n",
              "      <td>7</td>\n",
              "    </tr>\n",
              "  </tbody>\n",
              "</table>\n",
              "</div>"
            ],
            "text/plain": [
              "   0  1  2\n",
              "0  1  4  2\n",
              "1  8  6  8\n",
              "2  8  5  8\n",
              "3  5  9  0\n",
              "4  5  8  7"
            ]
          },
          "metadata": {
            "tags": []
          },
          "execution_count": 3
        }
      ]
    },
    {
      "cell_type": "code",
      "metadata": {
        "colab": {
          "base_uri": "https://localhost:8080/"
        },
        "id": "eeDFtOeeSQhb",
        "outputId": "71c7868d-5eec-472e-e63c-c119b5cda903"
      },
      "source": [
        "df.values\n"
      ],
      "execution_count": 4,
      "outputs": [
        {
          "output_type": "execute_result",
          "data": {
            "text/plain": [
              "array([[1, 4, 2],\n",
              "       [8, 6, 8],\n",
              "       [8, 5, 8],\n",
              "       [5, 9, 0],\n",
              "       [5, 8, 7]])"
            ]
          },
          "metadata": {
            "tags": []
          },
          "execution_count": 4
        }
      ]
    },
    {
      "cell_type": "code",
      "metadata": {
        "colab": {
          "base_uri": "https://localhost:8080/",
          "height": 195
        },
        "id": "E3p9VwqcSRhY",
        "outputId": "98c81bda-0b59-45b0-8dff-1ee86162fa02"
      },
      "source": [
        "df.index = [\"R1\",\"R2\",\"R3\", \"R4\", \"R5\"]\n",
        "df.columns = [\"C1\",\"C2\",\"C3\"]\n",
        "df"
      ],
      "execution_count": 5,
      "outputs": [
        {
          "output_type": "execute_result",
          "data": {
            "text/html": [
              "<div>\n",
              "<style scoped>\n",
              "    .dataframe tbody tr th:only-of-type {\n",
              "        vertical-align: middle;\n",
              "    }\n",
              "\n",
              "    .dataframe tbody tr th {\n",
              "        vertical-align: top;\n",
              "    }\n",
              "\n",
              "    .dataframe thead th {\n",
              "        text-align: right;\n",
              "    }\n",
              "</style>\n",
              "<table border=\"1\" class=\"dataframe\">\n",
              "  <thead>\n",
              "    <tr style=\"text-align: right;\">\n",
              "      <th></th>\n",
              "      <th>C1</th>\n",
              "      <th>C2</th>\n",
              "      <th>C3</th>\n",
              "    </tr>\n",
              "  </thead>\n",
              "  <tbody>\n",
              "    <tr>\n",
              "      <th>R1</th>\n",
              "      <td>1</td>\n",
              "      <td>4</td>\n",
              "      <td>2</td>\n",
              "    </tr>\n",
              "    <tr>\n",
              "      <th>R2</th>\n",
              "      <td>8</td>\n",
              "      <td>6</td>\n",
              "      <td>8</td>\n",
              "    </tr>\n",
              "    <tr>\n",
              "      <th>R3</th>\n",
              "      <td>8</td>\n",
              "      <td>5</td>\n",
              "      <td>8</td>\n",
              "    </tr>\n",
              "    <tr>\n",
              "      <th>R4</th>\n",
              "      <td>5</td>\n",
              "      <td>9</td>\n",
              "      <td>0</td>\n",
              "    </tr>\n",
              "    <tr>\n",
              "      <th>R5</th>\n",
              "      <td>5</td>\n",
              "      <td>8</td>\n",
              "      <td>7</td>\n",
              "    </tr>\n",
              "  </tbody>\n",
              "</table>\n",
              "</div>"
            ],
            "text/plain": [
              "    C1  C2  C3\n",
              "R1   1   4   2\n",
              "R2   8   6   8\n",
              "R3   8   5   8\n",
              "R4   5   9   0\n",
              "R5   5   8   7"
            ]
          },
          "metadata": {
            "tags": []
          },
          "execution_count": 5
        }
      ]
    },
    {
      "cell_type": "code",
      "metadata": {
        "colab": {
          "base_uri": "https://localhost:8080/"
        },
        "id": "r7-qhBBFSr89",
        "outputId": "629cdd3e-dd9c-49cd-e2e6-77818c4214d4"
      },
      "source": [
        "df.values[0]"
      ],
      "execution_count": 6,
      "outputs": [
        {
          "output_type": "execute_result",
          "data": {
            "text/plain": [
              "array([1, 4, 2])"
            ]
          },
          "metadata": {
            "tags": []
          },
          "execution_count": 6
        }
      ]
    },
    {
      "cell_type": "markdown",
      "metadata": {
        "id": "GNghr6wiT-vf"
      },
      "source": [
        "## Explicit"
      ]
    },
    {
      "cell_type": "code",
      "metadata": {
        "colab": {
          "base_uri": "https://localhost:8080/"
        },
        "id": "sQNlxz1MTO6D",
        "outputId": "aaa2e063-3dc1-4172-a035-fa119ddc36ca"
      },
      "source": [
        "df.loc[\"R3\", \"C2\"]"
      ],
      "execution_count": 7,
      "outputs": [
        {
          "output_type": "execute_result",
          "data": {
            "text/plain": [
              "5"
            ]
          },
          "metadata": {
            "tags": []
          },
          "execution_count": 7
        }
      ]
    },
    {
      "cell_type": "markdown",
      "metadata": {
        "id": "m-puox44UDW8"
      },
      "source": [
        "## Implicit"
      ]
    },
    {
      "cell_type": "code",
      "metadata": {
        "colab": {
          "base_uri": "https://localhost:8080/"
        },
        "id": "fB9FO7mdUCSg",
        "outputId": "45a8a989-90b4-482d-8cb6-831b48c9701e"
      },
      "source": [
        "df.iloc[2, 1]"
      ],
      "execution_count": 8,
      "outputs": [
        {
          "output_type": "execute_result",
          "data": {
            "text/plain": [
              "5"
            ]
          },
          "metadata": {
            "tags": []
          },
          "execution_count": 8
        }
      ]
    },
    {
      "cell_type": "markdown",
      "metadata": {
        "id": "A3M32koVUUei"
      },
      "source": [
        "## Slice"
      ]
    },
    {
      "cell_type": "code",
      "metadata": {
        "colab": {
          "base_uri": "https://localhost:8080/",
          "height": 136
        },
        "id": "7hIfdGVtUSJO",
        "outputId": "7cd06c39-8b2c-405b-8fcb-565b940979cd"
      },
      "source": [
        "df.loc['R3':'R5', 'C2':'C3']\n"
      ],
      "execution_count": 9,
      "outputs": [
        {
          "output_type": "execute_result",
          "data": {
            "text/html": [
              "<div>\n",
              "<style scoped>\n",
              "    .dataframe tbody tr th:only-of-type {\n",
              "        vertical-align: middle;\n",
              "    }\n",
              "\n",
              "    .dataframe tbody tr th {\n",
              "        vertical-align: top;\n",
              "    }\n",
              "\n",
              "    .dataframe thead th {\n",
              "        text-align: right;\n",
              "    }\n",
              "</style>\n",
              "<table border=\"1\" class=\"dataframe\">\n",
              "  <thead>\n",
              "    <tr style=\"text-align: right;\">\n",
              "      <th></th>\n",
              "      <th>C2</th>\n",
              "      <th>C3</th>\n",
              "    </tr>\n",
              "  </thead>\n",
              "  <tbody>\n",
              "    <tr>\n",
              "      <th>R3</th>\n",
              "      <td>5</td>\n",
              "      <td>8</td>\n",
              "    </tr>\n",
              "    <tr>\n",
              "      <th>R4</th>\n",
              "      <td>9</td>\n",
              "      <td>0</td>\n",
              "    </tr>\n",
              "    <tr>\n",
              "      <th>R5</th>\n",
              "      <td>8</td>\n",
              "      <td>7</td>\n",
              "    </tr>\n",
              "  </tbody>\n",
              "</table>\n",
              "</div>"
            ],
            "text/plain": [
              "    C2  C3\n",
              "R3   5   8\n",
              "R4   9   0\n",
              "R5   8   7"
            ]
          },
          "metadata": {
            "tags": []
          },
          "execution_count": 9
        }
      ]
    },
    {
      "cell_type": "code",
      "metadata": {
        "colab": {
          "base_uri": "https://localhost:8080/",
          "height": 195
        },
        "id": "fw6k4HjrUZx7",
        "outputId": "c59333bb-e72f-4f30-ec12-5c3949bb32a0"
      },
      "source": [
        "df"
      ],
      "execution_count": 10,
      "outputs": [
        {
          "output_type": "execute_result",
          "data": {
            "text/html": [
              "<div>\n",
              "<style scoped>\n",
              "    .dataframe tbody tr th:only-of-type {\n",
              "        vertical-align: middle;\n",
              "    }\n",
              "\n",
              "    .dataframe tbody tr th {\n",
              "        vertical-align: top;\n",
              "    }\n",
              "\n",
              "    .dataframe thead th {\n",
              "        text-align: right;\n",
              "    }\n",
              "</style>\n",
              "<table border=\"1\" class=\"dataframe\">\n",
              "  <thead>\n",
              "    <tr style=\"text-align: right;\">\n",
              "      <th></th>\n",
              "      <th>C1</th>\n",
              "      <th>C2</th>\n",
              "      <th>C3</th>\n",
              "    </tr>\n",
              "  </thead>\n",
              "  <tbody>\n",
              "    <tr>\n",
              "      <th>R1</th>\n",
              "      <td>1</td>\n",
              "      <td>4</td>\n",
              "      <td>2</td>\n",
              "    </tr>\n",
              "    <tr>\n",
              "      <th>R2</th>\n",
              "      <td>8</td>\n",
              "      <td>6</td>\n",
              "      <td>8</td>\n",
              "    </tr>\n",
              "    <tr>\n",
              "      <th>R3</th>\n",
              "      <td>8</td>\n",
              "      <td>5</td>\n",
              "      <td>8</td>\n",
              "    </tr>\n",
              "    <tr>\n",
              "      <th>R4</th>\n",
              "      <td>5</td>\n",
              "      <td>9</td>\n",
              "      <td>0</td>\n",
              "    </tr>\n",
              "    <tr>\n",
              "      <th>R5</th>\n",
              "      <td>5</td>\n",
              "      <td>8</td>\n",
              "      <td>7</td>\n",
              "    </tr>\n",
              "  </tbody>\n",
              "</table>\n",
              "</div>"
            ],
            "text/plain": [
              "    C1  C2  C3\n",
              "R1   1   4   2\n",
              "R2   8   6   8\n",
              "R3   8   5   8\n",
              "R4   5   9   0\n",
              "R5   5   8   7"
            ]
          },
          "metadata": {
            "tags": []
          },
          "execution_count": 10
        }
      ]
    },
    {
      "cell_type": "markdown",
      "metadata": {
        "id": "QvaUbR89U-fJ"
      },
      "source": [
        "## iloc for rows"
      ]
    },
    {
      "cell_type": "code",
      "metadata": {
        "colab": {
          "base_uri": "https://localhost:8080/"
        },
        "id": "z4TB20KBUbBh",
        "outputId": "37879505-fd2b-4c21-ffdc-2661eb7edc21"
      },
      "source": [
        "df.iloc[0]"
      ],
      "execution_count": 11,
      "outputs": [
        {
          "output_type": "execute_result",
          "data": {
            "text/plain": [
              "C1    1\n",
              "C2    4\n",
              "C3    2\n",
              "Name: R1, dtype: int64"
            ]
          },
          "metadata": {
            "tags": []
          },
          "execution_count": 11
        }
      ]
    },
    {
      "cell_type": "markdown",
      "metadata": {
        "id": "fgp795ijVfpa"
      },
      "source": [
        "## iloc for rows and cols"
      ]
    },
    {
      "cell_type": "code",
      "metadata": {
        "colab": {
          "base_uri": "https://localhost:8080/"
        },
        "id": "XJuYqz44VVGj",
        "outputId": "23f354a2-1aab-4c25-8cea-147949285017"
      },
      "source": [
        "df.iloc[:, 0]"
      ],
      "execution_count": 12,
      "outputs": [
        {
          "output_type": "execute_result",
          "data": {
            "text/plain": [
              "R1    1\n",
              "R2    8\n",
              "R3    8\n",
              "R4    5\n",
              "R5    5\n",
              "Name: C1, dtype: int64"
            ]
          },
          "metadata": {
            "tags": []
          },
          "execution_count": 12
        }
      ]
    },
    {
      "cell_type": "code",
      "metadata": {
        "id": "DZWx1Te7VpV_"
      },
      "source": [
        "def create_df(nRows, nCols, maxRand=10):\n",
        "    arr = np.random.randint(0, maxRand, (nRows, nCols))\n",
        "    df = pd.DataFrame(arr)\n",
        "    df.index = ['R' + str(x) for x in np.arange(1, nRows+1)]\n",
        "    df.columns = ['C' + str(x) for x in np.arange(1, nCols+1)]\n",
        "    return df"
      ],
      "execution_count": 13,
      "outputs": []
    },
    {
      "cell_type": "code",
      "metadata": {
        "colab": {
          "base_uri": "https://localhost:8080/",
          "height": 195
        },
        "id": "V-wB4dZ8Vqru",
        "outputId": "d5a34176-2ffc-4ac7-e17c-e09a3779551b"
      },
      "source": [
        "create_df(5, 3)"
      ],
      "execution_count": 14,
      "outputs": [
        {
          "output_type": "execute_result",
          "data": {
            "text/html": [
              "<div>\n",
              "<style scoped>\n",
              "    .dataframe tbody tr th:only-of-type {\n",
              "        vertical-align: middle;\n",
              "    }\n",
              "\n",
              "    .dataframe tbody tr th {\n",
              "        vertical-align: top;\n",
              "    }\n",
              "\n",
              "    .dataframe thead th {\n",
              "        text-align: right;\n",
              "    }\n",
              "</style>\n",
              "<table border=\"1\" class=\"dataframe\">\n",
              "  <thead>\n",
              "    <tr style=\"text-align: right;\">\n",
              "      <th></th>\n",
              "      <th>C1</th>\n",
              "      <th>C2</th>\n",
              "      <th>C3</th>\n",
              "    </tr>\n",
              "  </thead>\n",
              "  <tbody>\n",
              "    <tr>\n",
              "      <th>R1</th>\n",
              "      <td>5</td>\n",
              "      <td>5</td>\n",
              "      <td>2</td>\n",
              "    </tr>\n",
              "    <tr>\n",
              "      <th>R2</th>\n",
              "      <td>1</td>\n",
              "      <td>2</td>\n",
              "      <td>5</td>\n",
              "    </tr>\n",
              "    <tr>\n",
              "      <th>R3</th>\n",
              "      <td>5</td>\n",
              "      <td>5</td>\n",
              "      <td>2</td>\n",
              "    </tr>\n",
              "    <tr>\n",
              "      <th>R4</th>\n",
              "      <td>7</td>\n",
              "      <td>4</td>\n",
              "      <td>1</td>\n",
              "    </tr>\n",
              "    <tr>\n",
              "      <th>R5</th>\n",
              "      <td>7</td>\n",
              "      <td>8</td>\n",
              "      <td>2</td>\n",
              "    </tr>\n",
              "  </tbody>\n",
              "</table>\n",
              "</div>"
            ],
            "text/plain": [
              "    C1  C2  C3\n",
              "R1   5   5   2\n",
              "R2   1   2   5\n",
              "R3   5   5   2\n",
              "R4   7   4   1\n",
              "R5   7   8   2"
            ]
          },
          "metadata": {
            "tags": []
          },
          "execution_count": 14
        }
      ]
    },
    {
      "cell_type": "code",
      "metadata": {
        "colab": {
          "base_uri": "https://localhost:8080/"
        },
        "id": "8EMg8Cy2WF1g",
        "outputId": "f1480186-cde4-4cd9-ea25-c737f3dcc4e7"
      },
      "source": [
        "df.loc[\"R1\"]"
      ],
      "execution_count": 15,
      "outputs": [
        {
          "output_type": "execute_result",
          "data": {
            "text/plain": [
              "C1    1\n",
              "C2    4\n",
              "C3    2\n",
              "Name: R1, dtype: int64"
            ]
          },
          "metadata": {
            "tags": []
          },
          "execution_count": 15
        }
      ]
    },
    {
      "cell_type": "code",
      "metadata": {
        "colab": {
          "base_uri": "https://localhost:8080/"
        },
        "id": "s7CmVB0OWNok",
        "outputId": "44c4b4f0-f048-40f6-cbda-fad3d4c85d6d"
      },
      "source": [
        "df.loc[:, \"C1\"]"
      ],
      "execution_count": 16,
      "outputs": [
        {
          "output_type": "execute_result",
          "data": {
            "text/plain": [
              "R1    1\n",
              "R2    8\n",
              "R3    8\n",
              "R4    5\n",
              "R5    5\n",
              "Name: C1, dtype: int64"
            ]
          },
          "metadata": {
            "tags": []
          },
          "execution_count": 16
        }
      ]
    },
    {
      "cell_type": "code",
      "metadata": {
        "id": "dxpdTdy4Wyrj"
      },
      "source": [
        "mass = pd.Series([0.33, 4.87, 5.97, 0.642, 1898, 568, 86.8, 102, 0.0146], \n",
        "                 index=['Mercury', 'Venus', 'Earth', 'Mars', 'Jupiter', 'Saturn', 'Uranus', 'Neptune', 'Pluto'])\n",
        "diameter = pd.Series([4879, 12104, 12756, 3475, 6792, 142984, 120536, 51118, 49528, 2370], \n",
        "                     index=['Mercury', 'Venus', 'Earth', 'Moon', 'Mars', 'Jupiter', 'Saturn', 'Uranus', 'Neptune', 'Pluto'])"
      ],
      "execution_count": 17,
      "outputs": []
    },
    {
      "cell_type": "code",
      "metadata": {
        "colab": {
          "base_uri": "https://localhost:8080/"
        },
        "id": "9Shswlz9W3oZ",
        "outputId": "adae1cb5-066d-488f-b94f-0e9a85a95c75"
      },
      "source": [
        "dict1 = {'Mass': mass, 'Diameter': diameter}\n",
        "print(type(dict1))"
      ],
      "execution_count": 18,
      "outputs": [
        {
          "output_type": "stream",
          "text": [
            "<class 'dict'>\n"
          ],
          "name": "stdout"
        }
      ]
    },
    {
      "cell_type": "code",
      "metadata": {
        "colab": {
          "base_uri": "https://localhost:8080/",
          "height": 343
        },
        "id": "yIrXIvDjXBWH",
        "outputId": "b6309995-89f5-40bd-ca6b-1dcf7951ac44"
      },
      "source": [
        "df = pd.DataFrame(dict1)\n",
        "df"
      ],
      "execution_count": 19,
      "outputs": [
        {
          "output_type": "execute_result",
          "data": {
            "text/html": [
              "<div>\n",
              "<style scoped>\n",
              "    .dataframe tbody tr th:only-of-type {\n",
              "        vertical-align: middle;\n",
              "    }\n",
              "\n",
              "    .dataframe tbody tr th {\n",
              "        vertical-align: top;\n",
              "    }\n",
              "\n",
              "    .dataframe thead th {\n",
              "        text-align: right;\n",
              "    }\n",
              "</style>\n",
              "<table border=\"1\" class=\"dataframe\">\n",
              "  <thead>\n",
              "    <tr style=\"text-align: right;\">\n",
              "      <th></th>\n",
              "      <th>Mass</th>\n",
              "      <th>Diameter</th>\n",
              "    </tr>\n",
              "  </thead>\n",
              "  <tbody>\n",
              "    <tr>\n",
              "      <th>Earth</th>\n",
              "      <td>5.9700</td>\n",
              "      <td>12756</td>\n",
              "    </tr>\n",
              "    <tr>\n",
              "      <th>Jupiter</th>\n",
              "      <td>1898.0000</td>\n",
              "      <td>142984</td>\n",
              "    </tr>\n",
              "    <tr>\n",
              "      <th>Mars</th>\n",
              "      <td>0.6420</td>\n",
              "      <td>6792</td>\n",
              "    </tr>\n",
              "    <tr>\n",
              "      <th>Mercury</th>\n",
              "      <td>0.3300</td>\n",
              "      <td>4879</td>\n",
              "    </tr>\n",
              "    <tr>\n",
              "      <th>Moon</th>\n",
              "      <td>NaN</td>\n",
              "      <td>3475</td>\n",
              "    </tr>\n",
              "    <tr>\n",
              "      <th>Neptune</th>\n",
              "      <td>102.0000</td>\n",
              "      <td>49528</td>\n",
              "    </tr>\n",
              "    <tr>\n",
              "      <th>Pluto</th>\n",
              "      <td>0.0146</td>\n",
              "      <td>2370</td>\n",
              "    </tr>\n",
              "    <tr>\n",
              "      <th>Saturn</th>\n",
              "      <td>568.0000</td>\n",
              "      <td>120536</td>\n",
              "    </tr>\n",
              "    <tr>\n",
              "      <th>Uranus</th>\n",
              "      <td>86.8000</td>\n",
              "      <td>51118</td>\n",
              "    </tr>\n",
              "    <tr>\n",
              "      <th>Venus</th>\n",
              "      <td>4.8700</td>\n",
              "      <td>12104</td>\n",
              "    </tr>\n",
              "  </tbody>\n",
              "</table>\n",
              "</div>"
            ],
            "text/plain": [
              "              Mass  Diameter\n",
              "Earth       5.9700     12756\n",
              "Jupiter  1898.0000    142984\n",
              "Mars        0.6420      6792\n",
              "Mercury     0.3300      4879\n",
              "Moon           NaN      3475\n",
              "Neptune   102.0000     49528\n",
              "Pluto       0.0146      2370\n",
              "Saturn    568.0000    120536\n",
              "Uranus     86.8000     51118\n",
              "Venus       4.8700     12104"
            ]
          },
          "metadata": {
            "tags": []
          },
          "execution_count": 19
        }
      ]
    },
    {
      "cell_type": "code",
      "metadata": {
        "colab": {
          "base_uri": "https://localhost:8080/"
        },
        "id": "ZHtXx2iBXPqm",
        "outputId": "496ffb73-0349-435e-faef-052c3f0353f1"
      },
      "source": [
        "df[\"Mass\"]"
      ],
      "execution_count": 20,
      "outputs": [
        {
          "output_type": "execute_result",
          "data": {
            "text/plain": [
              "Earth         5.9700\n",
              "Jupiter    1898.0000\n",
              "Mars          0.6420\n",
              "Mercury       0.3300\n",
              "Moon             NaN\n",
              "Neptune     102.0000\n",
              "Pluto         0.0146\n",
              "Saturn      568.0000\n",
              "Uranus       86.8000\n",
              "Venus         4.8700\n",
              "Name: Mass, dtype: float64"
            ]
          },
          "metadata": {
            "tags": []
          },
          "execution_count": 20
        }
      ]
    },
    {
      "cell_type": "code",
      "metadata": {
        "colab": {
          "base_uri": "https://localhost:8080/"
        },
        "id": "965cIPohXX5F",
        "outputId": "908d2209-4bf1-4a2a-afba-02882842c5cc"
      },
      "source": [
        "df[\"Mass\"][\"Earth\"]"
      ],
      "execution_count": 21,
      "outputs": [
        {
          "output_type": "execute_result",
          "data": {
            "text/plain": [
              "5.97"
            ]
          },
          "metadata": {
            "tags": []
          },
          "execution_count": 21
        }
      ]
    },
    {
      "cell_type": "code",
      "metadata": {
        "colab": {
          "base_uri": "https://localhost:8080/"
        },
        "id": "uKK4mzYhXmFm",
        "outputId": "05a431b8-6013-4680-e02e-acbf38769ce3"
      },
      "source": [
        "df.Mass.Earth"
      ],
      "execution_count": 22,
      "outputs": [
        {
          "output_type": "execute_result",
          "data": {
            "text/plain": [
              "5.97"
            ]
          },
          "metadata": {
            "tags": []
          },
          "execution_count": 22
        }
      ]
    },
    {
      "cell_type": "code",
      "metadata": {
        "colab": {
          "base_uri": "https://localhost:8080/",
          "height": 343
        },
        "id": "fXW1PznaXaXJ",
        "outputId": "9ef442c1-2362-438c-92a6-ff98981fafed"
      },
      "source": [
        "df['pop'] = 0\n",
        "df"
      ],
      "execution_count": 23,
      "outputs": [
        {
          "output_type": "execute_result",
          "data": {
            "text/html": [
              "<div>\n",
              "<style scoped>\n",
              "    .dataframe tbody tr th:only-of-type {\n",
              "        vertical-align: middle;\n",
              "    }\n",
              "\n",
              "    .dataframe tbody tr th {\n",
              "        vertical-align: top;\n",
              "    }\n",
              "\n",
              "    .dataframe thead th {\n",
              "        text-align: right;\n",
              "    }\n",
              "</style>\n",
              "<table border=\"1\" class=\"dataframe\">\n",
              "  <thead>\n",
              "    <tr style=\"text-align: right;\">\n",
              "      <th></th>\n",
              "      <th>Mass</th>\n",
              "      <th>Diameter</th>\n",
              "      <th>pop</th>\n",
              "    </tr>\n",
              "  </thead>\n",
              "  <tbody>\n",
              "    <tr>\n",
              "      <th>Earth</th>\n",
              "      <td>5.9700</td>\n",
              "      <td>12756</td>\n",
              "      <td>0</td>\n",
              "    </tr>\n",
              "    <tr>\n",
              "      <th>Jupiter</th>\n",
              "      <td>1898.0000</td>\n",
              "      <td>142984</td>\n",
              "      <td>0</td>\n",
              "    </tr>\n",
              "    <tr>\n",
              "      <th>Mars</th>\n",
              "      <td>0.6420</td>\n",
              "      <td>6792</td>\n",
              "      <td>0</td>\n",
              "    </tr>\n",
              "    <tr>\n",
              "      <th>Mercury</th>\n",
              "      <td>0.3300</td>\n",
              "      <td>4879</td>\n",
              "      <td>0</td>\n",
              "    </tr>\n",
              "    <tr>\n",
              "      <th>Moon</th>\n",
              "      <td>NaN</td>\n",
              "      <td>3475</td>\n",
              "      <td>0</td>\n",
              "    </tr>\n",
              "    <tr>\n",
              "      <th>Neptune</th>\n",
              "      <td>102.0000</td>\n",
              "      <td>49528</td>\n",
              "      <td>0</td>\n",
              "    </tr>\n",
              "    <tr>\n",
              "      <th>Pluto</th>\n",
              "      <td>0.0146</td>\n",
              "      <td>2370</td>\n",
              "      <td>0</td>\n",
              "    </tr>\n",
              "    <tr>\n",
              "      <th>Saturn</th>\n",
              "      <td>568.0000</td>\n",
              "      <td>120536</td>\n",
              "      <td>0</td>\n",
              "    </tr>\n",
              "    <tr>\n",
              "      <th>Uranus</th>\n",
              "      <td>86.8000</td>\n",
              "      <td>51118</td>\n",
              "      <td>0</td>\n",
              "    </tr>\n",
              "    <tr>\n",
              "      <th>Venus</th>\n",
              "      <td>4.8700</td>\n",
              "      <td>12104</td>\n",
              "      <td>0</td>\n",
              "    </tr>\n",
              "  </tbody>\n",
              "</table>\n",
              "</div>"
            ],
            "text/plain": [
              "              Mass  Diameter  pop\n",
              "Earth       5.9700     12756    0\n",
              "Jupiter  1898.0000    142984    0\n",
              "Mars        0.6420      6792    0\n",
              "Mercury     0.3300      4879    0\n",
              "Moon           NaN      3475    0\n",
              "Neptune   102.0000     49528    0\n",
              "Pluto       0.0146      2370    0\n",
              "Saturn    568.0000    120536    0\n",
              "Uranus     86.8000     51118    0\n",
              "Venus       4.8700     12104    0"
            ]
          },
          "metadata": {
            "tags": []
          },
          "execution_count": 23
        }
      ]
    },
    {
      "cell_type": "code",
      "metadata": {
        "colab": {
          "base_uri": "https://localhost:8080/",
          "height": 427
        },
        "id": "PvhLfQIuXtYv",
        "outputId": "97ec5d24-5031-4cc8-e1f7-db11bc346881"
      },
      "source": [
        "df[\"pop\"][\"Earth\"]  = 8000000000\n",
        "df"
      ],
      "execution_count": 24,
      "outputs": [
        {
          "output_type": "stream",
          "text": [
            "/usr/local/lib/python3.7/dist-packages/ipykernel_launcher.py:1: SettingWithCopyWarning: \n",
            "A value is trying to be set on a copy of a slice from a DataFrame\n",
            "\n",
            "See the caveats in the documentation: https://pandas.pydata.org/pandas-docs/stable/user_guide/indexing.html#returning-a-view-versus-a-copy\n",
            "  \"\"\"Entry point for launching an IPython kernel.\n"
          ],
          "name": "stderr"
        },
        {
          "output_type": "execute_result",
          "data": {
            "text/html": [
              "<div>\n",
              "<style scoped>\n",
              "    .dataframe tbody tr th:only-of-type {\n",
              "        vertical-align: middle;\n",
              "    }\n",
              "\n",
              "    .dataframe tbody tr th {\n",
              "        vertical-align: top;\n",
              "    }\n",
              "\n",
              "    .dataframe thead th {\n",
              "        text-align: right;\n",
              "    }\n",
              "</style>\n",
              "<table border=\"1\" class=\"dataframe\">\n",
              "  <thead>\n",
              "    <tr style=\"text-align: right;\">\n",
              "      <th></th>\n",
              "      <th>Mass</th>\n",
              "      <th>Diameter</th>\n",
              "      <th>pop</th>\n",
              "    </tr>\n",
              "  </thead>\n",
              "  <tbody>\n",
              "    <tr>\n",
              "      <th>Earth</th>\n",
              "      <td>5.9700</td>\n",
              "      <td>12756</td>\n",
              "      <td>8000000000</td>\n",
              "    </tr>\n",
              "    <tr>\n",
              "      <th>Jupiter</th>\n",
              "      <td>1898.0000</td>\n",
              "      <td>142984</td>\n",
              "      <td>0</td>\n",
              "    </tr>\n",
              "    <tr>\n",
              "      <th>Mars</th>\n",
              "      <td>0.6420</td>\n",
              "      <td>6792</td>\n",
              "      <td>0</td>\n",
              "    </tr>\n",
              "    <tr>\n",
              "      <th>Mercury</th>\n",
              "      <td>0.3300</td>\n",
              "      <td>4879</td>\n",
              "      <td>0</td>\n",
              "    </tr>\n",
              "    <tr>\n",
              "      <th>Moon</th>\n",
              "      <td>NaN</td>\n",
              "      <td>3475</td>\n",
              "      <td>0</td>\n",
              "    </tr>\n",
              "    <tr>\n",
              "      <th>Neptune</th>\n",
              "      <td>102.0000</td>\n",
              "      <td>49528</td>\n",
              "      <td>0</td>\n",
              "    </tr>\n",
              "    <tr>\n",
              "      <th>Pluto</th>\n",
              "      <td>0.0146</td>\n",
              "      <td>2370</td>\n",
              "      <td>0</td>\n",
              "    </tr>\n",
              "    <tr>\n",
              "      <th>Saturn</th>\n",
              "      <td>568.0000</td>\n",
              "      <td>120536</td>\n",
              "      <td>0</td>\n",
              "    </tr>\n",
              "    <tr>\n",
              "      <th>Uranus</th>\n",
              "      <td>86.8000</td>\n",
              "      <td>51118</td>\n",
              "      <td>0</td>\n",
              "    </tr>\n",
              "    <tr>\n",
              "      <th>Venus</th>\n",
              "      <td>4.8700</td>\n",
              "      <td>12104</td>\n",
              "      <td>0</td>\n",
              "    </tr>\n",
              "  </tbody>\n",
              "</table>\n",
              "</div>"
            ],
            "text/plain": [
              "              Mass  Diameter         pop\n",
              "Earth       5.9700     12756  8000000000\n",
              "Jupiter  1898.0000    142984           0\n",
              "Mars        0.6420      6792           0\n",
              "Mercury     0.3300      4879           0\n",
              "Moon           NaN      3475           0\n",
              "Neptune   102.0000     49528           0\n",
              "Pluto       0.0146      2370           0\n",
              "Saturn    568.0000    120536           0\n",
              "Uranus     86.8000     51118           0\n",
              "Venus       4.8700     12104           0"
            ]
          },
          "metadata": {
            "tags": []
          },
          "execution_count": 24
        }
      ]
    },
    {
      "cell_type": "code",
      "metadata": {
        "colab": {
          "base_uri": "https://localhost:8080/"
        },
        "id": "9RsI9MBDX7fx",
        "outputId": "fcba146e-0738-4033-8120-bb9691fca98c"
      },
      "source": [
        "print(df.Mass is df[\"Mass\"])\n",
        "print(df.pop is df[\"pop\"])"
      ],
      "execution_count": 25,
      "outputs": [
        {
          "output_type": "stream",
          "text": [
            "True\n",
            "False\n"
          ],
          "name": "stdout"
        }
      ]
    },
    {
      "cell_type": "code",
      "metadata": {
        "colab": {
          "base_uri": "https://localhost:8080/",
          "height": 343
        },
        "id": "utmUwFc6YIir",
        "outputId": "738aad08-b176-4ec8-c86e-8bcfa8766eca"
      },
      "source": [
        "df"
      ],
      "execution_count": 26,
      "outputs": [
        {
          "output_type": "execute_result",
          "data": {
            "text/html": [
              "<div>\n",
              "<style scoped>\n",
              "    .dataframe tbody tr th:only-of-type {\n",
              "        vertical-align: middle;\n",
              "    }\n",
              "\n",
              "    .dataframe tbody tr th {\n",
              "        vertical-align: top;\n",
              "    }\n",
              "\n",
              "    .dataframe thead th {\n",
              "        text-align: right;\n",
              "    }\n",
              "</style>\n",
              "<table border=\"1\" class=\"dataframe\">\n",
              "  <thead>\n",
              "    <tr style=\"text-align: right;\">\n",
              "      <th></th>\n",
              "      <th>Mass</th>\n",
              "      <th>Diameter</th>\n",
              "      <th>pop</th>\n",
              "    </tr>\n",
              "  </thead>\n",
              "  <tbody>\n",
              "    <tr>\n",
              "      <th>Earth</th>\n",
              "      <td>5.9700</td>\n",
              "      <td>12756</td>\n",
              "      <td>8000000000</td>\n",
              "    </tr>\n",
              "    <tr>\n",
              "      <th>Jupiter</th>\n",
              "      <td>1898.0000</td>\n",
              "      <td>142984</td>\n",
              "      <td>0</td>\n",
              "    </tr>\n",
              "    <tr>\n",
              "      <th>Mars</th>\n",
              "      <td>0.6420</td>\n",
              "      <td>6792</td>\n",
              "      <td>0</td>\n",
              "    </tr>\n",
              "    <tr>\n",
              "      <th>Mercury</th>\n",
              "      <td>0.3300</td>\n",
              "      <td>4879</td>\n",
              "      <td>0</td>\n",
              "    </tr>\n",
              "    <tr>\n",
              "      <th>Moon</th>\n",
              "      <td>NaN</td>\n",
              "      <td>3475</td>\n",
              "      <td>0</td>\n",
              "    </tr>\n",
              "    <tr>\n",
              "      <th>Neptune</th>\n",
              "      <td>102.0000</td>\n",
              "      <td>49528</td>\n",
              "      <td>0</td>\n",
              "    </tr>\n",
              "    <tr>\n",
              "      <th>Pluto</th>\n",
              "      <td>0.0146</td>\n",
              "      <td>2370</td>\n",
              "      <td>0</td>\n",
              "    </tr>\n",
              "    <tr>\n",
              "      <th>Saturn</th>\n",
              "      <td>568.0000</td>\n",
              "      <td>120536</td>\n",
              "      <td>0</td>\n",
              "    </tr>\n",
              "    <tr>\n",
              "      <th>Uranus</th>\n",
              "      <td>86.8000</td>\n",
              "      <td>51118</td>\n",
              "      <td>0</td>\n",
              "    </tr>\n",
              "    <tr>\n",
              "      <th>Venus</th>\n",
              "      <td>4.8700</td>\n",
              "      <td>12104</td>\n",
              "      <td>0</td>\n",
              "    </tr>\n",
              "  </tbody>\n",
              "</table>\n",
              "</div>"
            ],
            "text/plain": [
              "              Mass  Diameter         pop\n",
              "Earth       5.9700     12756  8000000000\n",
              "Jupiter  1898.0000    142984           0\n",
              "Mars        0.6420      6792           0\n",
              "Mercury     0.3300      4879           0\n",
              "Moon           NaN      3475           0\n",
              "Neptune   102.0000     49528           0\n",
              "Pluto       0.0146      2370           0\n",
              "Saturn    568.0000    120536           0\n",
              "Uranus     86.8000     51118           0\n",
              "Venus       4.8700     12104           0"
            ]
          },
          "metadata": {
            "tags": []
          },
          "execution_count": 26
        }
      ]
    },
    {
      "cell_type": "code",
      "metadata": {
        "colab": {
          "base_uri": "https://localhost:8080/"
        },
        "id": "58f2V23cdsi8",
        "outputId": "0d820fad-9872-493b-88a1-e3f2c8faa6aa"
      },
      "source": [
        "np.mean(df['Mass'])"
      ],
      "execution_count": 27,
      "outputs": [
        {
          "output_type": "execute_result",
          "data": {
            "text/plain": [
              "296.29184444444445"
            ]
          },
          "metadata": {
            "tags": []
          },
          "execution_count": 27
        }
      ]
    },
    {
      "cell_type": "code",
      "metadata": {
        "colab": {
          "base_uri": "https://localhost:8080/",
          "height": 343
        },
        "id": "YK4_QHGserOk",
        "outputId": "993fbe97-3894-4bd4-ca41-0820211d5b34"
      },
      "source": [
        "df"
      ],
      "execution_count": 28,
      "outputs": [
        {
          "output_type": "execute_result",
          "data": {
            "text/html": [
              "<div>\n",
              "<style scoped>\n",
              "    .dataframe tbody tr th:only-of-type {\n",
              "        vertical-align: middle;\n",
              "    }\n",
              "\n",
              "    .dataframe tbody tr th {\n",
              "        vertical-align: top;\n",
              "    }\n",
              "\n",
              "    .dataframe thead th {\n",
              "        text-align: right;\n",
              "    }\n",
              "</style>\n",
              "<table border=\"1\" class=\"dataframe\">\n",
              "  <thead>\n",
              "    <tr style=\"text-align: right;\">\n",
              "      <th></th>\n",
              "      <th>Mass</th>\n",
              "      <th>Diameter</th>\n",
              "      <th>pop</th>\n",
              "    </tr>\n",
              "  </thead>\n",
              "  <tbody>\n",
              "    <tr>\n",
              "      <th>Earth</th>\n",
              "      <td>5.9700</td>\n",
              "      <td>12756</td>\n",
              "      <td>8000000000</td>\n",
              "    </tr>\n",
              "    <tr>\n",
              "      <th>Jupiter</th>\n",
              "      <td>1898.0000</td>\n",
              "      <td>142984</td>\n",
              "      <td>0</td>\n",
              "    </tr>\n",
              "    <tr>\n",
              "      <th>Mars</th>\n",
              "      <td>0.6420</td>\n",
              "      <td>6792</td>\n",
              "      <td>0</td>\n",
              "    </tr>\n",
              "    <tr>\n",
              "      <th>Mercury</th>\n",
              "      <td>0.3300</td>\n",
              "      <td>4879</td>\n",
              "      <td>0</td>\n",
              "    </tr>\n",
              "    <tr>\n",
              "      <th>Moon</th>\n",
              "      <td>NaN</td>\n",
              "      <td>3475</td>\n",
              "      <td>0</td>\n",
              "    </tr>\n",
              "    <tr>\n",
              "      <th>Neptune</th>\n",
              "      <td>102.0000</td>\n",
              "      <td>49528</td>\n",
              "      <td>0</td>\n",
              "    </tr>\n",
              "    <tr>\n",
              "      <th>Pluto</th>\n",
              "      <td>0.0146</td>\n",
              "      <td>2370</td>\n",
              "      <td>0</td>\n",
              "    </tr>\n",
              "    <tr>\n",
              "      <th>Saturn</th>\n",
              "      <td>568.0000</td>\n",
              "      <td>120536</td>\n",
              "      <td>0</td>\n",
              "    </tr>\n",
              "    <tr>\n",
              "      <th>Uranus</th>\n",
              "      <td>86.8000</td>\n",
              "      <td>51118</td>\n",
              "      <td>0</td>\n",
              "    </tr>\n",
              "    <tr>\n",
              "      <th>Venus</th>\n",
              "      <td>4.8700</td>\n",
              "      <td>12104</td>\n",
              "      <td>0</td>\n",
              "    </tr>\n",
              "  </tbody>\n",
              "</table>\n",
              "</div>"
            ],
            "text/plain": [
              "              Mass  Diameter         pop\n",
              "Earth       5.9700     12756  8000000000\n",
              "Jupiter  1898.0000    142984           0\n",
              "Mars        0.6420      6792           0\n",
              "Mercury     0.3300      4879           0\n",
              "Moon           NaN      3475           0\n",
              "Neptune   102.0000     49528           0\n",
              "Pluto       0.0146      2370           0\n",
              "Saturn    568.0000    120536           0\n",
              "Uranus     86.8000     51118           0\n",
              "Venus       4.8700     12104           0"
            ]
          },
          "metadata": {
            "tags": []
          },
          "execution_count": 28
        }
      ]
    },
    {
      "cell_type": "code",
      "metadata": {
        "colab": {
          "base_uri": "https://localhost:8080/",
          "height": 373
        },
        "id": "ZesdABlfezGP",
        "outputId": "1d59af86-0302-4ff2-9cfd-6a185be1a467"
      },
      "source": [
        "df.loc[\"Col_mean\"] = 0\n",
        "df"
      ],
      "execution_count": 29,
      "outputs": [
        {
          "output_type": "execute_result",
          "data": {
            "text/html": [
              "<div>\n",
              "<style scoped>\n",
              "    .dataframe tbody tr th:only-of-type {\n",
              "        vertical-align: middle;\n",
              "    }\n",
              "\n",
              "    .dataframe tbody tr th {\n",
              "        vertical-align: top;\n",
              "    }\n",
              "\n",
              "    .dataframe thead th {\n",
              "        text-align: right;\n",
              "    }\n",
              "</style>\n",
              "<table border=\"1\" class=\"dataframe\">\n",
              "  <thead>\n",
              "    <tr style=\"text-align: right;\">\n",
              "      <th></th>\n",
              "      <th>Mass</th>\n",
              "      <th>Diameter</th>\n",
              "      <th>pop</th>\n",
              "    </tr>\n",
              "  </thead>\n",
              "  <tbody>\n",
              "    <tr>\n",
              "      <th>Earth</th>\n",
              "      <td>5.9700</td>\n",
              "      <td>12756</td>\n",
              "      <td>8000000000</td>\n",
              "    </tr>\n",
              "    <tr>\n",
              "      <th>Jupiter</th>\n",
              "      <td>1898.0000</td>\n",
              "      <td>142984</td>\n",
              "      <td>0</td>\n",
              "    </tr>\n",
              "    <tr>\n",
              "      <th>Mars</th>\n",
              "      <td>0.6420</td>\n",
              "      <td>6792</td>\n",
              "      <td>0</td>\n",
              "    </tr>\n",
              "    <tr>\n",
              "      <th>Mercury</th>\n",
              "      <td>0.3300</td>\n",
              "      <td>4879</td>\n",
              "      <td>0</td>\n",
              "    </tr>\n",
              "    <tr>\n",
              "      <th>Moon</th>\n",
              "      <td>NaN</td>\n",
              "      <td>3475</td>\n",
              "      <td>0</td>\n",
              "    </tr>\n",
              "    <tr>\n",
              "      <th>Neptune</th>\n",
              "      <td>102.0000</td>\n",
              "      <td>49528</td>\n",
              "      <td>0</td>\n",
              "    </tr>\n",
              "    <tr>\n",
              "      <th>Pluto</th>\n",
              "      <td>0.0146</td>\n",
              "      <td>2370</td>\n",
              "      <td>0</td>\n",
              "    </tr>\n",
              "    <tr>\n",
              "      <th>Saturn</th>\n",
              "      <td>568.0000</td>\n",
              "      <td>120536</td>\n",
              "      <td>0</td>\n",
              "    </tr>\n",
              "    <tr>\n",
              "      <th>Uranus</th>\n",
              "      <td>86.8000</td>\n",
              "      <td>51118</td>\n",
              "      <td>0</td>\n",
              "    </tr>\n",
              "    <tr>\n",
              "      <th>Venus</th>\n",
              "      <td>4.8700</td>\n",
              "      <td>12104</td>\n",
              "      <td>0</td>\n",
              "    </tr>\n",
              "    <tr>\n",
              "      <th>Col_mean</th>\n",
              "      <td>0.0000</td>\n",
              "      <td>0</td>\n",
              "      <td>0</td>\n",
              "    </tr>\n",
              "  </tbody>\n",
              "</table>\n",
              "</div>"
            ],
            "text/plain": [
              "               Mass  Diameter         pop\n",
              "Earth        5.9700     12756  8000000000\n",
              "Jupiter   1898.0000    142984           0\n",
              "Mars         0.6420      6792           0\n",
              "Mercury      0.3300      4879           0\n",
              "Moon            NaN      3475           0\n",
              "Neptune    102.0000     49528           0\n",
              "Pluto        0.0146      2370           0\n",
              "Saturn     568.0000    120536           0\n",
              "Uranus      86.8000     51118           0\n",
              "Venus        4.8700     12104           0\n",
              "Col_mean     0.0000         0           0"
            ]
          },
          "metadata": {
            "tags": []
          },
          "execution_count": 29
        }
      ]
    },
    {
      "cell_type": "code",
      "metadata": {
        "colab": {
          "base_uri": "https://localhost:8080/",
          "height": 373
        },
        "id": "g-pmGxnngxt-",
        "outputId": "d7735d18-bb1c-4a42-d4d6-d765cc44010d"
      },
      "source": [
        " df.loc[\"Col_mean\"] = np.mean(df).values\n",
        " df"
      ],
      "execution_count": 30,
      "outputs": [
        {
          "output_type": "execute_result",
          "data": {
            "text/html": [
              "<div>\n",
              "<style scoped>\n",
              "    .dataframe tbody tr th:only-of-type {\n",
              "        vertical-align: middle;\n",
              "    }\n",
              "\n",
              "    .dataframe tbody tr th {\n",
              "        vertical-align: top;\n",
              "    }\n",
              "\n",
              "    .dataframe thead th {\n",
              "        text-align: right;\n",
              "    }\n",
              "</style>\n",
              "<table border=\"1\" class=\"dataframe\">\n",
              "  <thead>\n",
              "    <tr style=\"text-align: right;\">\n",
              "      <th></th>\n",
              "      <th>Mass</th>\n",
              "      <th>Diameter</th>\n",
              "      <th>pop</th>\n",
              "    </tr>\n",
              "  </thead>\n",
              "  <tbody>\n",
              "    <tr>\n",
              "      <th>Earth</th>\n",
              "      <td>5.97000</td>\n",
              "      <td>12756.000000</td>\n",
              "      <td>8.000000e+09</td>\n",
              "    </tr>\n",
              "    <tr>\n",
              "      <th>Jupiter</th>\n",
              "      <td>1898.00000</td>\n",
              "      <td>142984.000000</td>\n",
              "      <td>0.000000e+00</td>\n",
              "    </tr>\n",
              "    <tr>\n",
              "      <th>Mars</th>\n",
              "      <td>0.64200</td>\n",
              "      <td>6792.000000</td>\n",
              "      <td>0.000000e+00</td>\n",
              "    </tr>\n",
              "    <tr>\n",
              "      <th>Mercury</th>\n",
              "      <td>0.33000</td>\n",
              "      <td>4879.000000</td>\n",
              "      <td>0.000000e+00</td>\n",
              "    </tr>\n",
              "    <tr>\n",
              "      <th>Moon</th>\n",
              "      <td>NaN</td>\n",
              "      <td>3475.000000</td>\n",
              "      <td>0.000000e+00</td>\n",
              "    </tr>\n",
              "    <tr>\n",
              "      <th>Neptune</th>\n",
              "      <td>102.00000</td>\n",
              "      <td>49528.000000</td>\n",
              "      <td>0.000000e+00</td>\n",
              "    </tr>\n",
              "    <tr>\n",
              "      <th>Pluto</th>\n",
              "      <td>0.01460</td>\n",
              "      <td>2370.000000</td>\n",
              "      <td>0.000000e+00</td>\n",
              "    </tr>\n",
              "    <tr>\n",
              "      <th>Saturn</th>\n",
              "      <td>568.00000</td>\n",
              "      <td>120536.000000</td>\n",
              "      <td>0.000000e+00</td>\n",
              "    </tr>\n",
              "    <tr>\n",
              "      <th>Uranus</th>\n",
              "      <td>86.80000</td>\n",
              "      <td>51118.000000</td>\n",
              "      <td>0.000000e+00</td>\n",
              "    </tr>\n",
              "    <tr>\n",
              "      <th>Venus</th>\n",
              "      <td>4.87000</td>\n",
              "      <td>12104.000000</td>\n",
              "      <td>0.000000e+00</td>\n",
              "    </tr>\n",
              "    <tr>\n",
              "      <th>Col_mean</th>\n",
              "      <td>266.66266</td>\n",
              "      <td>36958.363636</td>\n",
              "      <td>7.272727e+08</td>\n",
              "    </tr>\n",
              "  </tbody>\n",
              "</table>\n",
              "</div>"
            ],
            "text/plain": [
              "                Mass       Diameter           pop\n",
              "Earth        5.97000   12756.000000  8.000000e+09\n",
              "Jupiter   1898.00000  142984.000000  0.000000e+00\n",
              "Mars         0.64200    6792.000000  0.000000e+00\n",
              "Mercury      0.33000    4879.000000  0.000000e+00\n",
              "Moon             NaN    3475.000000  0.000000e+00\n",
              "Neptune    102.00000   49528.000000  0.000000e+00\n",
              "Pluto        0.01460    2370.000000  0.000000e+00\n",
              "Saturn     568.00000  120536.000000  0.000000e+00\n",
              "Uranus      86.80000   51118.000000  0.000000e+00\n",
              "Venus        4.87000   12104.000000  0.000000e+00\n",
              "Col_mean   266.66266   36958.363636  7.272727e+08"
            ]
          },
          "metadata": {
            "tags": []
          },
          "execution_count": 30
        }
      ]
    },
    {
      "cell_type": "code",
      "metadata": {
        "colab": {
          "base_uri": "https://localhost:8080/",
          "height": 343
        },
        "id": "wB_CY20kiEY0",
        "outputId": "2a49bcbb-d0fb-416e-a22a-8a452bb3ce0b"
      },
      "source": [
        "df.drop('Col_mean', inplace=True)\n",
        "df.drop('pop', axis=1, inplace=True)\n",
        "df\n"
      ],
      "execution_count": 31,
      "outputs": [
        {
          "output_type": "execute_result",
          "data": {
            "text/html": [
              "<div>\n",
              "<style scoped>\n",
              "    .dataframe tbody tr th:only-of-type {\n",
              "        vertical-align: middle;\n",
              "    }\n",
              "\n",
              "    .dataframe tbody tr th {\n",
              "        vertical-align: top;\n",
              "    }\n",
              "\n",
              "    .dataframe thead th {\n",
              "        text-align: right;\n",
              "    }\n",
              "</style>\n",
              "<table border=\"1\" class=\"dataframe\">\n",
              "  <thead>\n",
              "    <tr style=\"text-align: right;\">\n",
              "      <th></th>\n",
              "      <th>Mass</th>\n",
              "      <th>Diameter</th>\n",
              "    </tr>\n",
              "  </thead>\n",
              "  <tbody>\n",
              "    <tr>\n",
              "      <th>Earth</th>\n",
              "      <td>5.9700</td>\n",
              "      <td>12756.0</td>\n",
              "    </tr>\n",
              "    <tr>\n",
              "      <th>Jupiter</th>\n",
              "      <td>1898.0000</td>\n",
              "      <td>142984.0</td>\n",
              "    </tr>\n",
              "    <tr>\n",
              "      <th>Mars</th>\n",
              "      <td>0.6420</td>\n",
              "      <td>6792.0</td>\n",
              "    </tr>\n",
              "    <tr>\n",
              "      <th>Mercury</th>\n",
              "      <td>0.3300</td>\n",
              "      <td>4879.0</td>\n",
              "    </tr>\n",
              "    <tr>\n",
              "      <th>Moon</th>\n",
              "      <td>NaN</td>\n",
              "      <td>3475.0</td>\n",
              "    </tr>\n",
              "    <tr>\n",
              "      <th>Neptune</th>\n",
              "      <td>102.0000</td>\n",
              "      <td>49528.0</td>\n",
              "    </tr>\n",
              "    <tr>\n",
              "      <th>Pluto</th>\n",
              "      <td>0.0146</td>\n",
              "      <td>2370.0</td>\n",
              "    </tr>\n",
              "    <tr>\n",
              "      <th>Saturn</th>\n",
              "      <td>568.0000</td>\n",
              "      <td>120536.0</td>\n",
              "    </tr>\n",
              "    <tr>\n",
              "      <th>Uranus</th>\n",
              "      <td>86.8000</td>\n",
              "      <td>51118.0</td>\n",
              "    </tr>\n",
              "    <tr>\n",
              "      <th>Venus</th>\n",
              "      <td>4.8700</td>\n",
              "      <td>12104.0</td>\n",
              "    </tr>\n",
              "  </tbody>\n",
              "</table>\n",
              "</div>"
            ],
            "text/plain": [
              "              Mass  Diameter\n",
              "Earth       5.9700   12756.0\n",
              "Jupiter  1898.0000  142984.0\n",
              "Mars        0.6420    6792.0\n",
              "Mercury     0.3300    4879.0\n",
              "Moon           NaN    3475.0\n",
              "Neptune   102.0000   49528.0\n",
              "Pluto       0.0146    2370.0\n",
              "Saturn    568.0000  120536.0\n",
              "Uranus     86.8000   51118.0\n",
              "Venus       4.8700   12104.0"
            ]
          },
          "metadata": {
            "tags": []
          },
          "execution_count": 31
        }
      ]
    },
    {
      "cell_type": "code",
      "metadata": {
        "colab": {
          "base_uri": "https://localhost:8080/",
          "height": 373
        },
        "id": "fJyRNUPRjaIk",
        "outputId": "f971c917-0a15-43f4-d8f5-d8fe2cd1819c"
      },
      "source": [
        "df.loc[\"Col_mean\"] = np.mean(df).values\n",
        "df"
      ],
      "execution_count": 32,
      "outputs": [
        {
          "output_type": "execute_result",
          "data": {
            "text/html": [
              "<div>\n",
              "<style scoped>\n",
              "    .dataframe tbody tr th:only-of-type {\n",
              "        vertical-align: middle;\n",
              "    }\n",
              "\n",
              "    .dataframe tbody tr th {\n",
              "        vertical-align: top;\n",
              "    }\n",
              "\n",
              "    .dataframe thead th {\n",
              "        text-align: right;\n",
              "    }\n",
              "</style>\n",
              "<table border=\"1\" class=\"dataframe\">\n",
              "  <thead>\n",
              "    <tr style=\"text-align: right;\">\n",
              "      <th></th>\n",
              "      <th>Mass</th>\n",
              "      <th>Diameter</th>\n",
              "    </tr>\n",
              "  </thead>\n",
              "  <tbody>\n",
              "    <tr>\n",
              "      <th>Earth</th>\n",
              "      <td>5.970000</td>\n",
              "      <td>12756.0</td>\n",
              "    </tr>\n",
              "    <tr>\n",
              "      <th>Jupiter</th>\n",
              "      <td>1898.000000</td>\n",
              "      <td>142984.0</td>\n",
              "    </tr>\n",
              "    <tr>\n",
              "      <th>Mars</th>\n",
              "      <td>0.642000</td>\n",
              "      <td>6792.0</td>\n",
              "    </tr>\n",
              "    <tr>\n",
              "      <th>Mercury</th>\n",
              "      <td>0.330000</td>\n",
              "      <td>4879.0</td>\n",
              "    </tr>\n",
              "    <tr>\n",
              "      <th>Moon</th>\n",
              "      <td>NaN</td>\n",
              "      <td>3475.0</td>\n",
              "    </tr>\n",
              "    <tr>\n",
              "      <th>Neptune</th>\n",
              "      <td>102.000000</td>\n",
              "      <td>49528.0</td>\n",
              "    </tr>\n",
              "    <tr>\n",
              "      <th>Pluto</th>\n",
              "      <td>0.014600</td>\n",
              "      <td>2370.0</td>\n",
              "    </tr>\n",
              "    <tr>\n",
              "      <th>Saturn</th>\n",
              "      <td>568.000000</td>\n",
              "      <td>120536.0</td>\n",
              "    </tr>\n",
              "    <tr>\n",
              "      <th>Uranus</th>\n",
              "      <td>86.800000</td>\n",
              "      <td>51118.0</td>\n",
              "    </tr>\n",
              "    <tr>\n",
              "      <th>Venus</th>\n",
              "      <td>4.870000</td>\n",
              "      <td>12104.0</td>\n",
              "    </tr>\n",
              "    <tr>\n",
              "      <th>Col_mean</th>\n",
              "      <td>296.291844</td>\n",
              "      <td>40654.2</td>\n",
              "    </tr>\n",
              "  </tbody>\n",
              "</table>\n",
              "</div>"
            ],
            "text/plain": [
              "                 Mass  Diameter\n",
              "Earth        5.970000   12756.0\n",
              "Jupiter   1898.000000  142984.0\n",
              "Mars         0.642000    6792.0\n",
              "Mercury      0.330000    4879.0\n",
              "Moon              NaN    3475.0\n",
              "Neptune    102.000000   49528.0\n",
              "Pluto        0.014600    2370.0\n",
              "Saturn     568.000000  120536.0\n",
              "Uranus      86.800000   51118.0\n",
              "Venus        4.870000   12104.0\n",
              "Col_mean   296.291844   40654.2"
            ]
          },
          "metadata": {
            "tags": []
          },
          "execution_count": 32
        }
      ]
    },
    {
      "cell_type": "code",
      "metadata": {
        "colab": {
          "base_uri": "https://localhost:8080/",
          "height": 195
        },
        "id": "J6TtjM-jkLGg",
        "outputId": "7611302b-059c-43aa-ba74-62fa55b75c3c"
      },
      "source": [
        "df = create_df(5, 3)\n",
        "df"
      ],
      "execution_count": 33,
      "outputs": [
        {
          "output_type": "execute_result",
          "data": {
            "text/html": [
              "<div>\n",
              "<style scoped>\n",
              "    .dataframe tbody tr th:only-of-type {\n",
              "        vertical-align: middle;\n",
              "    }\n",
              "\n",
              "    .dataframe tbody tr th {\n",
              "        vertical-align: top;\n",
              "    }\n",
              "\n",
              "    .dataframe thead th {\n",
              "        text-align: right;\n",
              "    }\n",
              "</style>\n",
              "<table border=\"1\" class=\"dataframe\">\n",
              "  <thead>\n",
              "    <tr style=\"text-align: right;\">\n",
              "      <th></th>\n",
              "      <th>C1</th>\n",
              "      <th>C2</th>\n",
              "      <th>C3</th>\n",
              "    </tr>\n",
              "  </thead>\n",
              "  <tbody>\n",
              "    <tr>\n",
              "      <th>R1</th>\n",
              "      <td>3</td>\n",
              "      <td>9</td>\n",
              "      <td>0</td>\n",
              "    </tr>\n",
              "    <tr>\n",
              "      <th>R2</th>\n",
              "      <td>3</td>\n",
              "      <td>8</td>\n",
              "      <td>2</td>\n",
              "    </tr>\n",
              "    <tr>\n",
              "      <th>R3</th>\n",
              "      <td>8</td>\n",
              "      <td>7</td>\n",
              "      <td>2</td>\n",
              "    </tr>\n",
              "    <tr>\n",
              "      <th>R4</th>\n",
              "      <td>6</td>\n",
              "      <td>2</td>\n",
              "      <td>4</td>\n",
              "    </tr>\n",
              "    <tr>\n",
              "      <th>R5</th>\n",
              "      <td>8</td>\n",
              "      <td>3</td>\n",
              "      <td>0</td>\n",
              "    </tr>\n",
              "  </tbody>\n",
              "</table>\n",
              "</div>"
            ],
            "text/plain": [
              "    C1  C2  C3\n",
              "R1   3   9   0\n",
              "R2   3   8   2\n",
              "R3   8   7   2\n",
              "R4   6   2   4\n",
              "R5   8   3   0"
            ]
          },
          "metadata": {
            "tags": []
          },
          "execution_count": 33
        }
      ]
    },
    {
      "cell_type": "code",
      "metadata": {
        "id": "iZoUsTykku9T"
      },
      "source": [
        ""
      ],
      "execution_count": 33,
      "outputs": []
    },
    {
      "cell_type": "code",
      "metadata": {
        "colab": {
          "base_uri": "https://localhost:8080/",
          "height": 225
        },
        "id": "gM3S9GqokMsw",
        "outputId": "18f1909a-2668-49f8-bc16-6f7620f10556"
      },
      "source": [
        "df.loc[\"Col_Mean\"] = np.mean(df).values\n",
        "df[\"Row_mean\"] = np.mean(df, axis=1).values\n",
        "df"
      ],
      "execution_count": 34,
      "outputs": [
        {
          "output_type": "execute_result",
          "data": {
            "text/html": [
              "<div>\n",
              "<style scoped>\n",
              "    .dataframe tbody tr th:only-of-type {\n",
              "        vertical-align: middle;\n",
              "    }\n",
              "\n",
              "    .dataframe tbody tr th {\n",
              "        vertical-align: top;\n",
              "    }\n",
              "\n",
              "    .dataframe thead th {\n",
              "        text-align: right;\n",
              "    }\n",
              "</style>\n",
              "<table border=\"1\" class=\"dataframe\">\n",
              "  <thead>\n",
              "    <tr style=\"text-align: right;\">\n",
              "      <th></th>\n",
              "      <th>C1</th>\n",
              "      <th>C2</th>\n",
              "      <th>C3</th>\n",
              "      <th>Row_mean</th>\n",
              "    </tr>\n",
              "  </thead>\n",
              "  <tbody>\n",
              "    <tr>\n",
              "      <th>R1</th>\n",
              "      <td>3.0</td>\n",
              "      <td>9.0</td>\n",
              "      <td>0.0</td>\n",
              "      <td>4.000000</td>\n",
              "    </tr>\n",
              "    <tr>\n",
              "      <th>R2</th>\n",
              "      <td>3.0</td>\n",
              "      <td>8.0</td>\n",
              "      <td>2.0</td>\n",
              "      <td>4.333333</td>\n",
              "    </tr>\n",
              "    <tr>\n",
              "      <th>R3</th>\n",
              "      <td>8.0</td>\n",
              "      <td>7.0</td>\n",
              "      <td>2.0</td>\n",
              "      <td>5.666667</td>\n",
              "    </tr>\n",
              "    <tr>\n",
              "      <th>R4</th>\n",
              "      <td>6.0</td>\n",
              "      <td>2.0</td>\n",
              "      <td>4.0</td>\n",
              "      <td>4.000000</td>\n",
              "    </tr>\n",
              "    <tr>\n",
              "      <th>R5</th>\n",
              "      <td>8.0</td>\n",
              "      <td>3.0</td>\n",
              "      <td>0.0</td>\n",
              "      <td>3.666667</td>\n",
              "    </tr>\n",
              "    <tr>\n",
              "      <th>Col_Mean</th>\n",
              "      <td>5.6</td>\n",
              "      <td>5.8</td>\n",
              "      <td>1.6</td>\n",
              "      <td>4.333333</td>\n",
              "    </tr>\n",
              "  </tbody>\n",
              "</table>\n",
              "</div>"
            ],
            "text/plain": [
              "           C1   C2   C3  Row_mean\n",
              "R1        3.0  9.0  0.0  4.000000\n",
              "R2        3.0  8.0  2.0  4.333333\n",
              "R3        8.0  7.0  2.0  5.666667\n",
              "R4        6.0  2.0  4.0  4.000000\n",
              "R5        8.0  3.0  0.0  3.666667\n",
              "Col_Mean  5.6  5.8  1.6  4.333333"
            ]
          },
          "metadata": {
            "tags": []
          },
          "execution_count": 34
        }
      ]
    },
    {
      "cell_type": "code",
      "metadata": {
        "colab": {
          "base_uri": "https://localhost:8080/",
          "height": 284
        },
        "id": "jvCjrFS2lT1H",
        "outputId": "6c110e7b-3c17-4ff0-b2b6-d0dadf966705"
      },
      "source": [
        "mass = pd.Series([0.33, 4.87, 5.97, 0.642, 1898, 568, 86.8, 102, 0.0146], \n",
        "                 index=['Mercury', 'Venus', 'Earth', 'Mars', 'Jupiter', 'Saturn', 'Uranus', 'Neptune', 'Pluto'])\n",
        "diameter = pd.Series([4879, 12104, 12756, 3475, 6792, 142984, 120536, 51118, 49528, 2370], \n",
        "                     index=['Mercury', 'Venus', 'Earth', 'Moon', 'Mars', 'Jupiter', 'Saturn', 'Uranus', 'Neptune', 'Pluto'])\n",
        "dict1 = {'mass': mass, 'diameter': diameter}\n",
        "planets = pd.DataFrame(dict1)\n",
        "planets.describe()"
      ],
      "execution_count": 35,
      "outputs": [
        {
          "output_type": "execute_result",
          "data": {
            "text/html": [
              "<div>\n",
              "<style scoped>\n",
              "    .dataframe tbody tr th:only-of-type {\n",
              "        vertical-align: middle;\n",
              "    }\n",
              "\n",
              "    .dataframe tbody tr th {\n",
              "        vertical-align: top;\n",
              "    }\n",
              "\n",
              "    .dataframe thead th {\n",
              "        text-align: right;\n",
              "    }\n",
              "</style>\n",
              "<table border=\"1\" class=\"dataframe\">\n",
              "  <thead>\n",
              "    <tr style=\"text-align: right;\">\n",
              "      <th></th>\n",
              "      <th>mass</th>\n",
              "      <th>diameter</th>\n",
              "    </tr>\n",
              "  </thead>\n",
              "  <tbody>\n",
              "    <tr>\n",
              "      <th>count</th>\n",
              "      <td>9.000000</td>\n",
              "      <td>10.00000</td>\n",
              "    </tr>\n",
              "    <tr>\n",
              "      <th>mean</th>\n",
              "      <td>296.291844</td>\n",
              "      <td>40654.20000</td>\n",
              "    </tr>\n",
              "    <tr>\n",
              "      <th>std</th>\n",
              "      <td>627.786429</td>\n",
              "      <td>51541.39142</td>\n",
              "    </tr>\n",
              "    <tr>\n",
              "      <th>min</th>\n",
              "      <td>0.014600</td>\n",
              "      <td>2370.00000</td>\n",
              "    </tr>\n",
              "    <tr>\n",
              "      <th>25%</th>\n",
              "      <td>0.642000</td>\n",
              "      <td>5357.25000</td>\n",
              "    </tr>\n",
              "    <tr>\n",
              "      <th>50%</th>\n",
              "      <td>5.970000</td>\n",
              "      <td>12430.00000</td>\n",
              "    </tr>\n",
              "    <tr>\n",
              "      <th>75%</th>\n",
              "      <td>102.000000</td>\n",
              "      <td>50720.50000</td>\n",
              "    </tr>\n",
              "    <tr>\n",
              "      <th>max</th>\n",
              "      <td>1898.000000</td>\n",
              "      <td>142984.00000</td>\n",
              "    </tr>\n",
              "  </tbody>\n",
              "</table>\n",
              "</div>"
            ],
            "text/plain": [
              "              mass      diameter\n",
              "count     9.000000      10.00000\n",
              "mean    296.291844   40654.20000\n",
              "std     627.786429   51541.39142\n",
              "min       0.014600    2370.00000\n",
              "25%       0.642000    5357.25000\n",
              "50%       5.970000   12430.00000\n",
              "75%     102.000000   50720.50000\n",
              "max    1898.000000  142984.00000"
            ]
          },
          "metadata": {
            "tags": []
          },
          "execution_count": 35
        }
      ]
    },
    {
      "cell_type": "code",
      "metadata": {
        "id": "7099tIl9lnhL"
      },
      "source": [
        "import seaborn as sns"
      ],
      "execution_count": 36,
      "outputs": []
    },
    {
      "cell_type": "code",
      "metadata": {
        "id": "5_OxjyROltJn"
      },
      "source": [
        "planets = sns.load_dataset('planets')"
      ],
      "execution_count": 37,
      "outputs": []
    },
    {
      "cell_type": "code",
      "metadata": {
        "colab": {
          "base_uri": "https://localhost:8080/",
          "height": 195
        },
        "id": "AEtCc4_9lzbH",
        "outputId": "13dc30d8-e60c-41c8-c6ab-5c57e02b7afd"
      },
      "source": [
        "planets.head()"
      ],
      "execution_count": 38,
      "outputs": [
        {
          "output_type": "execute_result",
          "data": {
            "text/html": [
              "<div>\n",
              "<style scoped>\n",
              "    .dataframe tbody tr th:only-of-type {\n",
              "        vertical-align: middle;\n",
              "    }\n",
              "\n",
              "    .dataframe tbody tr th {\n",
              "        vertical-align: top;\n",
              "    }\n",
              "\n",
              "    .dataframe thead th {\n",
              "        text-align: right;\n",
              "    }\n",
              "</style>\n",
              "<table border=\"1\" class=\"dataframe\">\n",
              "  <thead>\n",
              "    <tr style=\"text-align: right;\">\n",
              "      <th></th>\n",
              "      <th>method</th>\n",
              "      <th>number</th>\n",
              "      <th>orbital_period</th>\n",
              "      <th>mass</th>\n",
              "      <th>distance</th>\n",
              "      <th>year</th>\n",
              "    </tr>\n",
              "  </thead>\n",
              "  <tbody>\n",
              "    <tr>\n",
              "      <th>0</th>\n",
              "      <td>Radial Velocity</td>\n",
              "      <td>1</td>\n",
              "      <td>269.300</td>\n",
              "      <td>7.10</td>\n",
              "      <td>77.40</td>\n",
              "      <td>2006</td>\n",
              "    </tr>\n",
              "    <tr>\n",
              "      <th>1</th>\n",
              "      <td>Radial Velocity</td>\n",
              "      <td>1</td>\n",
              "      <td>874.774</td>\n",
              "      <td>2.21</td>\n",
              "      <td>56.95</td>\n",
              "      <td>2008</td>\n",
              "    </tr>\n",
              "    <tr>\n",
              "      <th>2</th>\n",
              "      <td>Radial Velocity</td>\n",
              "      <td>1</td>\n",
              "      <td>763.000</td>\n",
              "      <td>2.60</td>\n",
              "      <td>19.84</td>\n",
              "      <td>2011</td>\n",
              "    </tr>\n",
              "    <tr>\n",
              "      <th>3</th>\n",
              "      <td>Radial Velocity</td>\n",
              "      <td>1</td>\n",
              "      <td>326.030</td>\n",
              "      <td>19.40</td>\n",
              "      <td>110.62</td>\n",
              "      <td>2007</td>\n",
              "    </tr>\n",
              "    <tr>\n",
              "      <th>4</th>\n",
              "      <td>Radial Velocity</td>\n",
              "      <td>1</td>\n",
              "      <td>516.220</td>\n",
              "      <td>10.50</td>\n",
              "      <td>119.47</td>\n",
              "      <td>2009</td>\n",
              "    </tr>\n",
              "  </tbody>\n",
              "</table>\n",
              "</div>"
            ],
            "text/plain": [
              "            method  number  orbital_period   mass  distance  year\n",
              "0  Radial Velocity       1         269.300   7.10     77.40  2006\n",
              "1  Radial Velocity       1         874.774   2.21     56.95  2008\n",
              "2  Radial Velocity       1         763.000   2.60     19.84  2011\n",
              "3  Radial Velocity       1         326.030  19.40    110.62  2007\n",
              "4  Radial Velocity       1         516.220  10.50    119.47  2009"
            ]
          },
          "metadata": {
            "tags": []
          },
          "execution_count": 38
        }
      ]
    },
    {
      "cell_type": "code",
      "metadata": {
        "colab": {
          "base_uri": "https://localhost:8080/"
        },
        "id": "cAC0O6o8lv19",
        "outputId": "7cd817ed-5c19-4a9c-a403-c523663672c2"
      },
      "source": [
        "planets.info()"
      ],
      "execution_count": 39,
      "outputs": [
        {
          "output_type": "stream",
          "text": [
            "<class 'pandas.core.frame.DataFrame'>\n",
            "RangeIndex: 1035 entries, 0 to 1034\n",
            "Data columns (total 6 columns):\n",
            " #   Column          Non-Null Count  Dtype  \n",
            "---  ------          --------------  -----  \n",
            " 0   method          1035 non-null   object \n",
            " 1   number          1035 non-null   int64  \n",
            " 2   orbital_period  992 non-null    float64\n",
            " 3   mass            513 non-null    float64\n",
            " 4   distance        808 non-null    float64\n",
            " 5   year            1035 non-null   int64  \n",
            "dtypes: float64(3), int64(2), object(1)\n",
            "memory usage: 48.6+ KB\n"
          ],
          "name": "stdout"
        }
      ]
    },
    {
      "cell_type": "markdown",
      "metadata": {
        "id": "nSlxf_39l8Yz"
      },
      "source": [
        "## Go through each row of the dataframe and delete it (drop) if any of the columns is null\n",
        "\n"
      ]
    },
    {
      "cell_type": "code",
      "metadata": {
        "colab": {
          "base_uri": "https://localhost:8080/"
        },
        "id": "Vog9e-3Vl_YC",
        "outputId": "5d4932c9-93b0-4dba-e819-eabc445e8f35"
      },
      "source": [
        "planets.dropna(inplace=True)\n",
        "planets.info()"
      ],
      "execution_count": 40,
      "outputs": [
        {
          "output_type": "stream",
          "text": [
            "<class 'pandas.core.frame.DataFrame'>\n",
            "Int64Index: 498 entries, 0 to 784\n",
            "Data columns (total 6 columns):\n",
            " #   Column          Non-Null Count  Dtype  \n",
            "---  ------          --------------  -----  \n",
            " 0   method          498 non-null    object \n",
            " 1   number          498 non-null    int64  \n",
            " 2   orbital_period  498 non-null    float64\n",
            " 3   mass            498 non-null    float64\n",
            " 4   distance        498 non-null    float64\n",
            " 5   year            498 non-null    int64  \n",
            "dtypes: float64(3), int64(2), object(1)\n",
            "memory usage: 27.2+ KB\n"
          ],
          "name": "stdout"
        }
      ]
    },
    {
      "cell_type": "markdown",
      "metadata": {
        "id": "1XtDjA2DnIhp"
      },
      "source": [
        "## Filter and show only those rows which have \n",
        "* planets that are found in the 2010s and \n",
        "* method is 'Radial Velocity' or 'Transit' and \n",
        "* distance is large (> 75 percentile)\n",
        "\n"
      ]
    },
    {
      "cell_type": "code",
      "metadata": {
        "id": "mAqRzCezq55W"
      },
      "source": [
        "df_ = planets.copy()\n",
        "per_75 = df_.distance.quantile(0.75)\n",
        "df_ = df_[\n",
        "    (df_['year'] >= 2010) &\n",
        "    ((df_['method'] == 'Radial Velocity') | (df_['method'] == 'Transit')) &\n",
        "    (df_['distance'] > per_75)\n",
        "]"
      ],
      "execution_count": 41,
      "outputs": []
    },
    {
      "cell_type": "code",
      "metadata": {
        "colab": {
          "base_uri": "https://localhost:8080/",
          "height": 284
        },
        "id": "hZU7VWDesPBe",
        "outputId": "06c7cd48-9147-4fda-f6e2-4255c20c2683"
      },
      "source": [
        "df_.describe()"
      ],
      "execution_count": 42,
      "outputs": [
        {
          "output_type": "execute_result",
          "data": {
            "text/html": [
              "<div>\n",
              "<style scoped>\n",
              "    .dataframe tbody tr th:only-of-type {\n",
              "        vertical-align: middle;\n",
              "    }\n",
              "\n",
              "    .dataframe tbody tr th {\n",
              "        vertical-align: top;\n",
              "    }\n",
              "\n",
              "    .dataframe thead th {\n",
              "        text-align: right;\n",
              "    }\n",
              "</style>\n",
              "<table border=\"1\" class=\"dataframe\">\n",
              "  <thead>\n",
              "    <tr style=\"text-align: right;\">\n",
              "      <th></th>\n",
              "      <th>number</th>\n",
              "      <th>orbital_period</th>\n",
              "      <th>mass</th>\n",
              "      <th>distance</th>\n",
              "      <th>year</th>\n",
              "    </tr>\n",
              "  </thead>\n",
              "  <tbody>\n",
              "    <tr>\n",
              "      <th>count</th>\n",
              "      <td>50.000000</td>\n",
              "      <td>50.000000</td>\n",
              "      <td>50.000000</td>\n",
              "      <td>50.000000</td>\n",
              "      <td>50.000000</td>\n",
              "    </tr>\n",
              "    <tr>\n",
              "      <th>mean</th>\n",
              "      <td>1.300000</td>\n",
              "      <td>763.904808</td>\n",
              "      <td>3.322740</td>\n",
              "      <td>133.142600</td>\n",
              "      <td>2011.360000</td>\n",
              "    </tr>\n",
              "    <tr>\n",
              "      <th>std</th>\n",
              "      <td>0.505076</td>\n",
              "      <td>966.789870</td>\n",
              "      <td>3.648002</td>\n",
              "      <td>70.378699</td>\n",
              "      <td>1.120496</td>\n",
              "    </tr>\n",
              "    <tr>\n",
              "      <th>min</th>\n",
              "      <td>1.000000</td>\n",
              "      <td>2.703390</td>\n",
              "      <td>0.770000</td>\n",
              "      <td>65.620000</td>\n",
              "      <td>2010.000000</td>\n",
              "    </tr>\n",
              "    <tr>\n",
              "      <th>25%</th>\n",
              "      <td>1.000000</td>\n",
              "      <td>255.555000</td>\n",
              "      <td>1.325000</td>\n",
              "      <td>80.205000</td>\n",
              "      <td>2011.000000</td>\n",
              "    </tr>\n",
              "    <tr>\n",
              "      <th>50%</th>\n",
              "      <td>1.000000</td>\n",
              "      <td>550.500000</td>\n",
              "      <td>1.875000</td>\n",
              "      <td>121.070000</td>\n",
              "      <td>2011.000000</td>\n",
              "    </tr>\n",
              "    <tr>\n",
              "      <th>75%</th>\n",
              "      <td>2.000000</td>\n",
              "      <td>873.625000</td>\n",
              "      <td>3.400000</td>\n",
              "      <td>150.097500</td>\n",
              "      <td>2012.000000</td>\n",
              "    </tr>\n",
              "    <tr>\n",
              "      <th>max</th>\n",
              "      <td>3.000000</td>\n",
              "      <td>5584.000000</td>\n",
              "      <td>20.600000</td>\n",
              "      <td>354.000000</td>\n",
              "      <td>2014.000000</td>\n",
              "    </tr>\n",
              "  </tbody>\n",
              "</table>\n",
              "</div>"
            ],
            "text/plain": [
              "          number  orbital_period       mass    distance         year\n",
              "count  50.000000       50.000000  50.000000   50.000000    50.000000\n",
              "mean    1.300000      763.904808   3.322740  133.142600  2011.360000\n",
              "std     0.505076      966.789870   3.648002   70.378699     1.120496\n",
              "min     1.000000        2.703390   0.770000   65.620000  2010.000000\n",
              "25%     1.000000      255.555000   1.325000   80.205000  2011.000000\n",
              "50%     1.000000      550.500000   1.875000  121.070000  2011.000000\n",
              "75%     2.000000      873.625000   3.400000  150.097500  2012.000000\n",
              "max     3.000000     5584.000000  20.600000  354.000000  2014.000000"
            ]
          },
          "metadata": {
            "tags": []
          },
          "execution_count": 42
        }
      ]
    },
    {
      "cell_type": "markdown",
      "metadata": {
        "id": "ssAx6Ymevj_l"
      },
      "source": [
        "## Modify the method column to have only the abbreviation of each method\n",
        "\n"
      ]
    },
    {
      "cell_type": "code",
      "metadata": {
        "id": "TkPzrH1vzYBZ"
      },
      "source": [
        "planets = sns.load_dataset('planets')"
      ],
      "execution_count": 43,
      "outputs": []
    },
    {
      "cell_type": "code",
      "metadata": {
        "colab": {
          "base_uri": "https://localhost:8080/"
        },
        "id": "Xmu4EhjGvlmY",
        "outputId": "634c4599-26f6-4fca-9023-2ba5e652fb55"
      },
      "source": [
        "planets.method.unique()"
      ],
      "execution_count": 44,
      "outputs": [
        {
          "output_type": "execute_result",
          "data": {
            "text/plain": [
              "array(['Radial Velocity', 'Imaging', 'Eclipse Timing Variations',\n",
              "       'Transit', 'Astrometry', 'Transit Timing Variations',\n",
              "       'Orbital Brightness Modulation', 'Microlensing', 'Pulsar Timing',\n",
              "       'Pulsation Timing Variations'], dtype=object)"
            ]
          },
          "metadata": {
            "tags": []
          },
          "execution_count": 44
        }
      ]
    },
    {
      "cell_type": "code",
      "metadata": {
        "id": "cRmiS0AFzc6o"
      },
      "source": [
        "short_names = {}\n",
        "for s in planets.method.unique():\n",
        "    short_names[s] = ''.join([x[0] for x in s.split(' ')])"
      ],
      "execution_count": 45,
      "outputs": []
    },
    {
      "cell_type": "code",
      "metadata": {
        "colab": {
          "base_uri": "https://localhost:8080/"
        },
        "id": "IyNU90u908GY",
        "outputId": "4179c557-dfb8-4cce-aa8e-3c6b507eb559"
      },
      "source": [
        "print(short_names)\n"
      ],
      "execution_count": 46,
      "outputs": [
        {
          "output_type": "stream",
          "text": [
            "{'Radial Velocity': 'RV', 'Imaging': 'I', 'Eclipse Timing Variations': 'ETV', 'Transit': 'T', 'Astrometry': 'A', 'Transit Timing Variations': 'TTV', 'Orbital Brightness Modulation': 'OBM', 'Microlensing': 'M', 'Pulsar Timing': 'PT', 'Pulsation Timing Variations': 'PTV'}\n"
          ],
          "name": "stdout"
        }
      ]
    },
    {
      "cell_type": "code",
      "metadata": {
        "id": "_q-zdlE31CRT"
      },
      "source": [
        "for i, r in planets.iterrows():\n",
        "    planets.loc[i, 'short_method'] = short_names.get(r['method'], r['method'])"
      ],
      "execution_count": 47,
      "outputs": []
    },
    {
      "cell_type": "code",
      "metadata": {
        "colab": {
          "base_uri": "https://localhost:8080/",
          "height": 195
        },
        "id": "-49DF0991VeS",
        "outputId": "dcf45c6b-f7b5-4ad2-ad5b-b4c131f62e72"
      },
      "source": [
        "planets.head()\n"
      ],
      "execution_count": 48,
      "outputs": [
        {
          "output_type": "execute_result",
          "data": {
            "text/html": [
              "<div>\n",
              "<style scoped>\n",
              "    .dataframe tbody tr th:only-of-type {\n",
              "        vertical-align: middle;\n",
              "    }\n",
              "\n",
              "    .dataframe tbody tr th {\n",
              "        vertical-align: top;\n",
              "    }\n",
              "\n",
              "    .dataframe thead th {\n",
              "        text-align: right;\n",
              "    }\n",
              "</style>\n",
              "<table border=\"1\" class=\"dataframe\">\n",
              "  <thead>\n",
              "    <tr style=\"text-align: right;\">\n",
              "      <th></th>\n",
              "      <th>method</th>\n",
              "      <th>number</th>\n",
              "      <th>orbital_period</th>\n",
              "      <th>mass</th>\n",
              "      <th>distance</th>\n",
              "      <th>year</th>\n",
              "      <th>short_method</th>\n",
              "    </tr>\n",
              "  </thead>\n",
              "  <tbody>\n",
              "    <tr>\n",
              "      <th>0</th>\n",
              "      <td>Radial Velocity</td>\n",
              "      <td>1</td>\n",
              "      <td>269.300</td>\n",
              "      <td>7.10</td>\n",
              "      <td>77.40</td>\n",
              "      <td>2006</td>\n",
              "      <td>RV</td>\n",
              "    </tr>\n",
              "    <tr>\n",
              "      <th>1</th>\n",
              "      <td>Radial Velocity</td>\n",
              "      <td>1</td>\n",
              "      <td>874.774</td>\n",
              "      <td>2.21</td>\n",
              "      <td>56.95</td>\n",
              "      <td>2008</td>\n",
              "      <td>RV</td>\n",
              "    </tr>\n",
              "    <tr>\n",
              "      <th>2</th>\n",
              "      <td>Radial Velocity</td>\n",
              "      <td>1</td>\n",
              "      <td>763.000</td>\n",
              "      <td>2.60</td>\n",
              "      <td>19.84</td>\n",
              "      <td>2011</td>\n",
              "      <td>RV</td>\n",
              "    </tr>\n",
              "    <tr>\n",
              "      <th>3</th>\n",
              "      <td>Radial Velocity</td>\n",
              "      <td>1</td>\n",
              "      <td>326.030</td>\n",
              "      <td>19.40</td>\n",
              "      <td>110.62</td>\n",
              "      <td>2007</td>\n",
              "      <td>RV</td>\n",
              "    </tr>\n",
              "    <tr>\n",
              "      <th>4</th>\n",
              "      <td>Radial Velocity</td>\n",
              "      <td>1</td>\n",
              "      <td>516.220</td>\n",
              "      <td>10.50</td>\n",
              "      <td>119.47</td>\n",
              "      <td>2009</td>\n",
              "      <td>RV</td>\n",
              "    </tr>\n",
              "  </tbody>\n",
              "</table>\n",
              "</div>"
            ],
            "text/plain": [
              "            method  number  orbital_period   mass  distance  year short_method\n",
              "0  Radial Velocity       1         269.300   7.10     77.40  2006           RV\n",
              "1  Radial Velocity       1         874.774   2.21     56.95  2008           RV\n",
              "2  Radial Velocity       1         763.000   2.60     19.84  2011           RV\n",
              "3  Radial Velocity       1         326.030  19.40    110.62  2007           RV\n",
              "4  Radial Velocity       1         516.220  10.50    119.47  2009           RV"
            ]
          },
          "metadata": {
            "tags": []
          },
          "execution_count": 48
        }
      ]
    },
    {
      "cell_type": "code",
      "metadata": {
        "id": "jtLAExxE1bD9"
      },
      "source": [
        "df = sns.load_dataset('planets')\n"
      ],
      "execution_count": 49,
      "outputs": []
    },
    {
      "cell_type": "code",
      "metadata": {
        "id": "l6FL3aLs1l8L"
      },
      "source": [
        "def shorten_method(s):\n",
        "    return short_names.get(s, s)"
      ],
      "execution_count": 50,
      "outputs": []
    },
    {
      "cell_type": "code",
      "metadata": {
        "id": "WVWdvI_R1oN8"
      },
      "source": [
        "df['short_method'] = df['method'].apply(shorten_method)\n"
      ],
      "execution_count": 51,
      "outputs": []
    },
    {
      "cell_type": "code",
      "metadata": {
        "colab": {
          "base_uri": "https://localhost:8080/",
          "height": 195
        },
        "id": "Z3SVxc1T1q42",
        "outputId": "10acfd49-8e56-4d82-c264-058aa46513c0"
      },
      "source": [
        "df.head()\n"
      ],
      "execution_count": 52,
      "outputs": [
        {
          "output_type": "execute_result",
          "data": {
            "text/html": [
              "<div>\n",
              "<style scoped>\n",
              "    .dataframe tbody tr th:only-of-type {\n",
              "        vertical-align: middle;\n",
              "    }\n",
              "\n",
              "    .dataframe tbody tr th {\n",
              "        vertical-align: top;\n",
              "    }\n",
              "\n",
              "    .dataframe thead th {\n",
              "        text-align: right;\n",
              "    }\n",
              "</style>\n",
              "<table border=\"1\" class=\"dataframe\">\n",
              "  <thead>\n",
              "    <tr style=\"text-align: right;\">\n",
              "      <th></th>\n",
              "      <th>method</th>\n",
              "      <th>number</th>\n",
              "      <th>orbital_period</th>\n",
              "      <th>mass</th>\n",
              "      <th>distance</th>\n",
              "      <th>year</th>\n",
              "      <th>short_method</th>\n",
              "    </tr>\n",
              "  </thead>\n",
              "  <tbody>\n",
              "    <tr>\n",
              "      <th>0</th>\n",
              "      <td>Radial Velocity</td>\n",
              "      <td>1</td>\n",
              "      <td>269.300</td>\n",
              "      <td>7.10</td>\n",
              "      <td>77.40</td>\n",
              "      <td>2006</td>\n",
              "      <td>RV</td>\n",
              "    </tr>\n",
              "    <tr>\n",
              "      <th>1</th>\n",
              "      <td>Radial Velocity</td>\n",
              "      <td>1</td>\n",
              "      <td>874.774</td>\n",
              "      <td>2.21</td>\n",
              "      <td>56.95</td>\n",
              "      <td>2008</td>\n",
              "      <td>RV</td>\n",
              "    </tr>\n",
              "    <tr>\n",
              "      <th>2</th>\n",
              "      <td>Radial Velocity</td>\n",
              "      <td>1</td>\n",
              "      <td>763.000</td>\n",
              "      <td>2.60</td>\n",
              "      <td>19.84</td>\n",
              "      <td>2011</td>\n",
              "      <td>RV</td>\n",
              "    </tr>\n",
              "    <tr>\n",
              "      <th>3</th>\n",
              "      <td>Radial Velocity</td>\n",
              "      <td>1</td>\n",
              "      <td>326.030</td>\n",
              "      <td>19.40</td>\n",
              "      <td>110.62</td>\n",
              "      <td>2007</td>\n",
              "      <td>RV</td>\n",
              "    </tr>\n",
              "    <tr>\n",
              "      <th>4</th>\n",
              "      <td>Radial Velocity</td>\n",
              "      <td>1</td>\n",
              "      <td>516.220</td>\n",
              "      <td>10.50</td>\n",
              "      <td>119.47</td>\n",
              "      <td>2009</td>\n",
              "      <td>RV</td>\n",
              "    </tr>\n",
              "  </tbody>\n",
              "</table>\n",
              "</div>"
            ],
            "text/plain": [
              "            method  number  orbital_period   mass  distance  year short_method\n",
              "0  Radial Velocity       1         269.300   7.10     77.40  2006           RV\n",
              "1  Radial Velocity       1         874.774   2.21     56.95  2008           RV\n",
              "2  Radial Velocity       1         763.000   2.60     19.84  2011           RV\n",
              "3  Radial Velocity       1         326.030  19.40    110.62  2007           RV\n",
              "4  Radial Velocity       1         516.220  10.50    119.47  2009           RV"
            ]
          },
          "metadata": {
            "tags": []
          },
          "execution_count": 52
        }
      ]
    },
    {
      "cell_type": "markdown",
      "metadata": {
        "id": "42LSxA181ztb"
      },
      "source": [
        "##Count the number of planets discovered for each method type\n",
        "\n",
        "1. Split the dataframe into smaller chunks (in this case they should have the same method name)\n",
        "2. Apply some function in each smaller chunk (in this case it is the count function)\n",
        "3. Aggregate the results from each chunk together"
      ]
    },
    {
      "cell_type": "code",
      "metadata": {
        "colab": {
          "base_uri": "https://localhost:8080/"
        },
        "id": "3Tn9KLvp1wv2",
        "outputId": "078adbd4-aae3-4d30-b580-2d12c9021c0d"
      },
      "source": [
        "planets.groupby('method')['method'].count()\n"
      ],
      "execution_count": 53,
      "outputs": [
        {
          "output_type": "execute_result",
          "data": {
            "text/plain": [
              "method\n",
              "Astrometry                         2\n",
              "Eclipse Timing Variations          9\n",
              "Imaging                           38\n",
              "Microlensing                      23\n",
              "Orbital Brightness Modulation      3\n",
              "Pulsar Timing                      5\n",
              "Pulsation Timing Variations        1\n",
              "Radial Velocity                  553\n",
              "Transit                          397\n",
              "Transit Timing Variations          4\n",
              "Name: method, dtype: int64"
            ]
          },
          "metadata": {
            "tags": []
          },
          "execution_count": 53
        }
      ]
    },
    {
      "cell_type": "markdown",
      "metadata": {
        "id": "ADXedS0U7inj"
      },
      "source": [
        "## Find out what fraction of planets have been found in the last decade (i.e., in 2010s) across each method type\n",
        "\n",
        "1. Filter the data for given condition (in this case planet found in last decade)\n",
        "2. Split (in this case across method)\n",
        "3. Apply (in this case just count)\n",
        "4. Aggregate (to represent the final result)"
      ]
    },
    {
      "cell_type": "code",
      "metadata": {
        "id": "56zhBdTiB-pv"
      },
      "source": [
        "planets = sns.load_dataset('planets')"
      ],
      "execution_count": 54,
      "outputs": []
    },
    {
      "cell_type": "code",
      "metadata": {
        "id": "eOIlmw1dCwqr"
      },
      "source": [
        "series_2010s = planets[planets[\"year\"] >= 2010].groupby(\"method\")[\"method\"].count()\n",
        "series_all_time = planets.groupby('method')['method'].count()"
      ],
      "execution_count": 55,
      "outputs": []
    },
    {
      "cell_type": "code",
      "metadata": {
        "colab": {
          "base_uri": "https://localhost:8080/"
        },
        "id": "Tes5URCpD7iC",
        "outputId": "ca4bd5ad-8d7f-4903-cd25-fc5a97502841"
      },
      "source": [
        "series_2010s/series_all_time"
      ],
      "execution_count": 56,
      "outputs": [
        {
          "output_type": "execute_result",
          "data": {
            "text/plain": [
              "method\n",
              "Astrometry                       1.000000\n",
              "Eclipse Timing Variations        0.666667\n",
              "Imaging                          0.473684\n",
              "Microlensing                     0.565217\n",
              "Orbital Brightness Modulation    1.000000\n",
              "Pulsar Timing                    0.200000\n",
              "Pulsation Timing Variations           NaN\n",
              "Radial Velocity                  0.388788\n",
              "Transit                          0.843829\n",
              "Transit Timing Variations        1.000000\n",
              "Name: method, dtype: float64"
            ]
          },
          "metadata": {
            "tags": []
          },
          "execution_count": 56
        }
      ]
    },
    {
      "cell_type": "code",
      "metadata": {
        "colab": {
          "base_uri": "https://localhost:8080/"
        },
        "id": "Z8z6iVW37rxF",
        "outputId": "f0832346-6fc4-40c3-b34d-699d71ccdcfc"
      },
      "source": [
        "!ls"
      ],
      "execution_count": 57,
      "outputs": [
        {
          "output_type": "stream",
          "text": [
            "cric_data.tsv\t\t  NIFTY50_2018.csv\tplanets_new.txt       zeros.npz\n",
            "many_arrs_compressed.npz  NIFTY50_2019.csv\tplanets_small.txt\n",
            "many_arrs.npz\t\t  NIFTYNext50_2019.csv\tplanets.txt\n",
            "nifty-200623-235920.csv   planets_new.npy\tzeros_compressed.npz\n"
          ],
          "name": "stdout"
        }
      ]
    },
    {
      "cell_type": "code",
      "metadata": {
        "colab": {
          "base_uri": "https://localhost:8080/",
          "height": 195
        },
        "id": "4Wlc44nQLL83",
        "outputId": "9cf7c197-414a-488b-a13b-ee4fcbfd6172"
      },
      "source": [
        "nifty50_2018 = pd.read_csv('NIFTY50_2018.csv')\n",
        "nifty50_2018.head()"
      ],
      "execution_count": 58,
      "outputs": [
        {
          "output_type": "execute_result",
          "data": {
            "text/html": [
              "<div>\n",
              "<style scoped>\n",
              "    .dataframe tbody tr th:only-of-type {\n",
              "        vertical-align: middle;\n",
              "    }\n",
              "\n",
              "    .dataframe tbody tr th {\n",
              "        vertical-align: top;\n",
              "    }\n",
              "\n",
              "    .dataframe thead th {\n",
              "        text-align: right;\n",
              "    }\n",
              "</style>\n",
              "<table border=\"1\" class=\"dataframe\">\n",
              "  <thead>\n",
              "    <tr style=\"text-align: right;\">\n",
              "      <th></th>\n",
              "      <th>Date</th>\n",
              "      <th>Open</th>\n",
              "      <th>High</th>\n",
              "      <th>Low</th>\n",
              "      <th>Close</th>\n",
              "    </tr>\n",
              "  </thead>\n",
              "  <tbody>\n",
              "    <tr>\n",
              "      <th>0</th>\n",
              "      <td>31 Dec 2018</td>\n",
              "      <td>10913.20</td>\n",
              "      <td>10923.55</td>\n",
              "      <td>10853.20</td>\n",
              "      <td>10862.55</td>\n",
              "    </tr>\n",
              "    <tr>\n",
              "      <th>1</th>\n",
              "      <td>28 Dec 2018</td>\n",
              "      <td>10820.95</td>\n",
              "      <td>10893.60</td>\n",
              "      <td>10817.15</td>\n",
              "      <td>10859.90</td>\n",
              "    </tr>\n",
              "    <tr>\n",
              "      <th>2</th>\n",
              "      <td>27 Dec 2018</td>\n",
              "      <td>10817.90</td>\n",
              "      <td>10834.20</td>\n",
              "      <td>10764.45</td>\n",
              "      <td>10779.80</td>\n",
              "    </tr>\n",
              "    <tr>\n",
              "      <th>3</th>\n",
              "      <td>26 Dec 2018</td>\n",
              "      <td>10635.45</td>\n",
              "      <td>10747.50</td>\n",
              "      <td>10534.55</td>\n",
              "      <td>10729.85</td>\n",
              "    </tr>\n",
              "    <tr>\n",
              "      <th>4</th>\n",
              "      <td>24 Dec 2018</td>\n",
              "      <td>10780.90</td>\n",
              "      <td>10782.30</td>\n",
              "      <td>10649.25</td>\n",
              "      <td>10663.50</td>\n",
              "    </tr>\n",
              "  </tbody>\n",
              "</table>\n",
              "</div>"
            ],
            "text/plain": [
              "          Date      Open      High       Low     Close\n",
              "0  31 Dec 2018  10913.20  10923.55  10853.20  10862.55\n",
              "1  28 Dec 2018  10820.95  10893.60  10817.15  10859.90\n",
              "2  27 Dec 2018  10817.90  10834.20  10764.45  10779.80\n",
              "3  26 Dec 2018  10635.45  10747.50  10534.55  10729.85\n",
              "4  24 Dec 2018  10780.90  10782.30  10649.25  10663.50"
            ]
          },
          "metadata": {
            "tags": []
          },
          "execution_count": 58
        }
      ]
    },
    {
      "cell_type": "code",
      "metadata": {
        "colab": {
          "base_uri": "https://localhost:8080/",
          "height": 225
        },
        "id": "FOslADfdLUwr",
        "outputId": "c26a0bb7-ea83-41e3-98b3-2414dbe6b4e8"
      },
      "source": [
        "nifty50_2018 = pd.read_csv('NIFTY50_2018.csv', index_col=0)\n",
        "nifty50_2018.head()"
      ],
      "execution_count": 59,
      "outputs": [
        {
          "output_type": "execute_result",
          "data": {
            "text/html": [
              "<div>\n",
              "<style scoped>\n",
              "    .dataframe tbody tr th:only-of-type {\n",
              "        vertical-align: middle;\n",
              "    }\n",
              "\n",
              "    .dataframe tbody tr th {\n",
              "        vertical-align: top;\n",
              "    }\n",
              "\n",
              "    .dataframe thead th {\n",
              "        text-align: right;\n",
              "    }\n",
              "</style>\n",
              "<table border=\"1\" class=\"dataframe\">\n",
              "  <thead>\n",
              "    <tr style=\"text-align: right;\">\n",
              "      <th></th>\n",
              "      <th>Open</th>\n",
              "      <th>High</th>\n",
              "      <th>Low</th>\n",
              "      <th>Close</th>\n",
              "    </tr>\n",
              "    <tr>\n",
              "      <th>Date</th>\n",
              "      <th></th>\n",
              "      <th></th>\n",
              "      <th></th>\n",
              "      <th></th>\n",
              "    </tr>\n",
              "  </thead>\n",
              "  <tbody>\n",
              "    <tr>\n",
              "      <th>31 Dec 2018</th>\n",
              "      <td>10913.20</td>\n",
              "      <td>10923.55</td>\n",
              "      <td>10853.20</td>\n",
              "      <td>10862.55</td>\n",
              "    </tr>\n",
              "    <tr>\n",
              "      <th>28 Dec 2018</th>\n",
              "      <td>10820.95</td>\n",
              "      <td>10893.60</td>\n",
              "      <td>10817.15</td>\n",
              "      <td>10859.90</td>\n",
              "    </tr>\n",
              "    <tr>\n",
              "      <th>27 Dec 2018</th>\n",
              "      <td>10817.90</td>\n",
              "      <td>10834.20</td>\n",
              "      <td>10764.45</td>\n",
              "      <td>10779.80</td>\n",
              "    </tr>\n",
              "    <tr>\n",
              "      <th>26 Dec 2018</th>\n",
              "      <td>10635.45</td>\n",
              "      <td>10747.50</td>\n",
              "      <td>10534.55</td>\n",
              "      <td>10729.85</td>\n",
              "    </tr>\n",
              "    <tr>\n",
              "      <th>24 Dec 2018</th>\n",
              "      <td>10780.90</td>\n",
              "      <td>10782.30</td>\n",
              "      <td>10649.25</td>\n",
              "      <td>10663.50</td>\n",
              "    </tr>\n",
              "  </tbody>\n",
              "</table>\n",
              "</div>"
            ],
            "text/plain": [
              "                 Open      High       Low     Close\n",
              "Date                                               \n",
              "31 Dec 2018  10913.20  10923.55  10853.20  10862.55\n",
              "28 Dec 2018  10820.95  10893.60  10817.15  10859.90\n",
              "27 Dec 2018  10817.90  10834.20  10764.45  10779.80\n",
              "26 Dec 2018  10635.45  10747.50  10534.55  10729.85\n",
              "24 Dec 2018  10780.90  10782.30  10649.25  10663.50"
            ]
          },
          "metadata": {
            "tags": []
          },
          "execution_count": 59
        }
      ]
    },
    {
      "cell_type": "code",
      "metadata": {
        "colab": {
          "base_uri": "https://localhost:8080/"
        },
        "id": "3Zsao48rLsNI",
        "outputId": "a52b3f9d-80f2-484f-bce7-f8519c5f3233"
      },
      "source": [
        "nifty50_2018.loc['31 Dec 2018']\n"
      ],
      "execution_count": 60,
      "outputs": [
        {
          "output_type": "execute_result",
          "data": {
            "text/plain": [
              "Open     10913.20\n",
              "High     10923.55\n",
              "Low      10853.20\n",
              "Close    10862.55\n",
              "Name: 31 Dec 2018, dtype: float64"
            ]
          },
          "metadata": {
            "tags": []
          },
          "execution_count": 60
        }
      ]
    },
    {
      "cell_type": "code",
      "metadata": {
        "colab": {
          "base_uri": "https://localhost:8080/"
        },
        "id": "vCe53vlWLyle",
        "outputId": "bf23438a-dc48-4687-d187-2c22bfed6fb6"
      },
      "source": [
        "nifty50_2018['Open']\n"
      ],
      "execution_count": 61,
      "outputs": [
        {
          "output_type": "execute_result",
          "data": {
            "text/plain": [
              "Date\n",
              "31 Dec 2018    10913.20\n",
              "28 Dec 2018    10820.95\n",
              "27 Dec 2018    10817.90\n",
              "26 Dec 2018    10635.45\n",
              "24 Dec 2018    10780.90\n",
              "                 ...   \n",
              "05 Jan 2018    10534.25\n",
              "04 Jan 2018    10469.40\n",
              "03 Jan 2018    10482.65\n",
              "02 Jan 2018    10477.55\n",
              "01 Jan 2018    10531.70\n",
              "Name: Open, Length: 246, dtype: float64"
            ]
          },
          "metadata": {
            "tags": []
          },
          "execution_count": 61
        }
      ]
    },
    {
      "cell_type": "code",
      "metadata": {
        "colab": {
          "base_uri": "https://localhost:8080/",
          "height": 225
        },
        "id": "bwfOBWtiL8ii",
        "outputId": "c37f5ded-b531-4673-8886-6c22cb4244ea"
      },
      "source": [
        "nifty50_2019 = pd.read_csv('NIFTY50_2019.csv', index_col=0)\n",
        "nifty50_2019.head()\n"
      ],
      "execution_count": 62,
      "outputs": [
        {
          "output_type": "execute_result",
          "data": {
            "text/html": [
              "<div>\n",
              "<style scoped>\n",
              "    .dataframe tbody tr th:only-of-type {\n",
              "        vertical-align: middle;\n",
              "    }\n",
              "\n",
              "    .dataframe tbody tr th {\n",
              "        vertical-align: top;\n",
              "    }\n",
              "\n",
              "    .dataframe thead th {\n",
              "        text-align: right;\n",
              "    }\n",
              "</style>\n",
              "<table border=\"1\" class=\"dataframe\">\n",
              "  <thead>\n",
              "    <tr style=\"text-align: right;\">\n",
              "      <th></th>\n",
              "      <th>Open</th>\n",
              "      <th>High</th>\n",
              "      <th>Low</th>\n",
              "      <th>Close</th>\n",
              "    </tr>\n",
              "    <tr>\n",
              "      <th>Date</th>\n",
              "      <th></th>\n",
              "      <th></th>\n",
              "      <th></th>\n",
              "      <th></th>\n",
              "    </tr>\n",
              "  </thead>\n",
              "  <tbody>\n",
              "    <tr>\n",
              "      <th>31 Dec 2019</th>\n",
              "      <td>12247.10</td>\n",
              "      <td>12247.10</td>\n",
              "      <td>12151.80</td>\n",
              "      <td>12168.45</td>\n",
              "    </tr>\n",
              "    <tr>\n",
              "      <th>30 Dec 2019</th>\n",
              "      <td>12274.90</td>\n",
              "      <td>12286.45</td>\n",
              "      <td>12213.80</td>\n",
              "      <td>12255.85</td>\n",
              "    </tr>\n",
              "    <tr>\n",
              "      <th>27 Dec 2019</th>\n",
              "      <td>12172.90</td>\n",
              "      <td>12258.45</td>\n",
              "      <td>12157.90</td>\n",
              "      <td>12245.80</td>\n",
              "    </tr>\n",
              "    <tr>\n",
              "      <th>26 Dec 2019</th>\n",
              "      <td>12211.85</td>\n",
              "      <td>12221.55</td>\n",
              "      <td>12118.85</td>\n",
              "      <td>12126.55</td>\n",
              "    </tr>\n",
              "    <tr>\n",
              "      <th>24 Dec 2019</th>\n",
              "      <td>12269.25</td>\n",
              "      <td>12283.70</td>\n",
              "      <td>12202.10</td>\n",
              "      <td>12214.55</td>\n",
              "    </tr>\n",
              "  </tbody>\n",
              "</table>\n",
              "</div>"
            ],
            "text/plain": [
              "                 Open      High       Low     Close\n",
              "Date                                               \n",
              "31 Dec 2019  12247.10  12247.10  12151.80  12168.45\n",
              "30 Dec 2019  12274.90  12286.45  12213.80  12255.85\n",
              "27 Dec 2019  12172.90  12258.45  12157.90  12245.80\n",
              "26 Dec 2019  12211.85  12221.55  12118.85  12126.55\n",
              "24 Dec 2019  12269.25  12283.70  12202.10  12214.55"
            ]
          },
          "metadata": {
            "tags": []
          },
          "execution_count": 62
        }
      ]
    },
    {
      "cell_type": "code",
      "metadata": {
        "colab": {
          "base_uri": "https://localhost:8080/",
          "height": 225
        },
        "id": "B_irFzAAMJyu",
        "outputId": "6c8c8ad0-e787-457e-c18c-b57943d74169"
      },
      "source": [
        "nifty50 = pd.concat([nifty50_2018, nifty50_2019])\n",
        "nifty50.head()"
      ],
      "execution_count": 63,
      "outputs": [
        {
          "output_type": "execute_result",
          "data": {
            "text/html": [
              "<div>\n",
              "<style scoped>\n",
              "    .dataframe tbody tr th:only-of-type {\n",
              "        vertical-align: middle;\n",
              "    }\n",
              "\n",
              "    .dataframe tbody tr th {\n",
              "        vertical-align: top;\n",
              "    }\n",
              "\n",
              "    .dataframe thead th {\n",
              "        text-align: right;\n",
              "    }\n",
              "</style>\n",
              "<table border=\"1\" class=\"dataframe\">\n",
              "  <thead>\n",
              "    <tr style=\"text-align: right;\">\n",
              "      <th></th>\n",
              "      <th>Open</th>\n",
              "      <th>High</th>\n",
              "      <th>Low</th>\n",
              "      <th>Close</th>\n",
              "    </tr>\n",
              "    <tr>\n",
              "      <th>Date</th>\n",
              "      <th></th>\n",
              "      <th></th>\n",
              "      <th></th>\n",
              "      <th></th>\n",
              "    </tr>\n",
              "  </thead>\n",
              "  <tbody>\n",
              "    <tr>\n",
              "      <th>31 Dec 2018</th>\n",
              "      <td>10913.20</td>\n",
              "      <td>10923.55</td>\n",
              "      <td>10853.20</td>\n",
              "      <td>10862.55</td>\n",
              "    </tr>\n",
              "    <tr>\n",
              "      <th>28 Dec 2018</th>\n",
              "      <td>10820.95</td>\n",
              "      <td>10893.60</td>\n",
              "      <td>10817.15</td>\n",
              "      <td>10859.90</td>\n",
              "    </tr>\n",
              "    <tr>\n",
              "      <th>27 Dec 2018</th>\n",
              "      <td>10817.90</td>\n",
              "      <td>10834.20</td>\n",
              "      <td>10764.45</td>\n",
              "      <td>10779.80</td>\n",
              "    </tr>\n",
              "    <tr>\n",
              "      <th>26 Dec 2018</th>\n",
              "      <td>10635.45</td>\n",
              "      <td>10747.50</td>\n",
              "      <td>10534.55</td>\n",
              "      <td>10729.85</td>\n",
              "    </tr>\n",
              "    <tr>\n",
              "      <th>24 Dec 2018</th>\n",
              "      <td>10780.90</td>\n",
              "      <td>10782.30</td>\n",
              "      <td>10649.25</td>\n",
              "      <td>10663.50</td>\n",
              "    </tr>\n",
              "  </tbody>\n",
              "</table>\n",
              "</div>"
            ],
            "text/plain": [
              "                 Open      High       Low     Close\n",
              "Date                                               \n",
              "31 Dec 2018  10913.20  10923.55  10853.20  10862.55\n",
              "28 Dec 2018  10820.95  10893.60  10817.15  10859.90\n",
              "27 Dec 2018  10817.90  10834.20  10764.45  10779.80\n",
              "26 Dec 2018  10635.45  10747.50  10534.55  10729.85\n",
              "24 Dec 2018  10780.90  10782.30  10649.25  10663.50"
            ]
          },
          "metadata": {
            "tags": []
          },
          "execution_count": 63
        }
      ]
    },
    {
      "cell_type": "code",
      "metadata": {
        "colab": {
          "base_uri": "https://localhost:8080/",
          "height": 225
        },
        "id": "Cj1PVKlCMNsV",
        "outputId": "0e73e537-c0fd-49e8-dbd8-d4dfb543d848"
      },
      "source": [
        "niftynext50_2019 = pd.read_csv('NIFTYNext50_2019.csv', index_col = 0)\n",
        "niftynext50_2019.head()\n"
      ],
      "execution_count": 64,
      "outputs": [
        {
          "output_type": "execute_result",
          "data": {
            "text/html": [
              "<div>\n",
              "<style scoped>\n",
              "    .dataframe tbody tr th:only-of-type {\n",
              "        vertical-align: middle;\n",
              "    }\n",
              "\n",
              "    .dataframe tbody tr th {\n",
              "        vertical-align: top;\n",
              "    }\n",
              "\n",
              "    .dataframe thead th {\n",
              "        text-align: right;\n",
              "    }\n",
              "</style>\n",
              "<table border=\"1\" class=\"dataframe\">\n",
              "  <thead>\n",
              "    <tr style=\"text-align: right;\">\n",
              "      <th></th>\n",
              "      <th>Open</th>\n",
              "      <th>High</th>\n",
              "      <th>Low</th>\n",
              "      <th>Close</th>\n",
              "    </tr>\n",
              "    <tr>\n",
              "      <th>Date</th>\n",
              "      <th></th>\n",
              "      <th></th>\n",
              "      <th></th>\n",
              "      <th></th>\n",
              "    </tr>\n",
              "  </thead>\n",
              "  <tbody>\n",
              "    <tr>\n",
              "      <th>31 Dec 2019</th>\n",
              "      <td>28495.00</td>\n",
              "      <td>28549.50</td>\n",
              "      <td>28270.25</td>\n",
              "      <td>28307.55</td>\n",
              "    </tr>\n",
              "    <tr>\n",
              "      <th>30 Dec 2019</th>\n",
              "      <td>28528.95</td>\n",
              "      <td>28612.95</td>\n",
              "      <td>28406.70</td>\n",
              "      <td>28484.85</td>\n",
              "    </tr>\n",
              "    <tr>\n",
              "      <th>27 Dec 2019</th>\n",
              "      <td>28354.50</td>\n",
              "      <td>28500.25</td>\n",
              "      <td>28319.90</td>\n",
              "      <td>28476.80</td>\n",
              "    </tr>\n",
              "    <tr>\n",
              "      <th>26 Dec 2019</th>\n",
              "      <td>28409.10</td>\n",
              "      <td>28435.25</td>\n",
              "      <td>28259.75</td>\n",
              "      <td>28280.25</td>\n",
              "    </tr>\n",
              "    <tr>\n",
              "      <th>24 Dec 2019</th>\n",
              "      <td>28423.70</td>\n",
              "      <td>28430.40</td>\n",
              "      <td>28318.75</td>\n",
              "      <td>28382.85</td>\n",
              "    </tr>\n",
              "  </tbody>\n",
              "</table>\n",
              "</div>"
            ],
            "text/plain": [
              "                 Open      High       Low     Close\n",
              "Date                                               \n",
              "31 Dec 2019  28495.00  28549.50  28270.25  28307.55\n",
              "30 Dec 2019  28528.95  28612.95  28406.70  28484.85\n",
              "27 Dec 2019  28354.50  28500.25  28319.90  28476.80\n",
              "26 Dec 2019  28409.10  28435.25  28259.75  28280.25\n",
              "24 Dec 2019  28423.70  28430.40  28318.75  28382.85"
            ]
          },
          "metadata": {
            "tags": []
          },
          "execution_count": 64
        }
      ]
    },
    {
      "cell_type": "code",
      "metadata": {
        "colab": {
          "base_uri": "https://localhost:8080/",
          "height": 225
        },
        "id": "py8XE-UXMUfP",
        "outputId": "c385bf56-a17f-4b3f-ab0f-178b16d39043"
      },
      "source": [
        "nifty_2019 = pd.concat([nifty50_2019, niftynext50_2019], axis=1)\n",
        "nifty_2019.head()"
      ],
      "execution_count": 65,
      "outputs": [
        {
          "output_type": "execute_result",
          "data": {
            "text/html": [
              "<div>\n",
              "<style scoped>\n",
              "    .dataframe tbody tr th:only-of-type {\n",
              "        vertical-align: middle;\n",
              "    }\n",
              "\n",
              "    .dataframe tbody tr th {\n",
              "        vertical-align: top;\n",
              "    }\n",
              "\n",
              "    .dataframe thead th {\n",
              "        text-align: right;\n",
              "    }\n",
              "</style>\n",
              "<table border=\"1\" class=\"dataframe\">\n",
              "  <thead>\n",
              "    <tr style=\"text-align: right;\">\n",
              "      <th></th>\n",
              "      <th>Open</th>\n",
              "      <th>High</th>\n",
              "      <th>Low</th>\n",
              "      <th>Close</th>\n",
              "      <th>Open</th>\n",
              "      <th>High</th>\n",
              "      <th>Low</th>\n",
              "      <th>Close</th>\n",
              "    </tr>\n",
              "    <tr>\n",
              "      <th>Date</th>\n",
              "      <th></th>\n",
              "      <th></th>\n",
              "      <th></th>\n",
              "      <th></th>\n",
              "      <th></th>\n",
              "      <th></th>\n",
              "      <th></th>\n",
              "      <th></th>\n",
              "    </tr>\n",
              "  </thead>\n",
              "  <tbody>\n",
              "    <tr>\n",
              "      <th>31 Dec 2019</th>\n",
              "      <td>12247.10</td>\n",
              "      <td>12247.10</td>\n",
              "      <td>12151.80</td>\n",
              "      <td>12168.45</td>\n",
              "      <td>28495.00</td>\n",
              "      <td>28549.50</td>\n",
              "      <td>28270.25</td>\n",
              "      <td>28307.55</td>\n",
              "    </tr>\n",
              "    <tr>\n",
              "      <th>30 Dec 2019</th>\n",
              "      <td>12274.90</td>\n",
              "      <td>12286.45</td>\n",
              "      <td>12213.80</td>\n",
              "      <td>12255.85</td>\n",
              "      <td>28528.95</td>\n",
              "      <td>28612.95</td>\n",
              "      <td>28406.70</td>\n",
              "      <td>28484.85</td>\n",
              "    </tr>\n",
              "    <tr>\n",
              "      <th>27 Dec 2019</th>\n",
              "      <td>12172.90</td>\n",
              "      <td>12258.45</td>\n",
              "      <td>12157.90</td>\n",
              "      <td>12245.80</td>\n",
              "      <td>28354.50</td>\n",
              "      <td>28500.25</td>\n",
              "      <td>28319.90</td>\n",
              "      <td>28476.80</td>\n",
              "    </tr>\n",
              "    <tr>\n",
              "      <th>26 Dec 2019</th>\n",
              "      <td>12211.85</td>\n",
              "      <td>12221.55</td>\n",
              "      <td>12118.85</td>\n",
              "      <td>12126.55</td>\n",
              "      <td>28409.10</td>\n",
              "      <td>28435.25</td>\n",
              "      <td>28259.75</td>\n",
              "      <td>28280.25</td>\n",
              "    </tr>\n",
              "    <tr>\n",
              "      <th>24 Dec 2019</th>\n",
              "      <td>12269.25</td>\n",
              "      <td>12283.70</td>\n",
              "      <td>12202.10</td>\n",
              "      <td>12214.55</td>\n",
              "      <td>28423.70</td>\n",
              "      <td>28430.40</td>\n",
              "      <td>28318.75</td>\n",
              "      <td>28382.85</td>\n",
              "    </tr>\n",
              "  </tbody>\n",
              "</table>\n",
              "</div>"
            ],
            "text/plain": [
              "                 Open      High       Low  ...      High       Low     Close\n",
              "Date                                       ...                              \n",
              "31 Dec 2019  12247.10  12247.10  12151.80  ...  28549.50  28270.25  28307.55\n",
              "30 Dec 2019  12274.90  12286.45  12213.80  ...  28612.95  28406.70  28484.85\n",
              "27 Dec 2019  12172.90  12258.45  12157.90  ...  28500.25  28319.90  28476.80\n",
              "26 Dec 2019  12211.85  12221.55  12118.85  ...  28435.25  28259.75  28280.25\n",
              "24 Dec 2019  12269.25  12283.70  12202.10  ...  28430.40  28318.75  28382.85\n",
              "\n",
              "[5 rows x 8 columns]"
            ]
          },
          "metadata": {
            "tags": []
          },
          "execution_count": 65
        }
      ]
    },
    {
      "cell_type": "code",
      "metadata": {
        "colab": {
          "base_uri": "https://localhost:8080/",
          "height": 254
        },
        "id": "1NU51p8VMac8",
        "outputId": "88b706cf-e1f2-484b-fdc1-b39856d7d223"
      },
      "source": [
        "nifty_2019 = pd.concat([nifty50_2019, niftynext50_2019], axis=1,\n",
        "                       keys=['nifty50', 'niftynext50'])\n",
        "nifty_2019.head()"
      ],
      "execution_count": 66,
      "outputs": [
        {
          "output_type": "execute_result",
          "data": {
            "text/html": [
              "<div>\n",
              "<style scoped>\n",
              "    .dataframe tbody tr th:only-of-type {\n",
              "        vertical-align: middle;\n",
              "    }\n",
              "\n",
              "    .dataframe tbody tr th {\n",
              "        vertical-align: top;\n",
              "    }\n",
              "\n",
              "    .dataframe thead tr th {\n",
              "        text-align: left;\n",
              "    }\n",
              "\n",
              "    .dataframe thead tr:last-of-type th {\n",
              "        text-align: right;\n",
              "    }\n",
              "</style>\n",
              "<table border=\"1\" class=\"dataframe\">\n",
              "  <thead>\n",
              "    <tr>\n",
              "      <th></th>\n",
              "      <th colspan=\"4\" halign=\"left\">nifty50</th>\n",
              "      <th colspan=\"4\" halign=\"left\">niftynext50</th>\n",
              "    </tr>\n",
              "    <tr>\n",
              "      <th></th>\n",
              "      <th>Open</th>\n",
              "      <th>High</th>\n",
              "      <th>Low</th>\n",
              "      <th>Close</th>\n",
              "      <th>Open</th>\n",
              "      <th>High</th>\n",
              "      <th>Low</th>\n",
              "      <th>Close</th>\n",
              "    </tr>\n",
              "    <tr>\n",
              "      <th>Date</th>\n",
              "      <th></th>\n",
              "      <th></th>\n",
              "      <th></th>\n",
              "      <th></th>\n",
              "      <th></th>\n",
              "      <th></th>\n",
              "      <th></th>\n",
              "      <th></th>\n",
              "    </tr>\n",
              "  </thead>\n",
              "  <tbody>\n",
              "    <tr>\n",
              "      <th>31 Dec 2019</th>\n",
              "      <td>12247.10</td>\n",
              "      <td>12247.10</td>\n",
              "      <td>12151.80</td>\n",
              "      <td>12168.45</td>\n",
              "      <td>28495.00</td>\n",
              "      <td>28549.50</td>\n",
              "      <td>28270.25</td>\n",
              "      <td>28307.55</td>\n",
              "    </tr>\n",
              "    <tr>\n",
              "      <th>30 Dec 2019</th>\n",
              "      <td>12274.90</td>\n",
              "      <td>12286.45</td>\n",
              "      <td>12213.80</td>\n",
              "      <td>12255.85</td>\n",
              "      <td>28528.95</td>\n",
              "      <td>28612.95</td>\n",
              "      <td>28406.70</td>\n",
              "      <td>28484.85</td>\n",
              "    </tr>\n",
              "    <tr>\n",
              "      <th>27 Dec 2019</th>\n",
              "      <td>12172.90</td>\n",
              "      <td>12258.45</td>\n",
              "      <td>12157.90</td>\n",
              "      <td>12245.80</td>\n",
              "      <td>28354.50</td>\n",
              "      <td>28500.25</td>\n",
              "      <td>28319.90</td>\n",
              "      <td>28476.80</td>\n",
              "    </tr>\n",
              "    <tr>\n",
              "      <th>26 Dec 2019</th>\n",
              "      <td>12211.85</td>\n",
              "      <td>12221.55</td>\n",
              "      <td>12118.85</td>\n",
              "      <td>12126.55</td>\n",
              "      <td>28409.10</td>\n",
              "      <td>28435.25</td>\n",
              "      <td>28259.75</td>\n",
              "      <td>28280.25</td>\n",
              "    </tr>\n",
              "    <tr>\n",
              "      <th>24 Dec 2019</th>\n",
              "      <td>12269.25</td>\n",
              "      <td>12283.70</td>\n",
              "      <td>12202.10</td>\n",
              "      <td>12214.55</td>\n",
              "      <td>28423.70</td>\n",
              "      <td>28430.40</td>\n",
              "      <td>28318.75</td>\n",
              "      <td>28382.85</td>\n",
              "    </tr>\n",
              "  </tbody>\n",
              "</table>\n",
              "</div>"
            ],
            "text/plain": [
              "              nifty50                      ... niftynext50                    \n",
              "                 Open      High       Low  ...        High       Low     Close\n",
              "Date                                       ...                                \n",
              "31 Dec 2019  12247.10  12247.10  12151.80  ...    28549.50  28270.25  28307.55\n",
              "30 Dec 2019  12274.90  12286.45  12213.80  ...    28612.95  28406.70  28484.85\n",
              "27 Dec 2019  12172.90  12258.45  12157.90  ...    28500.25  28319.90  28476.80\n",
              "26 Dec 2019  12211.85  12221.55  12118.85  ...    28435.25  28259.75  28280.25\n",
              "24 Dec 2019  12269.25  12283.70  12202.10  ...    28430.40  28318.75  28382.85\n",
              "\n",
              "[5 rows x 8 columns]"
            ]
          },
          "metadata": {
            "tags": []
          },
          "execution_count": 66
        }
      ]
    },
    {
      "cell_type": "code",
      "metadata": {
        "colab": {
          "base_uri": "https://localhost:8080/"
        },
        "id": "wMkKuyrJMnXh",
        "outputId": "cdbe5be8-e40f-476f-c61b-0f55e636b322"
      },
      "source": [
        "nifty_2019['nifty50'].loc['31 Dec 2019']\n"
      ],
      "execution_count": 67,
      "outputs": [
        {
          "output_type": "execute_result",
          "data": {
            "text/plain": [
              "Open     12247.10\n",
              "High     12247.10\n",
              "Low      12151.80\n",
              "Close    12168.45\n",
              "Name: 31 Dec 2019, dtype: float64"
            ]
          },
          "metadata": {
            "tags": []
          },
          "execution_count": 67
        }
      ]
    },
    {
      "cell_type": "code",
      "metadata": {
        "colab": {
          "base_uri": "https://localhost:8080/"
        },
        "id": "mguLEBQfXz42",
        "outputId": "ba7b3649-3880-4512-eff0-7632afb88466"
      },
      "source": [
        "print(nifty50_2018.shape, nifty50_2019.shape, nifty50.shape)"
      ],
      "execution_count": 68,
      "outputs": [
        {
          "output_type": "stream",
          "text": [
            "(246, 4) (245, 4) (491, 4)\n"
          ],
          "name": "stdout"
        }
      ]
    },
    {
      "cell_type": "code",
      "metadata": {
        "colab": {
          "base_uri": "https://localhost:8080/"
        },
        "id": "NlGV7FmKYYro",
        "outputId": "d25dda8d-7b10-4647-cd27-7b4375e8a753"
      },
      "source": [
        "print(nifty50_2019.shape, niftynext50_2019.shape, nifty_2019.shape)"
      ],
      "execution_count": 69,
      "outputs": [
        {
          "output_type": "stream",
          "text": [
            "(245, 4) (245, 4) (245, 8)\n"
          ],
          "name": "stdout"
        }
      ]
    }
  ]
}