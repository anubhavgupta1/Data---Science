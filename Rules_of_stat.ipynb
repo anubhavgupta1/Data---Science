{
  "nbformat": 4,
  "nbformat_minor": 0,
  "metadata": {
    "colab": {
      "name": "PadhAIdata_objects_sequential-200320-190201.ipynb",
      "provenance": [],
      "collapsed_sections": [],
      "include_colab_link": true
    },
    "kernelspec": {
      "name": "python3",
      "display_name": "Python 3"
    }
  },
  "cells": [
    {
      "cell_type": "markdown",
      "metadata": {
        "id": "view-in-github",
        "colab_type": "text"
      },
      "source": [
        "<a href=\"https://colab.research.google.com/github/anubhavgupta1/Data---Science/blob/main/Rules_of_stat.ipynb\" target=\"_parent\"><img src=\"https://colab.research.google.com/assets/colab-badge.svg\" alt=\"Open In Colab\"/></a>"
      ]
    },
    {
      "cell_type": "markdown",
      "metadata": {
        "id": "pYmTFK6RV6DT"
      },
      "source": [
        "# Stats with Numpy"
      ]
    },
    {
      "cell_type": "code",
      "metadata": {
        "id": "V9nMF4L8lS7j"
      },
      "source": [
        "import numpy as np\n",
        "import time"
      ],
      "execution_count": 1,
      "outputs": []
    },
    {
      "cell_type": "code",
      "metadata": {
        "id": "ZuFuxXFLlVX2"
      },
      "source": [
        "arr = np.random.rand(10000000,)"
      ],
      "execution_count": 2,
      "outputs": []
    },
    {
      "cell_type": "code",
      "metadata": {
        "colab": {
          "base_uri": "https://localhost:8080/"
        },
        "id": "VdzL2fzjlbNt",
        "outputId": "704d9999-de1c-4f00-a9a4-bb733aa528b6"
      },
      "source": [
        "print(\"Minimum in array = \",np.amin(arr))\n",
        "print(\"Maximum in array = \",np.amax(arr))\n",
        "print(\"Mean of array = \",np.mean(arr))\n",
        "print(\"Variance of array = \",np.var(arr))\n",
        "print(\"Standard Deviation of array = \",np.std(arr))\n",
        "print(\"Median of array = \",np.median(arr))\n",
        "print(\"50th Percenile of array = \",np.percentile(arr, 50))\n",
        "print(\"10th Percenile of array = \",np.percentile(arr, 10))\n",
        "print(\"90th Percenile of array = \",np.percentile(arr, 90))"
      ],
      "execution_count": 3,
      "outputs": [
        {
          "output_type": "stream",
          "text": [
            "Minimum in array =  2.2119018838751003e-09\n",
            "Maximum in array =  0.9999997301063213\n",
            "Mean of array =  0.4999202046804808\n",
            "Variance of array =  0.08337636396398453\n",
            "Standard Deviation of array =  0.28874965621448717\n",
            "Median of array =  0.49988392045448105\n",
            "50th Percenile of array =  0.49988392045448105\n",
            "10th Percenile of array =  0.09978183937185185\n",
            "90th Percenile of array =  0.9000112830529324\n"
          ],
          "name": "stdout"
        }
      ]
    },
    {
      "cell_type": "code",
      "metadata": {
        "colab": {
          "base_uri": "https://localhost:8080/"
        },
        "id": "BkTupSNJpRaK",
        "outputId": "21eb968c-40c1-472c-883f-ef8975f414e0"
      },
      "source": [
        "%%time\n",
        "print(\"IQR of array = \",np.percentile(arr, 75)-np.percentile(arr, 25))"
      ],
      "execution_count": 4,
      "outputs": [
        {
          "output_type": "stream",
          "text": [
            "IQR of array =  0.5002763218371324\n",
            "CPU times: user 254 ms, sys: 2.77 ms, total: 257 ms\n",
            "Wall time: 255 ms\n"
          ],
          "name": "stdout"
        }
      ]
    },
    {
      "cell_type": "code",
      "metadata": {
        "colab": {
          "base_uri": "https://localhost:8080/"
        },
        "id": "NvZDUzAFlmzb",
        "outputId": "63e26143-4006-44dc-c433-5f1bcf5628ea"
      },
      "source": [
        "%%time\n",
        "quartiles = np.percentile(arr, [25,75])\n",
        "print(\"IQR of array = \",quartiles[1]-quartiles[0])"
      ],
      "execution_count": 5,
      "outputs": [
        {
          "output_type": "stream",
          "text": [
            "IQR of array =  0.5002763218371324\n",
            "CPU times: user 186 ms, sys: 117 µs, total: 186 ms\n",
            "Wall time: 187 ms\n"
          ],
          "name": "stdout"
        }
      ]
    },
    {
      "cell_type": "code",
      "metadata": {
        "colab": {
          "base_uri": "https://localhost:8080/"
        },
        "id": "gVFk_atVn9Ij",
        "outputId": "27f08ecb-22a3-48bc-ee77-f7e89345c7c9"
      },
      "source": [
        "z_score = (arr - np.mean(arr) )/np.std(arr)\n",
        "print(\"Z Score of array = \",z_score)"
      ],
      "execution_count": 6,
      "outputs": [
        {
          "output_type": "stream",
          "text": [
            "Z Score of array =  [ 0.57125338 -1.27075782  1.0028366  ...  0.82504091 -1.56397801\n",
            " -1.61334811]\n"
          ],
          "name": "stdout"
        }
      ]
    },
    {
      "cell_type": "code",
      "metadata": {
        "colab": {
          "base_uri": "https://localhost:8080/"
        },
        "id": "AWZ2fI_PodtW",
        "outputId": "7aa6198a-b6fb-4de9-fde9-8e7224e71cad"
      },
      "source": [
        "print(np.mean(z_score))\n",
        "print(np.var(z_score))\n",
        "print(np.std(z_score))"
      ],
      "execution_count": 7,
      "outputs": [
        {
          "output_type": "stream",
          "text": [
            "-5.350983656171593e-16\n",
            "1.0000000000000013\n",
            "1.0000000000000007\n"
          ],
          "name": "stdout"
        }
      ]
    },
    {
      "cell_type": "code",
      "metadata": {
        "colab": {
          "base_uri": "https://localhost:8080/"
        },
        "id": "1cI-PgcwpfMR",
        "outputId": "9b4cb418-d752-4e5e-8dc1-4975ded27b12"
      },
      "source": [
        "print(np.histogram(arr))"
      ],
      "execution_count": 8,
      "outputs": [
        {
          "output_type": "stream",
          "text": [
            "(array([1002214, 1000018,  999247,  999463, 1000210, 1000122,  997702,\n",
            "       1000473, 1000441, 1000110]), array([2.21190188e-09, 9.99999750e-02, 1.99999948e-01, 2.99999921e-01,\n",
            "       3.99999893e-01, 4.99999866e-01, 5.99999839e-01, 6.99999812e-01,\n",
            "       7.99999785e-01, 8.99999757e-01, 9.99999730e-01]))\n"
          ],
          "name": "stdout"
        }
      ]
    },
    {
      "cell_type": "code",
      "metadata": {
        "colab": {
          "base_uri": "https://localhost:8080/"
        },
        "id": "J6k5ijp_pzLv",
        "outputId": "01073110-25d5-447b-9a54-885e233a0a3a"
      },
      "source": [
        "print(np.histogram(arr, bins = 5))"
      ],
      "execution_count": 9,
      "outputs": [
        {
          "output_type": "stream",
          "text": [
            "(array([2002232, 1998710, 2000332, 1998175, 2000551]), array([2.21190188e-09, 1.99999948e-01, 3.99999893e-01, 5.99999839e-01,\n",
            "       7.99999785e-01, 9.99999730e-01]))\n"
          ],
          "name": "stdout"
        }
      ]
    },
    {
      "cell_type": "code",
      "metadata": {
        "colab": {
          "base_uri": "https://localhost:8080/"
        },
        "id": "G9O7GymnsADV",
        "outputId": "c21f5dc6-1e38-43c1-dbfe-04414d82a020"
      },
      "source": [
        "np.histogram(arr, bins=[0, 0.25, 0.5, 0.75, 1])\n"
      ],
      "execution_count": 10,
      "outputs": [
        {
          "output_type": "execute_result",
          "data": {
            "text/plain": [
              "(array([2501615, 2499537, 2497662, 2501186]),\n",
              " array([0.  , 0.25, 0.5 , 0.75, 1.  ]))"
            ]
          },
          "metadata": {
            "tags": []
          },
          "execution_count": 10
        }
      ]
    },
    {
      "cell_type": "code",
      "metadata": {
        "colab": {
          "base_uri": "https://localhost:8080/"
        },
        "id": "Vx6rN_aDxP9j",
        "outputId": "b18b66fc-0053-48a7-a66f-6e35bcdb45bf"
      },
      "source": [
        "bins = [0, 0.25, 0.5, 0.75, 1]\n",
        "np.digitize(arr, bins)"
      ],
      "execution_count": 11,
      "outputs": [
        {
          "output_type": "execute_result",
          "data": {
            "text/plain": [
              "array([3, 1, 4, ..., 3, 1, 1])"
            ]
          },
          "metadata": {
            "tags": []
          },
          "execution_count": 11
        }
      ]
    },
    {
      "cell_type": "code",
      "metadata": {
        "colab": {
          "base_uri": "https://localhost:8080/"
        },
        "id": "w_zTuiMOxZ7O",
        "outputId": "8a45e824-3d56-43af-8bc4-aec286db6df1"
      },
      "source": [
        "arr1 = np.random.randint(0, 10, (10))\n",
        "print(arr1)\n",
        "bins = [0, 6, 10]\n",
        "np.digitize(arr1, bins)"
      ],
      "execution_count": 12,
      "outputs": [
        {
          "output_type": "stream",
          "text": [
            "[9 2 9 4 6 3 7 7 8 9]\n"
          ],
          "name": "stdout"
        },
        {
          "output_type": "execute_result",
          "data": {
            "text/plain": [
              "array([2, 1, 2, 1, 2, 1, 2, 2, 2, 2])"
            ]
          },
          "metadata": {
            "tags": []
          },
          "execution_count": 12
        }
      ]
    },
    {
      "cell_type": "code",
      "metadata": {
        "colab": {
          "base_uri": "https://localhost:8080/"
        },
        "id": "8Up_t4oxyA8E",
        "outputId": "3f6fe947-4622-423a-fb8a-72f380e507d2"
      },
      "source": [
        "np.digitize(arr1, bins, right=True)\n"
      ],
      "execution_count": 13,
      "outputs": [
        {
          "output_type": "execute_result",
          "data": {
            "text/plain": [
              "array([2, 1, 2, 1, 1, 1, 2, 2, 2, 2])"
            ]
          },
          "metadata": {
            "tags": []
          },
          "execution_count": 13
        }
      ]
    },
    {
      "cell_type": "code",
      "metadata": {
        "id": "dVKHl0ShySAz"
      },
      "source": [
        "arr1 = np.random.randint(50, 80, 100) # weight\n",
        "arr2 = np.random.randint(150, 185, 100) # heights\n",
        "arr3 = np.random.randint(17, 22, 100) # age\n"
      ],
      "execution_count": 14,
      "outputs": []
    },
    {
      "cell_type": "code",
      "metadata": {
        "colab": {
          "base_uri": "https://localhost:8080/"
        },
        "id": "dxbxcgtaykFb",
        "outputId": "e956dff4-df19-4ad8-b203-638f13fdabc0"
      },
      "source": [
        "np.concatenate((arr1, arr2, arr3)).shape\n"
      ],
      "execution_count": 15,
      "outputs": [
        {
          "output_type": "execute_result",
          "data": {
            "text/plain": [
              "(300,)"
            ]
          },
          "metadata": {
            "tags": []
          },
          "execution_count": 15
        }
      ]
    },
    {
      "cell_type": "code",
      "metadata": {
        "colab": {
          "base_uri": "https://localhost:8080/"
        },
        "id": "POa36rPfypb-",
        "outputId": "3c547857-c757-4eb0-9ee5-af7dff71fb2e"
      },
      "source": [
        "np.vstack((arr1, arr2, arr3)).shape\n"
      ],
      "execution_count": 16,
      "outputs": [
        {
          "output_type": "execute_result",
          "data": {
            "text/plain": [
              "(3, 100)"
            ]
          },
          "metadata": {
            "tags": []
          },
          "execution_count": 16
        }
      ]
    },
    {
      "cell_type": "code",
      "metadata": {
        "colab": {
          "base_uri": "https://localhost:8080/"
        },
        "id": "6lKG0NxoyvCk",
        "outputId": "f0a02792-a242-49d2-a3c3-08a8ac9921b0"
      },
      "source": [
        "arr2d = np.vstack((arr1, arr2, arr3))\n",
        "print(np.amin(arr2d, axis=1))\n",
        "print(np.amax(arr2d, axis=1))\n",
        "print(np.mean(arr2d, axis=1))"
      ],
      "execution_count": 17,
      "outputs": [
        {
          "output_type": "stream",
          "text": [
            "[ 50 150  17]\n",
            "[ 79 184  21]\n",
            "[ 64.31 166.39  19.03]\n"
          ],
          "name": "stdout"
        }
      ]
    },
    {
      "cell_type": "markdown",
      "metadata": {
        "id": "QQxy95dRV_mD"
      },
      "source": [
        "# Rules of Statistics"
      ]
    },
    {
      "cell_type": "code",
      "metadata": {
        "colab": {
          "base_uri": "https://localhost:8080/"
        },
        "id": "KE7MLyE0WIAw",
        "outputId": "3138242a-f586-4386-d9aa-f696463cf515"
      },
      "source": [
        "arr = np.random.rand(1000)\n",
        "mean = np.mean(arr)\n",
        "arr1 = arr - mean\n",
        "np.mean(arr1)"
      ],
      "execution_count": 18,
      "outputs": [
        {
          "output_type": "execute_result",
          "data": {
            "text/plain": [
              "4.884981308350689e-17"
            ]
          },
          "metadata": {
            "tags": []
          },
          "execution_count": 18
        }
      ]
    },
    {
      "cell_type": "markdown",
      "metadata": {
        "id": "JZc8NppHXL9F"
      },
      "source": [
        "# Computing mean with smaller set of values"
      ]
    },
    {
      "cell_type": "code",
      "metadata": {
        "id": "3epanYGEWY2t"
      },
      "source": [
        "arr = np.random.rand(1000)"
      ],
      "execution_count": 19,
      "outputs": []
    },
    {
      "cell_type": "code",
      "metadata": {
        "colab": {
          "base_uri": "https://localhost:8080/"
        },
        "id": "irNCyviqXWqo",
        "outputId": "0e6090f8-980d-4321-aae4-a4cdc0c3ab7c"
      },
      "source": [
        "for k in range(1, 50):\n",
        "    arr1 = arr[0:k]\n",
        "    print(k, np.mean(arr1))"
      ],
      "execution_count": 20,
      "outputs": [
        {
          "output_type": "stream",
          "text": [
            "1 0.867773127870064\n",
            "2 0.714186744528563\n",
            "3 0.7933227482967958\n",
            "4 0.7866067122586256\n",
            "5 0.7796669384549914\n",
            "6 0.724682662245456\n",
            "7 0.6866030499572405\n",
            "8 0.6058986966747824\n",
            "9 0.593546219621806\n",
            "10 0.5675013359436836\n",
            "11 0.6035337104497625\n",
            "12 0.6012297791871556\n",
            "13 0.563817314993834\n",
            "14 0.5937560651517435\n",
            "15 0.6175589638367887\n",
            "16 0.5870501682301494\n",
            "17 0.5735402824603916\n",
            "18 0.5808851382423985\n",
            "19 0.5723587007564181\n",
            "20 0.590786903786271\n",
            "21 0.57473160049515\n",
            "22 0.582904828179514\n",
            "23 0.5797242081003362\n",
            "24 0.5966362049959469\n",
            "25 0.6022468081706419\n",
            "26 0.5877221961486948\n",
            "27 0.597584340646636\n",
            "28 0.59194389761392\n",
            "29 0.5920187637609531\n",
            "30 0.5928647316697612\n",
            "31 0.5800603764318182\n",
            "32 0.5838099110796471\n",
            "33 0.581583928794865\n",
            "34 0.5879138899444443\n",
            "35 0.585048615149616\n",
            "36 0.5905486648868501\n",
            "37 0.586653177826042\n",
            "38 0.5902653594559901\n",
            "39 0.5878568912425117\n",
            "40 0.5812370578806721\n",
            "41 0.5704704151810002\n",
            "42 0.5659100658661745\n",
            "43 0.5713830143716836\n",
            "44 0.5805141043575763\n",
            "45 0.5879512290911666\n",
            "46 0.5924659423779757\n",
            "47 0.5917393069220985\n",
            "48 0.5940736171137643\n",
            "49 0.6000030370271444\n"
          ],
          "name": "stdout"
        }
      ]
    },
    {
      "cell_type": "code",
      "metadata": {
        "colab": {
          "base_uri": "https://localhost:8080/"
        },
        "id": "Wl0Cn0NWYLVk",
        "outputId": "6a518d3f-63cb-490f-96f5-3c4831e86a2d"
      },
      "source": [
        "arr = np.random.randint(0,10,10)\n",
        "print(\"array is : \", arr)\n",
        "print(\"Cummulative sum is : \", np.cumsum(arr))"
      ],
      "execution_count": 21,
      "outputs": [
        {
          "output_type": "stream",
          "text": [
            "array is :  [5 4 8 7 1 8 0 2 5 6]\n",
            "Cummulative sum is :  [ 5  9 17 24 25 33 33 35 40 46]\n"
          ],
          "name": "stdout"
        }
      ]
    },
    {
      "cell_type": "code",
      "metadata": {
        "colab": {
          "base_uri": "https://localhost:8080/"
        },
        "id": "w4Ym6CbhY8Yt",
        "outputId": "28861abc-efd4-4aed-b475-1f5670feb344"
      },
      "source": [
        "means = np.cumsum(np.random.rand(1000))/np.arange(1,1001)\n",
        "means[0:15]"
      ],
      "execution_count": 22,
      "outputs": [
        {
          "output_type": "execute_result",
          "data": {
            "text/plain": [
              "array([0.90060791, 0.94586961, 0.85662787, 0.83030559, 0.714819  ,\n",
              "       0.6711479 , 0.63306026, 0.67337232, 0.6782025 , 0.65996617,\n",
              "       0.63631985, 0.64444153, 0.66783938, 0.62774791, 0.60284705])"
            ]
          },
          "metadata": {
            "tags": []
          },
          "execution_count": 22
        }
      ]
    },
    {
      "cell_type": "markdown",
      "metadata": {
        "id": "mcFdHsbeZjQw"
      },
      "source": [
        "##Effect of outliers on mean and median"
      ]
    },
    {
      "cell_type": "code",
      "metadata": {
        "colab": {
          "base_uri": "https://localhost:8080/"
        },
        "id": "go_jzxOdZk5_",
        "outputId": "7a0dcfc2-cb3b-48d3-fcad-47c353dab4e6"
      },
      "source": [
        "arr = np.random.randint(1, 100, 100)\n",
        "print(\"Mean is : \", np.mean(arr))\n",
        "print(\"Median is : \", np.median(arr))"
      ],
      "execution_count": 23,
      "outputs": [
        {
          "output_type": "stream",
          "text": [
            "Mean is :  48.46\n",
            "Median is :  53.0\n"
          ],
          "name": "stdout"
        }
      ]
    },
    {
      "cell_type": "code",
      "metadata": {
        "colab": {
          "base_uri": "https://localhost:8080/"
        },
        "id": "SY1wMy7McizU",
        "outputId": "d02288ff-179e-4951-ef00-4cea599d6723"
      },
      "source": [
        "arr = np.append(arr, [1000, 2000])\n",
        "print(\"Mean is : \", np.mean(arr))\n",
        "print(\"Median is : \", np.median(arr))"
      ],
      "execution_count": 24,
      "outputs": [
        {
          "output_type": "stream",
          "text": [
            "Mean is :  76.92156862745098\n",
            "Median is :  53.0\n"
          ],
          "name": "stdout"
        }
      ]
    },
    {
      "cell_type": "markdown",
      "metadata": {
        "id": "px70yQUvcyx4"
      },
      "source": [
        "## Effect of scaling arrays on mean and median"
      ]
    },
    {
      "cell_type": "code",
      "metadata": {
        "colab": {
          "base_uri": "https://localhost:8080/"
        },
        "id": "Q-tcMre1cxtP",
        "outputId": "8ba50027-89f1-443b-8889-470d1cabde1e"
      },
      "source": [
        "old_arr = np.random.randint(1, 100, 100)\n",
        "print(\"Mean is : \", np.mean(old_arr))\n",
        "print(\"Median is : \", np.median(old_arr))\n",
        "print(\"50th Percenile of array = \",np.percentile(old_arr, 50))\n",
        "print(\"Min = {}, Max = {} and Range  = {}\".format(np.amin(old_arr),np.amax(old_arr),np.amax(old_arr)-np.amin(old_arr)))\n",
        "quartiles = np.percentile(old_arr, [25,75])\n",
        "print(\"IQR of array = \",quartiles[1]-quartiles[0])\n",
        "print(\"Standard deviation = \", np.std(old_arr))\n",
        "print(\"Variance is : \", np.var(old_arr))"
      ],
      "execution_count": 25,
      "outputs": [
        {
          "output_type": "stream",
          "text": [
            "Mean is :  49.98\n",
            "Median is :  50.0\n",
            "50th Percenile of array =  50.0\n",
            "Min = 2, Max = 99 and Range  = 97\n",
            "IQR of array =  48.25\n",
            "Standard deviation =  29.664450104460055\n",
            "Variance is :  879.9796000000001\n"
          ],
          "name": "stdout"
        }
      ]
    },
    {
      "cell_type": "code",
      "metadata": {
        "id": "wVDt4qZadAlQ"
      },
      "source": [
        "new_arr = 2.5 * old_arr + 0.65"
      ],
      "execution_count": 26,
      "outputs": []
    },
    {
      "cell_type": "code",
      "metadata": {
        "id": "RboYOvQrew2Q"
      },
      "source": [
        "new_mean = 2.5 * np.mean(old_arr) + 0.6\n",
        "new_median = 2.5 * np.median(old_arr) + 0.6\n",
        "new_percentile_50th = 2.5 * np.percentile(old_arr, 50) + 0.6\n"
      ],
      "execution_count": 27,
      "outputs": []
    },
    {
      "cell_type": "code",
      "metadata": {
        "colab": {
          "base_uri": "https://localhost:8080/"
        },
        "id": "Nfz93jmUwW-r",
        "outputId": "245807dd-bd26-4843-986e-d2909e68ce10"
      },
      "source": [
        "print(\"New Mean is : {}, {}\".format(np.mean(new_arr), new_mean))\n",
        "print(\"New Median is : {}, {}\".format(np.median(new_arr), new_median))\n",
        "print(\"New 50th Percenile of array is : {}, {}\".format(np.percentile(new_arr, 50), new_percentile_50th))"
      ],
      "execution_count": 28,
      "outputs": [
        {
          "output_type": "stream",
          "text": [
            "New Mean is : 125.6, 125.54999999999998\n",
            "New Median is : 125.65, 125.6\n",
            "New 50th Percenile of array is : 125.65, 125.6\n"
          ],
          "name": "stdout"
        }
      ]
    },
    {
      "cell_type": "code",
      "metadata": {
        "id": "IxxkU7ECqiNq"
      },
      "source": [
        "new_range = 2.5 * (np.amax(old_arr)-np.amin(old_arr))\n",
        "new_iqr = 2.5 * (quartiles[1]-quartiles[0])\n",
        "new_std = 2.5 * np.std(old_arr)"
      ],
      "execution_count": 29,
      "outputs": []
    },
    {
      "cell_type": "code",
      "metadata": {
        "id": "OSxvnZp3jTM3"
      },
      "source": [
        "new_quartiles = np.percentile(new_arr, [25,75])"
      ],
      "execution_count": 30,
      "outputs": []
    },
    {
      "cell_type": "code",
      "metadata": {
        "colab": {
          "base_uri": "https://localhost:8080/"
        },
        "id": "fhGyGsVnea1j",
        "outputId": "417ed311-3df9-4894-fd88-5ab7dd095b2e"
      },
      "source": [
        "print(\"New Range  = {}, {}\".format(np.amax(new_arr)-np.amin(new_arr), new_range))\n",
        "print(\"New IQR  = {}, {}\".format(new_quartiles[1]-new_quartiles[0], new_iqr))\n",
        "print(\"New Standard Deviation = {}, {}\".format(np.std(new_arr), new_std))"
      ],
      "execution_count": 31,
      "outputs": [
        {
          "output_type": "stream",
          "text": [
            "New Range  = 242.5, 242.5\n",
            "New IQR  = 120.625, 120.625\n",
            "New Standard Deviation = 74.16112526115012, 74.16112526115013\n"
          ],
          "name": "stdout"
        }
      ]
    },
    {
      "cell_type": "code",
      "metadata": {
        "id": "GXklq42dwf5E"
      },
      "source": [
        "new_var = 2.5 * 2.5 * np.var(old_arr)"
      ],
      "execution_count": 32,
      "outputs": []
    },
    {
      "cell_type": "code",
      "metadata": {
        "colab": {
          "base_uri": "https://localhost:8080/"
        },
        "id": "JoaIKBkMwinC",
        "outputId": "b2d0ddf1-7869-4705-9a5f-2212a99bff5d"
      },
      "source": [
        "print(\"New Variance = {}, {}\".format(np.var(new_arr), new_var))"
      ],
      "execution_count": 33,
      "outputs": [
        {
          "output_type": "stream",
          "text": [
            "New Variance = 5499.872499999998, 5499.8725\n"
          ],
          "name": "stdout"
        }
      ]
    }
  ]
}