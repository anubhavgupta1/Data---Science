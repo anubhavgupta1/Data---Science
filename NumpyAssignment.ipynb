{
  "nbformat": 4,
  "nbformat_minor": 0,
  "metadata": {
    "colab": {
      "name": "PadhAIdata_objects_sequential-200320-190201.ipynb",
      "provenance": [],
      "collapsed_sections": [],
      "include_colab_link": true
    },
    "kernelspec": {
      "name": "python3",
      "display_name": "Python 3"
    }
  },
  "cells": [
    {
      "cell_type": "markdown",
      "metadata": {
        "id": "view-in-github",
        "colab_type": "text"
      },
      "source": [
        "<a href=\"https://colab.research.google.com/github/anubhavgupta1/Data---Science/blob/main/NumpyAssignment.ipynb\" target=\"_parent\"><img src=\"https://colab.research.google.com/assets/colab-badge.svg\" alt=\"Open In Colab\"/></a>"
      ]
    },
    {
      "cell_type": "code",
      "metadata": {
        "colab": {
          "base_uri": "https://localhost:8080/"
        },
        "id": "srmIU4sXxIsD",
        "outputId": "87884803-028b-4d13-dd70-71f1be9c42f4"
      },
      "source": [
        "!ls\n",
        "!apt-get install -y -qq software-properties-common python-software-properties module-init-tools\n",
        "!add-apt-repository -y ppa:alessandro-strada/ppa 2>&1 > /dev/null\n",
        "!apt-get update -qq 2>&1 > /dev/null\n",
        "!apt-get -y install -qq google-drive-ocamlfuse fuse\n",
        "from google.colab import auth\n",
        "auth.authenticate_user()\n",
        "from oauth2client.client import GoogleCredentials\n",
        "creds = GoogleCredentials.get_application_default()\n",
        "import getpass\n",
        "!google-drive-ocamlfuse -headless -id={creds.client_id} -secret={creds.client_secret} < /dev/null 2>&1 | grep URL\n",
        "vcode = getpass.getpass()\n",
        "!echo {vcode} | google-drive-ocamlfuse -headless -id={creds.client_id} -secret={creds.client_secret}\n",
        "\n",
        "\n",
        "!mkdir -p drive\n",
        "!google-drive-ocamlfuse drive\n",
        "\n",
        "import os\n",
        "os.chdir (\"drive/Udacity/data science/\")\n",
        "!ls"
      ],
      "execution_count": 1,
      "outputs": [
        {
          "output_type": "stream",
          "text": [
            "sample_data\n",
            "E: Package 'python-software-properties' has no installation candidate\n",
            "Selecting previously unselected package google-drive-ocamlfuse.\n",
            "(Reading database ... 160983 files and directories currently installed.)\n",
            "Preparing to unpack .../google-drive-ocamlfuse_0.7.24-0ubuntu1~ubuntu18.04.1_amd64.deb ...\n",
            "Unpacking google-drive-ocamlfuse (0.7.24-0ubuntu1~ubuntu18.04.1) ...\n",
            "Setting up google-drive-ocamlfuse (0.7.24-0ubuntu1~ubuntu18.04.1) ...\n",
            "Processing triggers for man-db (2.8.3-2ubuntu0.1) ...\n",
            "Please, open the following URL in a web browser: https://accounts.google.com/o/oauth2/auth?client_id=32555940559.apps.googleusercontent.com&redirect_uri=urn%3Aietf%3Awg%3Aoauth%3A2.0%3Aoob&scope=https%3A%2F%2Fwww.googleapis.com%2Fauth%2Fdrive&response_type=code&access_type=offline&approval_prompt=force\n",
            "··········\n",
            "Please, open the following URL in a web browser: https://accounts.google.com/o/oauth2/auth?client_id=32555940559.apps.googleusercontent.com&redirect_uri=urn%3Aietf%3Awg%3Aoauth%3A2.0%3Aoob&scope=https%3A%2F%2Fwww.googleapis.com%2Fauth%2Fdrive&response_type=code&access_type=offline&approval_prompt=force\n",
            "Please enter the verification code: Access token retrieved correctly.\n",
            "cric_data.tsv\t\t  planets_new.npy    planets.txt\n",
            "many_arrs_compressed.npz  planets_new.txt    zeros_compressed.npz\n",
            "many_arrs.npz\t\t  planets_small.txt  zeros.npz\n"
          ],
          "name": "stdout"
        }
      ]
    },
    {
      "cell_type": "code",
      "metadata": {
        "colab": {
          "base_uri": "https://localhost:8080/"
        },
        "id": "b4b3soYLxtrN",
        "outputId": "c7433dd8-d086-427b-ba07-a948d2038233"
      },
      "source": [
        "!head cric_data.tsv\n"
      ],
      "execution_count": 2,
      "outputs": [
        {
          "output_type": "stream",
          "text": [
            "\tSachin Tendulkar\tRahul Dravid\tIndia\n",
            "0\t100\t78\t342\n",
            "1\t11\t62\t191\n",
            "2\t8\t85\t252\n",
            "3\t71\t24\t307\n",
            "4\t104\t17\t229\n",
            "5\t18\t104\t246\n",
            "6\t8\t76\t226\n",
            "7\t86\t74\t288\n",
            "8\t12\t60\t216\n"
          ],
          "name": "stdout"
        }
      ]
    },
    {
      "cell_type": "code",
      "metadata": {
        "id": "blrdCmw7FOjD"
      },
      "source": [
        "import numpy as np\n"
      ],
      "execution_count": 3,
      "outputs": []
    },
    {
      "cell_type": "code",
      "metadata": {
        "colab": {
          "base_uri": "https://localhost:8080/"
        },
        "id": "J2-MnNDHEuzR",
        "outputId": "7c9c5952-774a-4085-b456-45b96b220ce6"
      },
      "source": [
        "cric_data = np.loadtxt(\"cric_data.tsv\", skiprows=1, usecols = [1,2,3])\n",
        "cric_data.shape\n"
      ],
      "execution_count": 4,
      "outputs": [
        {
          "output_type": "execute_result",
          "data": {
            "text/plain": [
              "(225, 3)"
            ]
          },
          "metadata": {
            "tags": []
          },
          "execution_count": 4
        }
      ]
    },
    {
      "cell_type": "code",
      "metadata": {
        "id": "ZJfg6OVrFbtS"
      },
      "source": [
        "sachin = cric_data[:, 0]\n",
        "rahul = cric_data[:, 1]\n",
        "india = cric_data[:, 2]"
      ],
      "execution_count": 5,
      "outputs": []
    },
    {
      "cell_type": "code",
      "metadata": {
        "id": "mXvylW3nFzjZ"
      },
      "source": [
        "class Assignment :\n",
        "\n",
        "  def problem1(self, col, name):\n",
        "    print(\"\\n\",name)\n",
        "    print('Mean is ', np.mean(col))\n",
        "    print('Median is ', np.median(col))\n",
        "    print('IQR is ', np.percentile(col, 75) - np.percentile(col, 25))\n",
        "    print(\"----------------------------------\")\n",
        "  \n",
        "  def problem2(self,name, col, bins = 2):\n",
        "    print(\"\\n\",name)\n",
        "    print(np.histogram(col, bins= bins))\n",
        "    print(\"----------------------------------\")\n",
        "\n",
        "  def problem3(self,name, col, groupby = 10):\n",
        "    col = col.reshape(-1, groupby)\n",
        "    print(\"\\n\",name)\n",
        "    print(np.mean(col, axis = 1))\n",
        "    print(\"----------------------------------\")\n",
        "  \n",
        "  def problem4(self,name, col, score = 50):\n",
        "    print(\"\\n\",name)\n",
        "    print(np.mean(col[col >= score]))\n",
        "    print(\"----------------------------------\")\n",
        "  \n",
        "  def problem5(self,name, col, score = 50):\n",
        "    print(\"\\n\",name)\n",
        "    print(np.mean(col[col <= score]))\n",
        "    print(\"----------------------------------\")\n",
        "  \n",
        "  def problem6(self,name, col, india):\n",
        "    quartiles = np.percentile(india, [25, 50, 75, 100])\n",
        "    quartiles = quartiles.reshape(quartiles.shape[0],-1)\n",
        "    indices = india < quartiles\n",
        "    for i in range(quartiles.shape[0]):\n",
        "      print(\"if india's score less than {} in quartile {} then {}'s average score is {}\".format(quartiles[i,0], i+1, name, np.mean(col[indices[i]]) ))\n",
        "    print(\"----------------------------------\")\n",
        "  \n",
        "  def problem7(self,person1, person2, data):\n",
        "    for i, winner in enumerate(np.where(np.argmax(data, axis=1) == 0, person1, person2)):\n",
        "      print(i+1, winner)\n",
        "    print(\"----------------------------------\")\n",
        "  \n",
        "  def problem8(self,col, data):\n",
        "     data = data.reshape(data.shape[0], -1)\n",
        "     indices = col>=data\n",
        "     for i in range(data.shape[0]):\n",
        "       print(data[i, 0], np.mean(col[indices[i, :]]) - data[i, 0])\n",
        "     print(\"----------------------------------\")\n",
        "  \n",
        "  def problem9(self,name, col):\n",
        "    cumsum = np.cumsum(col)\n",
        "    print(cumsum)\n",
        "    self.problem2(name, cumsum, bins = np.arange(0, 10000, 1000))"
      ],
      "execution_count": 6,
      "outputs": []
    },
    {
      "cell_type": "code",
      "metadata": {
        "id": "-1QP-Hq5MC6Z"
      },
      "source": [
        "solution = Assignment()"
      ],
      "execution_count": 7,
      "outputs": []
    },
    {
      "cell_type": "markdown",
      "metadata": {
        "id": "hfLcCG79G_lu"
      },
      "source": [
        "## Problem 1 : Find mean, median, IQR for Sachin, Rahul, and India"
      ]
    },
    {
      "cell_type": "code",
      "metadata": {
        "colab": {
          "base_uri": "https://localhost:8080/"
        },
        "id": "AKfHPKZ4GFvL",
        "outputId": "8849d238-1c14-4d64-f046-09b5b69c8f0b"
      },
      "source": [
        "solution.problem1(sachin, \"Sachin\")\n",
        "solution.problem1(rahul, \"Rahul\")\n",
        "solution.problem1(india, \"India\")"
      ],
      "execution_count": 8,
      "outputs": [
        {
          "output_type": "stream",
          "text": [
            "\n",
            " Sachin\n",
            "Mean is  39.87555555555556\n",
            "Median is  27.0\n",
            "IQR is  57.0\n",
            "----------------------------------\n",
            "\n",
            " Rahul\n",
            "Mean is  32.062222222222225\n",
            "Median is  22.0\n",
            "IQR is  46.0\n",
            "----------------------------------\n",
            "\n",
            " India\n",
            "Mean is  220.79555555555555\n",
            "Median is  216.0\n",
            "IQR is  98.0\n",
            "----------------------------------\n"
          ],
          "name": "stdout"
        }
      ]
    },
    {
      "cell_type": "markdown",
      "metadata": {
        "id": "1R0rKqLCHxwN"
      },
      "source": [
        "## Find the histogram of Sachin's scores with 10 bins"
      ]
    },
    {
      "cell_type": "code",
      "metadata": {
        "colab": {
          "base_uri": "https://localhost:8080/"
        },
        "id": "GW0A7_00H4Wj",
        "outputId": "bec2019a-5955-46c5-807e-acba651b3355"
      },
      "source": [
        "solution.problem2(\"Sachin\", sachin, bins = 5)"
      ],
      "execution_count": 9,
      "outputs": [
        {
          "output_type": "stream",
          "text": [
            "\n",
            " Sachin\n",
            "(array([135,  44,  28,  16,   2]), array([  0. ,  37.2,  74.4, 111.6, 148.8, 186. ]))\n",
            "----------------------------------\n"
          ],
          "name": "stdout"
        }
      ]
    },
    {
      "cell_type": "markdown",
      "metadata": {
        "id": "UA3mR6OXLeMQ"
      },
      "source": [
        "## Find mean of Sachin's scores grouped by 25 matches"
      ]
    },
    {
      "cell_type": "code",
      "metadata": {
        "colab": {
          "base_uri": "https://localhost:8080/"
        },
        "id": "JVwhym2rLlUm",
        "outputId": "1f1260be-0a4d-476a-9c81-80c7dc0fb690"
      },
      "source": [
        "solution.problem3(\"Sachin\", sachin, groupby = 25)"
      ],
      "execution_count": 10,
      "outputs": [
        {
          "output_type": "stream",
          "text": [
            "\n",
            " Sachin\n",
            "[33.96 49.4  38.48 40.16 39.36 38.2  44.6  39.52 35.2 ]\n",
            "----------------------------------\n"
          ],
          "name": "stdout"
        }
      ]
    },
    {
      "cell_type": "markdown",
      "metadata": {
        "id": "Xg8xZtIdMYeR"
      },
      "source": [
        "## Find mean of Sachin's scores where he has scored a century"
      ]
    },
    {
      "cell_type": "code",
      "metadata": {
        "colab": {
          "base_uri": "https://localhost:8080/"
        },
        "id": "Ekr0m4c6MUpD",
        "outputId": "87be8bc6-c615-40bd-e5f5-af60d22b5f95"
      },
      "source": [
        "solution.problem4(\"Sachin\", sachin, score = 100)"
      ],
      "execution_count": 11,
      "outputs": [
        {
          "output_type": "stream",
          "text": [
            "\n",
            " Sachin\n",
            "125.0\n",
            "----------------------------------\n"
          ],
          "name": "stdout"
        }
      ]
    },
    {
      "cell_type": "markdown",
      "metadata": {
        "id": "bwsdYZK1RGpc"
      },
      "source": [
        "## Find mean of Sachin's scores when Rahul has scored less than 10"
      ]
    },
    {
      "cell_type": "code",
      "metadata": {
        "colab": {
          "base_uri": "https://localhost:8080/"
        },
        "id": "UvJ-0hLaRFp1",
        "outputId": "ef8ef0cf-c428-4c5f-f4f8-3246d5c662da"
      },
      "source": [
        "solution.problem5(\"Rahul\", rahul, score = 10)"
      ],
      "execution_count": 12,
      "outputs": [
        {
          "output_type": "stream",
          "text": [
            "\n",
            " Rahul\n",
            "3.1267605633802815\n",
            "----------------------------------\n"
          ],
          "name": "stdout"
        }
      ]
    },
    {
      "cell_type": "markdown",
      "metadata": {
        "id": "W6A2FSrqRlZZ"
      },
      "source": [
        "## Find mean for Sachin's scores based on which quartile India's score falls in"
      ]
    },
    {
      "cell_type": "code",
      "metadata": {
        "colab": {
          "base_uri": "https://localhost:8080/"
        },
        "id": "DgNkjFkWRk3y",
        "outputId": "e78c1229-632b-4458-84cc-b04d3421dd4b"
      },
      "source": [
        "solution.problem6(\"Sachin\", sachin, india)"
      ],
      "execution_count": 13,
      "outputs": [
        {
          "output_type": "stream",
          "text": [
            "if india's score less than 175.0 in quartile 1 then Sachin's average score is 19.672727272727272\n",
            "if india's score less than 216.0 in quartile 2 then Sachin's average score is 28.18018018018018\n",
            "if india's score less than 273.0 in quartile 3 then Sachin's average score is 31.688622754491018\n",
            "if india's score less than 499.0 in quartile 4 then Sachin's average score is 39.799107142857146\n",
            "----------------------------------\n"
          ],
          "name": "stdout"
        }
      ]
    },
    {
      "cell_type": "markdown",
      "metadata": {
        "id": "kpZdWBu7Y_XT"
      },
      "source": [
        "## For every match find out who has has scored more - Sachin or Rahul"
      ]
    },
    {
      "cell_type": "code",
      "metadata": {
        "colab": {
          "base_uri": "https://localhost:8080/"
        },
        "id": "lgiDvpAKY90a",
        "outputId": "8481dd99-1a4b-4d90-e81d-4e3257caa691"
      },
      "source": [
        "solution.problem7(\"Sachin\", \"Rahul\",cric_data[:, 0:2])"
      ],
      "execution_count": 14,
      "outputs": [
        {
          "output_type": "stream",
          "text": [
            "1 Sachin\n",
            "2 Rahul\n",
            "3 Rahul\n",
            "4 Sachin\n",
            "5 Sachin\n",
            "6 Rahul\n",
            "7 Rahul\n",
            "8 Sachin\n",
            "9 Rahul\n",
            "10 Sachin\n",
            "11 Rahul\n",
            "12 Rahul\n",
            "13 Rahul\n",
            "14 Sachin\n",
            "15 Sachin\n",
            "16 Rahul\n",
            "17 Rahul\n",
            "18 Sachin\n",
            "19 Rahul\n",
            "20 Rahul\n",
            "21 Sachin\n",
            "22 Rahul\n",
            "23 Sachin\n",
            "24 Sachin\n",
            "25 Rahul\n",
            "26 Sachin\n",
            "27 Sachin\n",
            "28 Sachin\n",
            "29 Sachin\n",
            "30 Sachin\n",
            "31 Sachin\n",
            "32 Sachin\n",
            "33 Rahul\n",
            "34 Rahul\n",
            "35 Sachin\n",
            "36 Rahul\n",
            "37 Rahul\n",
            "38 Sachin\n",
            "39 Rahul\n",
            "40 Sachin\n",
            "41 Sachin\n",
            "42 Sachin\n",
            "43 Sachin\n",
            "44 Rahul\n",
            "45 Sachin\n",
            "46 Rahul\n",
            "47 Rahul\n",
            "48 Sachin\n",
            "49 Rahul\n",
            "50 Sachin\n",
            "51 Rahul\n",
            "52 Rahul\n",
            "53 Rahul\n",
            "54 Rahul\n",
            "55 Sachin\n",
            "56 Rahul\n",
            "57 Sachin\n",
            "58 Sachin\n",
            "59 Rahul\n",
            "60 Rahul\n",
            "61 Rahul\n",
            "62 Sachin\n",
            "63 Rahul\n",
            "64 Sachin\n",
            "65 Sachin\n",
            "66 Sachin\n",
            "67 Sachin\n",
            "68 Rahul\n",
            "69 Sachin\n",
            "70 Rahul\n",
            "71 Rahul\n",
            "72 Sachin\n",
            "73 Sachin\n",
            "74 Rahul\n",
            "75 Rahul\n",
            "76 Sachin\n",
            "77 Rahul\n",
            "78 Rahul\n",
            "79 Sachin\n",
            "80 Rahul\n",
            "81 Rahul\n",
            "82 Rahul\n",
            "83 Rahul\n",
            "84 Rahul\n",
            "85 Rahul\n",
            "86 Sachin\n",
            "87 Sachin\n",
            "88 Sachin\n",
            "89 Rahul\n",
            "90 Sachin\n",
            "91 Sachin\n",
            "92 Sachin\n",
            "93 Sachin\n",
            "94 Sachin\n",
            "95 Sachin\n",
            "96 Rahul\n",
            "97 Rahul\n",
            "98 Sachin\n",
            "99 Rahul\n",
            "100 Sachin\n",
            "101 Sachin\n",
            "102 Rahul\n",
            "103 Rahul\n",
            "104 Rahul\n",
            "105 Rahul\n",
            "106 Sachin\n",
            "107 Rahul\n",
            "108 Rahul\n",
            "109 Sachin\n",
            "110 Sachin\n",
            "111 Sachin\n",
            "112 Sachin\n",
            "113 Rahul\n",
            "114 Sachin\n",
            "115 Rahul\n",
            "116 Sachin\n",
            "117 Sachin\n",
            "118 Sachin\n",
            "119 Rahul\n",
            "120 Sachin\n",
            "121 Rahul\n",
            "122 Sachin\n",
            "123 Sachin\n",
            "124 Sachin\n",
            "125 Sachin\n",
            "126 Rahul\n",
            "127 Sachin\n",
            "128 Rahul\n",
            "129 Rahul\n",
            "130 Sachin\n",
            "131 Sachin\n",
            "132 Rahul\n",
            "133 Sachin\n",
            "134 Rahul\n",
            "135 Sachin\n",
            "136 Sachin\n",
            "137 Sachin\n",
            "138 Sachin\n",
            "139 Sachin\n",
            "140 Sachin\n",
            "141 Rahul\n",
            "142 Rahul\n",
            "143 Rahul\n",
            "144 Sachin\n",
            "145 Sachin\n",
            "146 Sachin\n",
            "147 Sachin\n",
            "148 Rahul\n",
            "149 Sachin\n",
            "150 Rahul\n",
            "151 Sachin\n",
            "152 Sachin\n",
            "153 Sachin\n",
            "154 Sachin\n",
            "155 Rahul\n",
            "156 Rahul\n",
            "157 Rahul\n",
            "158 Sachin\n",
            "159 Rahul\n",
            "160 Sachin\n",
            "161 Rahul\n",
            "162 Sachin\n",
            "163 Rahul\n",
            "164 Sachin\n",
            "165 Sachin\n",
            "166 Rahul\n",
            "167 Sachin\n",
            "168 Rahul\n",
            "169 Rahul\n",
            "170 Sachin\n",
            "171 Sachin\n",
            "172 Rahul\n",
            "173 Sachin\n",
            "174 Sachin\n",
            "175 Sachin\n",
            "176 Sachin\n",
            "177 Rahul\n",
            "178 Sachin\n",
            "179 Rahul\n",
            "180 Rahul\n",
            "181 Sachin\n",
            "182 Sachin\n",
            "183 Sachin\n",
            "184 Sachin\n",
            "185 Rahul\n",
            "186 Rahul\n",
            "187 Rahul\n",
            "188 Sachin\n",
            "189 Rahul\n",
            "190 Rahul\n",
            "191 Rahul\n",
            "192 Rahul\n",
            "193 Sachin\n",
            "194 Rahul\n",
            "195 Rahul\n",
            "196 Sachin\n",
            "197 Rahul\n",
            "198 Rahul\n",
            "199 Sachin\n",
            "200 Rahul\n",
            "201 Sachin\n",
            "202 Sachin\n",
            "203 Sachin\n",
            "204 Rahul\n",
            "205 Sachin\n",
            "206 Rahul\n",
            "207 Rahul\n",
            "208 Rahul\n",
            "209 Sachin\n",
            "210 Sachin\n",
            "211 Sachin\n",
            "212 Rahul\n",
            "213 Rahul\n",
            "214 Sachin\n",
            "215 Rahul\n",
            "216 Sachin\n",
            "217 Rahul\n",
            "218 Rahul\n",
            "219 Rahul\n",
            "220 Rahul\n",
            "221 Sachin\n",
            "222 Sachin\n",
            "223 Rahul\n",
            "224 Sachin\n",
            "225 Sachin\n",
            "----------------------------------\n"
          ],
          "name": "stdout"
        }
      ]
    },
    {
      "cell_type": "markdown",
      "metadata": {
        "id": "DxcTw3RAbukx"
      },
      "source": [
        "## How many more runs does Sachin score on average after having scored x runs"
      ]
    },
    {
      "cell_type": "code",
      "metadata": {
        "colab": {
          "base_uri": "https://localhost:8080/"
        },
        "id": "pUNfPbAQbw79",
        "outputId": "226e21b1-ca66-439c-c3a9-b2bd5fc40bb5"
      },
      "source": [
        "x_arr = np.arange(0, 101, 5)\n",
        "solution.problem8(sachin, x_arr)\n"
      ],
      "execution_count": 15,
      "outputs": [
        {
          "output_type": "stream",
          "text": [
            "0 39.87555555555556\n",
            "5 45.61363636363637\n",
            "10 47.48026315789474\n",
            "15 47.45255474452555\n",
            "20 46.824\n",
            "25 44.10084033613445\n",
            "30 45.13461538461539\n",
            "35 43.24742268041237\n",
            "40 44.05882352941177\n",
            "45 43.41558441558442\n",
            "50 43.98529411764706\n",
            "55 42.317460317460316\n",
            "60 38.67213114754098\n",
            "65 37.654545454545456\n",
            "70 37.08163265306122\n",
            "75 34.347826086956516\n",
            "80 30.75\n",
            "85 28.650000000000006\n",
            "90 27.400000000000006\n",
            "95 26.433333333333337\n",
            "100 25.0\n",
            "----------------------------------\n"
          ],
          "name": "stdout"
        }
      ]
    },
    {
      "cell_type": "markdown",
      "metadata": {
        "id": "1xmzROeciuHp"
      },
      "source": [
        "## How many matches did Sachin take to score first 1000 runs, next 1000 runs, .."
      ]
    },
    {
      "cell_type": "code",
      "metadata": {
        "colab": {
          "base_uri": "https://localhost:8080/"
        },
        "id": "xHLrCc-Xitoo",
        "outputId": "6e79d83e-d7c5-49fc-ac72-3f9fd28d85d6"
      },
      "source": [
        "solution.problem9(\"Sachin\",sachin)"
      ],
      "execution_count": 16,
      "outputs": [
        {
          "output_type": "stream",
          "text": [
            "[ 100.  111.  119.  190.  294.  312.  320.  406.  418.  503.  521.  525.\n",
            "  532.  569.  583.  583.  587.  587.  608.  609.  671.  671.  809.  847.\n",
            "  849.  895.  960.  960.  999. 1047. 1188. 1250. 1262. 1263. 1304. 1315.\n",
            " 1318. 1504. 1515. 1542. 1569. 1620. 1638. 1670. 1816. 1821. 1866. 2007.\n",
            " 2019. 2084. 2111. 2118. 2134. 2136. 2164. 2170. 2293. 2413. 2420. 2423.\n",
            " 2423. 2504. 2506. 2560. 2682. 2686. 2700. 2700. 2800. 2815. 2815. 2872.\n",
            " 2971. 3008. 3046. 3078. 3099. 3131. 3171. 3171. 3176. 3184. 3189. 3189.\n",
            " 3239. 3269. 3306. 3395. 3399. 3497. 3580. 3673. 3673. 3725. 3877. 3878.\n",
            " 3886. 3979. 4024. 4050. 4050. 4051. 4051. 4067. 4114. 4203. 4206. 4207.\n",
            " 4260. 4276. 4276. 4357. 4371. 4449. 4455. 4560. 4682. 4691. 4699. 4727.\n",
            " 4762. 4831. 4844. 4941. 5034. 5036. 5072. 5111. 5113. 5142. 5154. 5173.\n",
            " 5207. 5209. 5309. 5353. 5435. 5435. 5514. 5520. 5529. 5537. 5560. 5653.\n",
            " 5688. 5751. 5825. 5833. 5950. 5989. 6038. 6102. 6145. 6217. 6222. 6239.\n",
            " 6239. 6304. 6324. 6465. 6493. 6537. 6564. 6624. 6692. 6695. 6834. 6865.\n",
            " 6867. 6911. 6958. 6964. 6981. 7016. 7104. 7218. 7225. 7352. 7352. 7397.\n",
            " 7430. 7540. 7686. 7693. 7718. 7727. 7729. 7740. 7757. 7771. 7772. 7817.\n",
            " 7911. 7939. 7943. 8005. 8006. 8015. 8082. 8092. 8191. 8246. 8246. 8247.\n",
            " 8348. 8350. 8351. 8367. 8507. 8530. 8643. 8653. 8654. 8695. 8696. 8724.\n",
            " 8726. 8748. 8777. 8778. 8803. 8905. 8905. 8932. 8972.]\n",
            "\n",
            " Sachin\n",
            "(array([29, 18, 26, 25, 26, 26, 23, 22, 30]), array([   0, 1000, 2000, 3000, 4000, 5000, 6000, 7000, 8000, 9000]))\n",
            "----------------------------------\n"
          ],
          "name": "stdout"
        }
      ]
    }
  ]
}