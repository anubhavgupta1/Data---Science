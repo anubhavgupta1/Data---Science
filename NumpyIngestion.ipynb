{
  "nbformat": 4,
  "nbformat_minor": 0,
  "metadata": {
    "colab": {
      "name": "PadhAIdata_objects_sequential-200320-190201.ipynb",
      "provenance": [],
      "collapsed_sections": [],
      "include_colab_link": true
    },
    "kernelspec": {
      "name": "python3",
      "display_name": "Python 3"
    }
  },
  "cells": [
    {
      "cell_type": "markdown",
      "metadata": {
        "id": "view-in-github",
        "colab_type": "text"
      },
      "source": [
        "<a href=\"https://colab.research.google.com/github/anubhavgupta1/Data---Science/blob/main/NumpyIngestion.ipynb\" target=\"_parent\"><img src=\"https://colab.research.google.com/assets/colab-badge.svg\" alt=\"Open In Colab\"/></a>"
      ]
    },
    {
      "cell_type": "code",
      "metadata": {
        "colab": {
          "base_uri": "https://localhost:8080/"
        },
        "id": "2j7yJEm5NWmI",
        "outputId": "23c79521-3e96-430f-c1bc-6e63dd9d467d"
      },
      "source": [
        "!ls\n",
        "!apt-get install -y -qq software-properties-common python-software-properties module-init-tools\n",
        "!add-apt-repository -y ppa:alessandro-strada/ppa 2>&1 > /dev/null\n",
        "!apt-get update -qq 2>&1 > /dev/null\n",
        "!apt-get -y install -qq google-drive-ocamlfuse fuse\n",
        "from google.colab import auth\n",
        "auth.authenticate_user()\n",
        "from oauth2client.client import GoogleCredentials\n",
        "creds = GoogleCredentials.get_application_default()\n",
        "import getpass\n",
        "!google-drive-ocamlfuse -headless -id={creds.client_id} -secret={creds.client_secret} < /dev/null 2>&1 | grep URL\n",
        "vcode = getpass.getpass()\n",
        "!echo {vcode} | google-drive-ocamlfuse -headless -id={creds.client_id} -secret={creds.client_secret}\n",
        "\n",
        "\n",
        "!mkdir -p drive\n",
        "!google-drive-ocamlfuse drive\n",
        "\n",
        "import os\n",
        "os.chdir (\"drive/Udacity/data science/\")\n",
        "!ls"
      ],
      "execution_count": 1,
      "outputs": [
        {
          "output_type": "stream",
          "text": [
            "sample_data\n",
            "E: Package 'python-software-properties' has no installation candidate\n",
            "Selecting previously unselected package google-drive-ocamlfuse.\n",
            "(Reading database ... 160983 files and directories currently installed.)\n",
            "Preparing to unpack .../google-drive-ocamlfuse_0.7.24-0ubuntu1~ubuntu18.04.1_amd64.deb ...\n",
            "Unpacking google-drive-ocamlfuse (0.7.24-0ubuntu1~ubuntu18.04.1) ...\n",
            "Setting up google-drive-ocamlfuse (0.7.24-0ubuntu1~ubuntu18.04.1) ...\n",
            "Processing triggers for man-db (2.8.3-2ubuntu0.1) ...\n",
            "Please, open the following URL in a web browser: https://accounts.google.com/o/oauth2/auth?client_id=32555940559.apps.googleusercontent.com&redirect_uri=urn%3Aietf%3Awg%3Aoauth%3A2.0%3Aoob&scope=https%3A%2F%2Fwww.googleapis.com%2Fauth%2Fdrive&response_type=code&access_type=offline&approval_prompt=force\n",
            "··········\n",
            "Please, open the following URL in a web browser: https://accounts.google.com/o/oauth2/auth?client_id=32555940559.apps.googleusercontent.com&redirect_uri=urn%3Aietf%3Awg%3Aoauth%3A2.0%3Aoob&scope=https%3A%2F%2Fwww.googleapis.com%2Fauth%2Fdrive&response_type=code&access_type=offline&approval_prompt=force\n",
            "Please enter the verification code: Access token retrieved correctly.\n",
            "cric_data.tsv\t\t  planets_new.npy    planets.txt\n",
            "many_arrs_compressed.npz  planets_new.txt    zeros_compressed.npz\n",
            "many_arrs.npz\t\t  planets_small.txt  zeros.npz\n"
          ],
          "name": "stdout"
        }
      ]
    },
    {
      "cell_type": "code",
      "metadata": {
        "id": "EltJlGo1Voc0"
      },
      "source": [
        "import numpy as np "
      ],
      "execution_count": 2,
      "outputs": []
    },
    {
      "cell_type": "code",
      "metadata": {
        "id": "1HzGwBFJVCyr"
      },
      "source": [
        "planets_small = np.loadtxt(\"planets_small.txt\", skiprows = 1, usecols = (1,2,3,4,5,6,7,8,9))"
      ],
      "execution_count": 3,
      "outputs": []
    },
    {
      "cell_type": "code",
      "metadata": {
        "colab": {
          "base_uri": "https://localhost:8080/"
        },
        "id": "eTADl4edVtxG",
        "outputId": "a61c03b7-7e85-4159-8f25-a9721a976afd"
      },
      "source": [
        "planets_small.shape"
      ],
      "execution_count": 4,
      "outputs": [
        {
          "output_type": "execute_result",
          "data": {
            "text/plain": [
              "(3, 9)"
            ]
          },
          "metadata": {
            "tags": []
          },
          "execution_count": 4
        }
      ]
    },
    {
      "cell_type": "code",
      "metadata": {
        "id": "Y_biSdLmW5o8"
      },
      "source": [
        "planets = np.genfromtxt(\"planets.txt\", skip_header=1, usecols = [1, 2, 3, 4, 5, 6, 7, 8, 9])"
      ],
      "execution_count": 5,
      "outputs": []
    },
    {
      "cell_type": "code",
      "metadata": {
        "colab": {
          "base_uri": "https://localhost:8080/"
        },
        "id": "CHt8CIGLW_Wj",
        "outputId": "4400762b-2e7a-4753-a270-2efc2cbc8de0"
      },
      "source": [
        "planets.shape"
      ],
      "execution_count": 6,
      "outputs": [
        {
          "output_type": "execute_result",
          "data": {
            "text/plain": [
              "(20, 9)"
            ]
          },
          "metadata": {
            "tags": []
          },
          "execution_count": 6
        }
      ]
    },
    {
      "cell_type": "code",
      "metadata": {
        "colab": {
          "base_uri": "https://localhost:8080/"
        },
        "id": "0d5oBmzLXKg6",
        "outputId": "f9b7729f-a0b7-4a81-fd98-cb0afee0c14c"
      },
      "source": [
        "np.isnan(planets)"
      ],
      "execution_count": 7,
      "outputs": [
        {
          "output_type": "execute_result",
          "data": {
            "text/plain": [
              "array([[False, False, False, False, False, False, False, False, False],\n",
              "       [False, False, False, False, False, False, False, False, False],\n",
              "       [False, False, False, False, False, False, False, False, False],\n",
              "       [False, False, False, False, False, False, False, False, False],\n",
              "       [False, False, False, False, False, False, False, False, False],\n",
              "       [False, False, False, False, False, False, False, False, False],\n",
              "       [False, False, False, False, False, False, False, False, False],\n",
              "       [False, False, False, False, False, False, False, False, False],\n",
              "       [False, False, False, False, False, False, False, False, False],\n",
              "       [False, False, False, False, False, False, False, False, False],\n",
              "       [False, False, False, False, False, False, False, False, False],\n",
              "       [False, False, False, False, False, False, False, False, False],\n",
              "       [False, False, False, False, False, False, False, False, False],\n",
              "       [False, False, False, False, False, False, False, False, False],\n",
              "       [False, False, False, False, False, False, False, False, False],\n",
              "       [False, False, False, False, False, False, False, False, False],\n",
              "       [False, False, False, False, False,  True,  True,  True,  True],\n",
              "       [False, False, False, False, False, False, False, False, False],\n",
              "       [False, False, False, False, False, False, False, False, False],\n",
              "       [False, False, False, False, False, False, False, False, False]])"
            ]
          },
          "metadata": {
            "tags": []
          },
          "execution_count": 7
        }
      ]
    },
    {
      "cell_type": "code",
      "metadata": {
        "id": "ORl1Mov4XQRl"
      },
      "source": [
        "planets_new = np.nan_to_num(planets, nan=-1)\n"
      ],
      "execution_count": 8,
      "outputs": []
    },
    {
      "cell_type": "code",
      "metadata": {
        "colab": {
          "base_uri": "https://localhost:8080/"
        },
        "id": "U-mT4DN6Xbnt",
        "outputId": "9eb3d13d-1c5e-492c-9d14-62737891c160"
      },
      "source": [
        "np.isnan(planets_new)"
      ],
      "execution_count": 9,
      "outputs": [
        {
          "output_type": "execute_result",
          "data": {
            "text/plain": [
              "array([[False, False, False, False, False, False, False, False, False],\n",
              "       [False, False, False, False, False, False, False, False, False],\n",
              "       [False, False, False, False, False, False, False, False, False],\n",
              "       [False, False, False, False, False, False, False, False, False],\n",
              "       [False, False, False, False, False, False, False, False, False],\n",
              "       [False, False, False, False, False, False, False, False, False],\n",
              "       [False, False, False, False, False, False, False, False, False],\n",
              "       [False, False, False, False, False, False, False, False, False],\n",
              "       [False, False, False, False, False, False, False, False, False],\n",
              "       [False, False, False, False, False, False, False, False, False],\n",
              "       [False, False, False, False, False, False, False, False, False],\n",
              "       [False, False, False, False, False, False, False, False, False],\n",
              "       [False, False, False, False, False, False, False, False, False],\n",
              "       [False, False, False, False, False, False, False, False, False],\n",
              "       [False, False, False, False, False, False, False, False, False],\n",
              "       [False, False, False, False, False, False, False, False, False],\n",
              "       [False, False, False, False, False, False, False, False, False],\n",
              "       [False, False, False, False, False, False, False, False, False],\n",
              "       [False, False, False, False, False, False, False, False, False],\n",
              "       [False, False, False, False, False, False, False, False, False]])"
            ]
          },
          "metadata": {
            "tags": []
          },
          "execution_count": 9
        }
      ]
    },
    {
      "cell_type": "code",
      "metadata": {
        "id": "qqF04jtPXjBi"
      },
      "source": [
        "np.savetxt('planets_new.txt', planets_new, delimiter=',')"
      ],
      "execution_count": 10,
      "outputs": []
    },
    {
      "cell_type": "code",
      "metadata": {
        "id": "6vJfuvxnXqDk"
      },
      "source": [
        "np.save(\"planets_new\", planets_new)"
      ],
      "execution_count": 11,
      "outputs": []
    },
    {
      "cell_type": "code",
      "metadata": {
        "colab": {
          "base_uri": "https://localhost:8080/"
        },
        "id": "sj3_HhyVXudF",
        "outputId": "dc38725b-aed7-4581-d054-42f888a65f63"
      },
      "source": [
        "!ls -lh"
      ],
      "execution_count": 12,
      "outputs": [
        {
          "output_type": "stream",
          "text": [
            "total 767M\n",
            "-rw-r--r-- 1 root root 2.9K Apr 16 19:33 cric_data.tsv\n",
            "-rw-r--r-- 1 root root 1.6M Apr 16 20:33 many_arrs_compressed.npz\n",
            "-rw-r--r-- 1 root root 1.7M Apr 16 20:30 many_arrs.npz\n",
            "-rw-r--r-- 1 root root 1.6K Apr 16 21:23 planets_new.npy\n",
            "-rw-r--r-- 1 root root 4.5K Apr 16 21:23 planets_new.txt\n",
            "-rw-r--r-- 1 root root  254 Apr 16 19:33 planets_small.txt\n",
            "-rw-r--r-- 1 root root 1.5K Apr 16 19:32 planets.txt\n",
            "-rw-r--r-- 1 root root 760K Apr 16 21:19 zeros_compressed.npz\n",
            "-rw-r--r-- 1 root root 763M Apr 16 21:19 zeros.npz\n"
          ],
          "name": "stdout"
        }
      ]
    },
    {
      "cell_type": "code",
      "metadata": {
        "id": "tKUioDFAYANc"
      },
      "source": [
        "arr1 = np.random.rand(1000, 10)\n",
        "arr2 = np.random.rand(2000, 5)\n",
        "arr3 = np.random.rand(20, 10000)"
      ],
      "execution_count": 13,
      "outputs": []
    },
    {
      "cell_type": "code",
      "metadata": {
        "id": "m-Rd9k8dYEQB"
      },
      "source": [
        "np.savez(\"many_arrs\", arr1, arr2, arr3)"
      ],
      "execution_count": 14,
      "outputs": []
    },
    {
      "cell_type": "code",
      "metadata": {
        "colab": {
          "base_uri": "https://localhost:8080/"
        },
        "id": "xiUrIrFoYIMo",
        "outputId": "03df9a35-ff70-4b91-9805-8978885eab5a"
      },
      "source": [
        "!ls -lh"
      ],
      "execution_count": 15,
      "outputs": [
        {
          "output_type": "stream",
          "text": [
            "total 767M\n",
            "-rw-r--r-- 1 root root 2.9K Apr 16 19:33 cric_data.tsv\n",
            "-rw-r--r-- 1 root root 1.6M Apr 16 20:33 many_arrs_compressed.npz\n",
            "-rw-r--r-- 1 root root 1.7M Apr 16 21:23 many_arrs.npz\n",
            "-rw-r--r-- 1 root root 1.6K Apr 16 21:23 planets_new.npy\n",
            "-rw-r--r-- 1 root root 4.5K Apr 16 21:23 planets_new.txt\n",
            "-rw-r--r-- 1 root root  254 Apr 16 19:33 planets_small.txt\n",
            "-rw-r--r-- 1 root root 1.5K Apr 16 19:32 planets.txt\n",
            "-rw-r--r-- 1 root root 760K Apr 16 21:19 zeros_compressed.npz\n",
            "-rw-r--r-- 1 root root 763M Apr 16 21:19 zeros.npz\n"
          ],
          "name": "stdout"
        }
      ]
    },
    {
      "cell_type": "code",
      "metadata": {
        "id": "4ylTVv-FYRyz"
      },
      "source": [
        "arrs = np.load('many_arrs.npz')\n"
      ],
      "execution_count": 16,
      "outputs": []
    },
    {
      "cell_type": "code",
      "metadata": {
        "colab": {
          "base_uri": "https://localhost:8080/"
        },
        "id": "ddJ15s-OYWqR",
        "outputId": "551f3834-65f4-4939-8b82-2accdc39d1d1"
      },
      "source": [
        "print(type(arrs))\n"
      ],
      "execution_count": 17,
      "outputs": [
        {
          "output_type": "stream",
          "text": [
            "<class 'numpy.lib.npyio.NpzFile'>\n"
          ],
          "name": "stdout"
        }
      ]
    },
    {
      "cell_type": "code",
      "metadata": {
        "colab": {
          "base_uri": "https://localhost:8080/"
        },
        "id": "YQhygbBnYZsF",
        "outputId": "61d7abb6-149f-40a9-9837-ce09036bb4ad"
      },
      "source": [
        "arrs.files"
      ],
      "execution_count": 18,
      "outputs": [
        {
          "output_type": "execute_result",
          "data": {
            "text/plain": [
              "['arr_0', 'arr_1', 'arr_2']"
            ]
          },
          "metadata": {
            "tags": []
          },
          "execution_count": 18
        }
      ]
    },
    {
      "cell_type": "code",
      "metadata": {
        "colab": {
          "base_uri": "https://localhost:8080/"
        },
        "id": "uKXkMnnGYjkX",
        "outputId": "4dd62907-e204-465a-f506-7fdde2ab06e9"
      },
      "source": [
        "print(arrs['arr_0'].shape)\n",
        "print(arrs['arr_1'].shape)\n",
        "print(arrs['arr_2'].shape)"
      ],
      "execution_count": 19,
      "outputs": [
        {
          "output_type": "stream",
          "text": [
            "(1000, 10)\n",
            "(2000, 5)\n",
            "(20, 10000)\n"
          ],
          "name": "stdout"
        }
      ]
    },
    {
      "cell_type": "code",
      "metadata": {
        "id": "FyG2GEvFYxiM"
      },
      "source": [
        "np.savez_compressed('many_arrs_compressed', arr1, arr2, arr3)"
      ],
      "execution_count": 20,
      "outputs": []
    },
    {
      "cell_type": "code",
      "metadata": {
        "colab": {
          "base_uri": "https://localhost:8080/"
        },
        "id": "mLT5s6CwY4mm",
        "outputId": "54de29ae-f888-4353-e0f4-998a76221033"
      },
      "source": [
        "!ls -lh"
      ],
      "execution_count": 21,
      "outputs": [
        {
          "output_type": "stream",
          "text": [
            "total 767M\n",
            "-rw-r--r-- 1 root root 2.9K Apr 16 19:33 cric_data.tsv\n",
            "-rw-r--r-- 1 root root 1.6M Apr 16 21:23 many_arrs_compressed.npz\n",
            "-rw-r--r-- 1 root root 1.7M Apr 16 21:23 many_arrs.npz\n",
            "-rw-r--r-- 1 root root 1.6K Apr 16 21:23 planets_new.npy\n",
            "-rw-r--r-- 1 root root 4.5K Apr 16 21:23 planets_new.txt\n",
            "-rw-r--r-- 1 root root  254 Apr 16 19:33 planets_small.txt\n",
            "-rw-r--r-- 1 root root 1.5K Apr 16 19:32 planets.txt\n",
            "-rw-r--r-- 1 root root 760K Apr 16 21:19 zeros_compressed.npz\n",
            "-rw-r--r-- 1 root root 763M Apr 16 21:19 zeros.npz\n"
          ],
          "name": "stdout"
        }
      ]
    },
    {
      "cell_type": "code",
      "metadata": {
        "id": "e6nvQWYOjGks"
      },
      "source": [
        "arr1 = np.zeros((10000, 10000))\n",
        "np.savez(\"zeros\", arr1)\n",
        "np.savez_compressed(\"zeros_compressed\", arr1)"
      ],
      "execution_count": 22,
      "outputs": []
    },
    {
      "cell_type": "code",
      "metadata": {
        "colab": {
          "base_uri": "https://localhost:8080/"
        },
        "id": "qp6-O04ljRiQ",
        "outputId": "83bf9410-751b-4e65-82fd-26b92382439e"
      },
      "source": [
        "!ls -lh"
      ],
      "execution_count": 23,
      "outputs": [
        {
          "output_type": "stream",
          "text": [
            "total 767M\n",
            "-rw-r--r-- 1 root root 2.9K Apr 16 19:33 cric_data.tsv\n",
            "-rw-r--r-- 1 root root 1.6M Apr 16 21:23 many_arrs_compressed.npz\n",
            "-rw-r--r-- 1 root root 1.7M Apr 16 21:23 many_arrs.npz\n",
            "-rw-r--r-- 1 root root 1.6K Apr 16 21:23 planets_new.npy\n",
            "-rw-r--r-- 1 root root 4.5K Apr 16 21:23 planets_new.txt\n",
            "-rw-r--r-- 1 root root  254 Apr 16 19:33 planets_small.txt\n",
            "-rw-r--r-- 1 root root 1.5K Apr 16 19:32 planets.txt\n",
            "-rw-r--r-- 1 root root 760K Apr 16 21:24 zeros_compressed.npz\n",
            "-rw-r--r-- 1 root root 763M Apr 16 21:24 zeros.npz\n"
          ],
          "name": "stdout"
        }
      ]
    }
  ]
}