{
  "nbformat": 4,
  "nbformat_minor": 0,
  "metadata": {
    "colab": {
      "name": "Numpy_Assignments_Questions-200320-184846.ipynb",
      "provenance": [],
      "collapsed_sections": [],
      "include_colab_link": true
    },
    "kernelspec": {
      "name": "python3",
      "display_name": "Python 3"
    }
  },
  "cells": [
    {
      "cell_type": "markdown",
      "metadata": {
        "id": "view-in-github",
        "colab_type": "text"
      },
      "source": [
        "<a href=\"https://colab.research.google.com/github/anubhavgupta1/Data---Science/blob/main/PandasRefresher.ipynb\" target=\"_parent\"><img src=\"https://colab.research.google.com/assets/colab-badge.svg\" alt=\"Open In Colab\"/></a>"
      ]
    },
    {
      "cell_type": "code",
      "metadata": {
        "id": "qy8Qzn1zWV_n"
      },
      "source": [
        "import numpy as np\n",
        "import pandas as pd"
      ],
      "execution_count": 1,
      "outputs": []
    },
    {
      "cell_type": "code",
      "metadata": {
        "colab": {
          "base_uri": "https://localhost:8080/"
        },
        "id": "x1BF7YpOWmfo",
        "outputId": "78315057-dc4e-4248-b2b9-4c324f4f5c17"
      },
      "source": [
        "series = pd.Series([0,1,1,2,3,5,8])\n",
        "print(series)"
      ],
      "execution_count": 2,
      "outputs": [
        {
          "output_type": "stream",
          "text": [
            "0    0\n",
            "1    1\n",
            "2    1\n",
            "3    2\n",
            "4    3\n",
            "5    5\n",
            "6    8\n",
            "dtype: int64\n"
          ],
          "name": "stdout"
        }
      ]
    },
    {
      "cell_type": "code",
      "metadata": {
        "colab": {
          "base_uri": "https://localhost:8080/"
        },
        "id": "VigFnv8XXYJc",
        "outputId": "da6bc898-4b8e-4f82-8273-befac687ddbb"
      },
      "source": [
        "series = pd.Series([0.0,1,1,2,3,5,8])\n",
        "print(series)\n",
        "print(series.values,type(series.values), series.index)"
      ],
      "execution_count": 3,
      "outputs": [
        {
          "output_type": "stream",
          "text": [
            "0    0.0\n",
            "1    1.0\n",
            "2    1.0\n",
            "3    2.0\n",
            "4    3.0\n",
            "5    5.0\n",
            "6    8.0\n",
            "dtype: float64\n",
            "[0. 1. 1. 2. 3. 5. 8.] <class 'numpy.ndarray'> RangeIndex(start=0, stop=7, step=1)\n"
          ],
          "name": "stdout"
        }
      ]
    },
    {
      "cell_type": "code",
      "metadata": {
        "colab": {
          "base_uri": "https://localhost:8080/"
        },
        "id": "OHeCdehmXfsY",
        "outputId": "e1701e71-50d5-4406-e36b-ead157ff9214"
      },
      "source": [
        "for item in zip(series.index,series.values):\n",
        "  print(item)"
      ],
      "execution_count": 4,
      "outputs": [
        {
          "output_type": "stream",
          "text": [
            "(0, 0.0)\n",
            "(1, 1.0)\n",
            "(2, 1.0)\n",
            "(3, 2.0)\n",
            "(4, 3.0)\n",
            "(5, 5.0)\n",
            "(6, 8.0)\n"
          ],
          "name": "stdout"
        }
      ]
    },
    {
      "cell_type": "code",
      "metadata": {
        "colab": {
          "base_uri": "https://localhost:8080/"
        },
        "id": "DJ1mNVt7YRdH",
        "outputId": "7ccce358-74ca-4b04-fdc5-e85f9155aa08"
      },
      "source": [
        "mars= pd.Series([0.33,57.9,4222.60], index = [\"mass\",\"diameter\",\"dayLength\"])\n",
        "print(mars)\n",
        "print(mars[\"mass\"], mars.mass)"
      ],
      "execution_count": 5,
      "outputs": [
        {
          "output_type": "stream",
          "text": [
            "mass            0.33\n",
            "diameter       57.90\n",
            "dayLength    4222.60\n",
            "dtype: float64\n",
            "0.33 0.33\n"
          ],
          "name": "stdout"
        }
      ]
    },
    {
      "cell_type": "code",
      "metadata": {
        "colab": {
          "base_uri": "https://localhost:8080/"
        },
        "id": "iFacl0uYbvnB",
        "outputId": "dc5d7c13-f744-4a6f-96c5-34093cf9ac47"
      },
      "source": [
        "arr = np.random.randint(0,10,10)\n",
        "rand_series = pd.Series(arr)\n",
        "print(rand_series) "
      ],
      "execution_count": 6,
      "outputs": [
        {
          "output_type": "stream",
          "text": [
            "0    3\n",
            "1    8\n",
            "2    8\n",
            "3    7\n",
            "4    7\n",
            "5    0\n",
            "6    3\n",
            "7    1\n",
            "8    6\n",
            "9    6\n",
            "dtype: int64\n"
          ],
          "name": "stdout"
        }
      ]
    },
    {
      "cell_type": "code",
      "metadata": {
        "colab": {
          "base_uri": "https://localhost:8080/"
        },
        "id": "6z55B9NQezbd",
        "outputId": "5a292cdc-4ffe-4a93-ee02-b2438631bd38"
      },
      "source": [
        "ind = np.arange(10,20)\n",
        "rand_series = pd.Series(arr, index=ind)\n",
        "print(rand_series) "
      ],
      "execution_count": 7,
      "outputs": [
        {
          "output_type": "stream",
          "text": [
            "10    3\n",
            "11    8\n",
            "12    8\n",
            "13    7\n",
            "14    7\n",
            "15    0\n",
            "16    3\n",
            "17    1\n",
            "18    6\n",
            "19    6\n",
            "dtype: int64\n"
          ],
          "name": "stdout"
        }
      ]
    },
    {
      "cell_type": "code",
      "metadata": {
        "colab": {
          "base_uri": "https://localhost:8080/"
        },
        "id": "13GKn1rofNzC",
        "outputId": "e63996a4-4307-4f0f-cbe4-801eef232cb3"
      },
      "source": [
        "d = {}\n",
        "d[\"mass\"] = 0.33\n",
        "d[\"diameter\"] = 57.9\n",
        "d[\"dayLength\"] = 4222.60\n",
        "print(d)"
      ],
      "execution_count": 8,
      "outputs": [
        {
          "output_type": "stream",
          "text": [
            "{'mass': 0.33, 'diameter': 57.9, 'dayLength': 4222.6}\n"
          ],
          "name": "stdout"
        }
      ]
    },
    {
      "cell_type": "code",
      "metadata": {
        "colab": {
          "base_uri": "https://localhost:8080/"
        },
        "id": "6caWCOhpfoq4",
        "outputId": "ead8a834-580f-494a-db00-aae1a6dd3366"
      },
      "source": [
        "mars = pd.Series(d)\n",
        "print(mars)"
      ],
      "execution_count": 9,
      "outputs": [
        {
          "output_type": "stream",
          "text": [
            "mass            0.33\n",
            "diameter       57.90\n",
            "dayLength    4222.60\n",
            "dtype: float64\n"
          ],
          "name": "stdout"
        }
      ]
    },
    {
      "cell_type": "code",
      "metadata": {
        "colab": {
          "base_uri": "https://localhost:8080/"
        },
        "id": "fErb-qkyfued",
        "outputId": "f22039c6-bde7-4433-9821-542e72568582"
      },
      "source": [
        "mars= pd.Series(d, index = [\"mass\",\"diameter\",\"dayLength\"])\n",
        "print(mars)"
      ],
      "execution_count": 10,
      "outputs": [
        {
          "output_type": "stream",
          "text": [
            "mass            0.33\n",
            "diameter       57.90\n",
            "dayLength    4222.60\n",
            "dtype: float64\n"
          ],
          "name": "stdout"
        }
      ]
    },
    {
      "cell_type": "code",
      "metadata": {
        "colab": {
          "base_uri": "https://localhost:8080/"
        },
        "id": "PIDMBrg7gDxv",
        "outputId": "a89f3814-6ec3-4116-8b82-fc7618fb1988"
      },
      "source": [
        "mars= pd.Series(d, index = [\"mass\",\"diameter\"])\n",
        "print(mars)"
      ],
      "execution_count": 11,
      "outputs": [
        {
          "output_type": "stream",
          "text": [
            "mass         0.33\n",
            "diameter    57.90\n",
            "dtype: float64\n"
          ],
          "name": "stdout"
        }
      ]
    },
    {
      "cell_type": "code",
      "metadata": {
        "colab": {
          "base_uri": "https://localhost:8080/"
        },
        "id": "QZTpkvZ9koU3",
        "outputId": "5fc4a49e-efd2-4dac-9b4f-50ea91c6522a"
      },
      "source": [
        "series = pd.Series([0.0,1,1,2,3,5,8], index=[1,2,3,4,5,6,7])\n",
        "print(series)"
      ],
      "execution_count": 12,
      "outputs": [
        {
          "output_type": "stream",
          "text": [
            "1    0.0\n",
            "2    1.0\n",
            "3    1.0\n",
            "4    2.0\n",
            "5    3.0\n",
            "6    5.0\n",
            "7    8.0\n",
            "dtype: float64\n"
          ],
          "name": "stdout"
        }
      ]
    },
    {
      "cell_type": "code",
      "metadata": {
        "colab": {
          "base_uri": "https://localhost:8080/"
        },
        "id": "uqr0lvMOn2lk",
        "outputId": "6c4d8ac6-953a-457b-f760-c67b1052dade"
      },
      "source": [
        "print(series[4])\n",
        "print(series.iloc[3])\n",
        "print(series.loc[4])"
      ],
      "execution_count": 13,
      "outputs": [
        {
          "output_type": "stream",
          "text": [
            "2.0\n",
            "2.0\n",
            "2.0\n"
          ],
          "name": "stdout"
        }
      ]
    },
    {
      "cell_type": "code",
      "metadata": {
        "colab": {
          "base_uri": "https://localhost:8080/"
        },
        "id": "-IUM7EzloiG_",
        "outputId": "98a652ce-7032-4bf2-9a17-10073016a29f"
      },
      "source": [
        "print(series[1])\n",
        "print(series.iloc[0])\n",
        "print(series.loc[1])"
      ],
      "execution_count": 14,
      "outputs": [
        {
          "output_type": "stream",
          "text": [
            "0.0\n",
            "0.0\n",
            "0.0\n"
          ],
          "name": "stdout"
        }
      ]
    },
    {
      "cell_type": "code",
      "metadata": {
        "id": "vvi2UNYQpTwx"
      },
      "source": [
        "mass = pd.Series([0.33, 4.87, 5.97, 0.642, 1898, 568, 86.8, 102, 0.0146], \n",
        "                 index=['Mercury', 'Venus', 'Earth', 'Mars', 'Jupiter', 'Saturn', 'Uranus', 'Neptune', 'Pluto'])"
      ],
      "execution_count": 15,
      "outputs": []
    },
    {
      "cell_type": "code",
      "metadata": {
        "colab": {
          "base_uri": "https://localhost:8080/"
        },
        "id": "lgCGNwWapZPT",
        "outputId": "61b9af0b-ac1c-49b1-89cc-390ed45553dd"
      },
      "source": [
        "print(mass)"
      ],
      "execution_count": 16,
      "outputs": [
        {
          "output_type": "stream",
          "text": [
            "Mercury       0.3300\n",
            "Venus         4.8700\n",
            "Earth         5.9700\n",
            "Mars          0.6420\n",
            "Jupiter    1898.0000\n",
            "Saturn      568.0000\n",
            "Uranus       86.8000\n",
            "Neptune     102.0000\n",
            "Pluto         0.0146\n",
            "dtype: float64\n"
          ],
          "name": "stdout"
        }
      ]
    },
    {
      "cell_type": "code",
      "metadata": {
        "colab": {
          "base_uri": "https://localhost:8080/"
        },
        "id": "WD4oj-wcpb0P",
        "outputId": "5cdf42cf-6843-440e-bd70-58ec7801816f"
      },
      "source": [
        "print(mass[1])\n",
        "print(mass.iloc[1])\n",
        "print(mass.Venus)\n",
        "print(mass[\"Venus\"])\n",
        "print(mass.loc[\"Venus\"])"
      ],
      "execution_count": 17,
      "outputs": [
        {
          "output_type": "stream",
          "text": [
            "4.87\n",
            "4.87\n",
            "4.87\n",
            "4.87\n",
            "4.87\n"
          ],
          "name": "stdout"
        }
      ]
    },
    {
      "cell_type": "code",
      "metadata": {
        "colab": {
          "base_uri": "https://localhost:8080/"
        },
        "id": "KHK6D1icqmMo",
        "outputId": "bcd4d2d8-c48b-47c6-f236-d5bca204ea29"
      },
      "source": [
        "print(mass['Earth': 'Jupiter'])\n",
        "print(\"----------------------------------\")\n",
        "print(mass[2:5])\n",
        "print(\"----------------------------------\")\n",
        "print(mass.iloc[2:5])\n",
        "print(\"----------------------------------\")"
      ],
      "execution_count": 18,
      "outputs": [
        {
          "output_type": "stream",
          "text": [
            "Earth         5.970\n",
            "Mars          0.642\n",
            "Jupiter    1898.000\n",
            "dtype: float64\n",
            "----------------------------------\n",
            "Earth         5.970\n",
            "Mars          0.642\n",
            "Jupiter    1898.000\n",
            "dtype: float64\n",
            "----------------------------------\n",
            "Earth         5.970\n",
            "Mars          0.642\n",
            "Jupiter    1898.000\n",
            "dtype: float64\n",
            "----------------------------------\n"
          ],
          "name": "stdout"
        }
      ]
    },
    {
      "cell_type": "code",
      "metadata": {
        "colab": {
          "base_uri": "https://localhost:8080/"
        },
        "id": "4WLnb5zYrDcr",
        "outputId": "3f5a0c14-d501-4c3c-9073-957a1cf7f185"
      },
      "source": [
        "print(mass > 100)"
      ],
      "execution_count": 19,
      "outputs": [
        {
          "output_type": "stream",
          "text": [
            "Mercury    False\n",
            "Venus      False\n",
            "Earth      False\n",
            "Mars       False\n",
            "Jupiter     True\n",
            "Saturn      True\n",
            "Uranus     False\n",
            "Neptune     True\n",
            "Pluto      False\n",
            "dtype: bool\n"
          ],
          "name": "stdout"
        }
      ]
    },
    {
      "cell_type": "code",
      "metadata": {
        "colab": {
          "base_uri": "https://localhost:8080/"
        },
        "id": "6OI7Gb6YrKQi",
        "outputId": "94061ddc-2de1-4caf-d43c-5d7c20846987"
      },
      "source": [
        "print(mass[mass > 100])"
      ],
      "execution_count": 20,
      "outputs": [
        {
          "output_type": "stream",
          "text": [
            "Jupiter    1898.0\n",
            "Saturn      568.0\n",
            "Neptune     102.0\n",
            "dtype: float64\n"
          ],
          "name": "stdout"
        }
      ]
    },
    {
      "cell_type": "code",
      "metadata": {
        "colab": {
          "base_uri": "https://localhost:8080/"
        },
        "id": "xzqP4U6hrPzZ",
        "outputId": "f486953c-78f0-452e-e6d8-46ab7d5d1f18"
      },
      "source": [
        "print(mass[(mass > 100) & (mass < 600)])"
      ],
      "execution_count": 21,
      "outputs": [
        {
          "output_type": "stream",
          "text": [
            "Saturn     568.0\n",
            "Neptune    102.0\n",
            "dtype: float64\n"
          ],
          "name": "stdout"
        }
      ]
    },
    {
      "cell_type": "code",
      "metadata": {
        "colab": {
          "base_uri": "https://localhost:8080/"
        },
        "id": "EgocnN9wrXSe",
        "outputId": "82dc7404-e341-4399-b4f3-2e7ea5666c53"
      },
      "source": [
        "print(mass * 2)"
      ],
      "execution_count": 22,
      "outputs": [
        {
          "output_type": "stream",
          "text": [
            "Mercury       0.6600\n",
            "Venus         9.7400\n",
            "Earth        11.9400\n",
            "Mars          1.2840\n",
            "Jupiter    3796.0000\n",
            "Saturn     1136.0000\n",
            "Uranus      173.6000\n",
            "Neptune     204.0000\n",
            "Pluto         0.0292\n",
            "dtype: float64\n"
          ],
          "name": "stdout"
        }
      ]
    },
    {
      "cell_type": "code",
      "metadata": {
        "colab": {
          "base_uri": "https://localhost:8080/"
        },
        "id": "3YhukXUFrZcV",
        "outputId": "357767d6-2ad0-4a51-ce74-c8d5c74c663a"
      },
      "source": [
        "print(mass / 10)"
      ],
      "execution_count": 23,
      "outputs": [
        {
          "output_type": "stream",
          "text": [
            "Mercury      0.03300\n",
            "Venus        0.48700\n",
            "Earth        0.59700\n",
            "Mars         0.06420\n",
            "Jupiter    189.80000\n",
            "Saturn      56.80000\n",
            "Uranus       8.68000\n",
            "Neptune     10.20000\n",
            "Pluto        0.00146\n",
            "dtype: float64\n"
          ],
          "name": "stdout"
        }
      ]
    },
    {
      "cell_type": "code",
      "metadata": {
        "colab": {
          "base_uri": "https://localhost:8080/"
        },
        "id": "0AqkmfN2vOG0",
        "outputId": "66ee22a9-4466-4600-c971-e90511d3f0f9"
      },
      "source": [
        "print(np.mean(mass))"
      ],
      "execution_count": 24,
      "outputs": [
        {
          "output_type": "stream",
          "text": [
            "296.29184444444445\n"
          ],
          "name": "stdout"
        }
      ]
    },
    {
      "cell_type": "code",
      "metadata": {
        "colab": {
          "base_uri": "https://localhost:8080/"
        },
        "id": "vpLTowsVvX54",
        "outputId": "4f025ea2-e0bf-45cd-cff7-95592d02d7a1"
      },
      "source": [
        "print(np.amin(mass))\n",
        "print(np.amax(mass))\n",
        "print(np.median(mass))"
      ],
      "execution_count": 25,
      "outputs": [
        {
          "output_type": "stream",
          "text": [
            "0.0146\n",
            "1898.0\n",
            "5.97\n"
          ],
          "name": "stdout"
        }
      ]
    },
    {
      "cell_type": "code",
      "metadata": {
        "colab": {
          "base_uri": "https://localhost:8080/"
        },
        "id": "l7MCgx6Kvi6S",
        "outputId": "f9318615-33cf-4826-825a-c08361d05215"
      },
      "source": [
        "print(mass + mass)"
      ],
      "execution_count": 26,
      "outputs": [
        {
          "output_type": "stream",
          "text": [
            "Mercury       0.6600\n",
            "Venus         9.7400\n",
            "Earth        11.9400\n",
            "Mars          1.2840\n",
            "Jupiter    3796.0000\n",
            "Saturn     1136.0000\n",
            "Uranus      173.6000\n",
            "Neptune     204.0000\n",
            "Pluto         0.0292\n",
            "dtype: float64\n"
          ],
          "name": "stdout"
        }
      ]
    },
    {
      "cell_type": "code",
      "metadata": {
        "colab": {
          "base_uri": "https://localhost:8080/"
        },
        "id": "e00L_B4cvlmR",
        "outputId": "575a3447-53d7-419e-e720-98ed9c811d48"
      },
      "source": [
        "print(mass - mass)"
      ],
      "execution_count": 27,
      "outputs": [
        {
          "output_type": "stream",
          "text": [
            "Mercury    0.0\n",
            "Venus      0.0\n",
            "Earth      0.0\n",
            "Mars       0.0\n",
            "Jupiter    0.0\n",
            "Saturn     0.0\n",
            "Uranus     0.0\n",
            "Neptune    0.0\n",
            "Pluto      0.0\n",
            "dtype: float64\n"
          ],
          "name": "stdout"
        }
      ]
    },
    {
      "cell_type": "code",
      "metadata": {
        "colab": {
          "base_uri": "https://localhost:8080/"
        },
        "id": "HDhLKS1dv_F1",
        "outputId": "a37fd497-09b7-4af4-e46d-6c3d9d61f8e3"
      },
      "source": [
        "big_mass = mass[mass > 100]\n",
        "print(big_mass)"
      ],
      "execution_count": 28,
      "outputs": [
        {
          "output_type": "stream",
          "text": [
            "Jupiter    1898.0\n",
            "Saturn      568.0\n",
            "Neptune     102.0\n",
            "dtype: float64\n"
          ],
          "name": "stdout"
        }
      ]
    },
    {
      "cell_type": "code",
      "metadata": {
        "colab": {
          "base_uri": "https://localhost:8080/"
        },
        "id": "6VGAVuaMwBfE",
        "outputId": "2a453031-798e-40e5-b349-23225000d7d9"
      },
      "source": [
        "mass\n"
      ],
      "execution_count": 29,
      "outputs": [
        {
          "output_type": "execute_result",
          "data": {
            "text/plain": [
              "Mercury       0.3300\n",
              "Venus         4.8700\n",
              "Earth         5.9700\n",
              "Mars          0.6420\n",
              "Jupiter    1898.0000\n",
              "Saturn      568.0000\n",
              "Uranus       86.8000\n",
              "Neptune     102.0000\n",
              "Pluto         0.0146\n",
              "dtype: float64"
            ]
          },
          "metadata": {
            "tags": []
          },
          "execution_count": 29
        }
      ]
    },
    {
      "cell_type": "code",
      "metadata": {
        "colab": {
          "base_uri": "https://localhost:8080/"
        },
        "id": "ni6zWjJfwTvj",
        "outputId": "9875625d-0bd5-4614-ad82-23587cc04be8"
      },
      "source": [
        "new_mass = mass + big_mass\n",
        "print(new_mass)"
      ],
      "execution_count": 30,
      "outputs": [
        {
          "output_type": "stream",
          "text": [
            "Earth         NaN\n",
            "Jupiter    3796.0\n",
            "Mars          NaN\n",
            "Mercury       NaN\n",
            "Neptune     204.0\n",
            "Pluto         NaN\n",
            "Saturn     1136.0\n",
            "Uranus        NaN\n",
            "Venus         NaN\n",
            "dtype: float64\n"
          ],
          "name": "stdout"
        }
      ]
    },
    {
      "cell_type": "code",
      "metadata": {
        "colab": {
          "base_uri": "https://localhost:8080/"
        },
        "id": "iqXIKFukwiUN",
        "outputId": "b4e26a4a-1c03-4b1b-d1eb-fc65f4d32c7c"
      },
      "source": [
        "print(pd.isnull(new_mass))"
      ],
      "execution_count": 31,
      "outputs": [
        {
          "output_type": "stream",
          "text": [
            "Earth       True\n",
            "Jupiter    False\n",
            "Mars        True\n",
            "Mercury     True\n",
            "Neptune    False\n",
            "Pluto       True\n",
            "Saturn     False\n",
            "Uranus      True\n",
            "Venus       True\n",
            "dtype: bool\n"
          ],
          "name": "stdout"
        }
      ]
    },
    {
      "cell_type": "code",
      "metadata": {
        "colab": {
          "base_uri": "https://localhost:8080/"
        },
        "id": "uhOXemokwlZl",
        "outputId": "366d1916-ab3f-49f3-bddd-d6577099b981"
      },
      "source": [
        "print(new_mass[~pd.isnull(new_mass)])\n"
      ],
      "execution_count": 32,
      "outputs": [
        {
          "output_type": "stream",
          "text": [
            "Jupiter    3796.0\n",
            "Neptune     204.0\n",
            "Saturn     1136.0\n",
            "dtype: float64\n"
          ],
          "name": "stdout"
        }
      ]
    },
    {
      "cell_type": "code",
      "metadata": {
        "colab": {
          "base_uri": "https://localhost:8080/"
        },
        "id": "-DJl4z4HwzIH",
        "outputId": "d5768d3f-3b25-4bfa-bfcb-50486e6a9c30"
      },
      "source": [
        "mass.drop(['Pluto'])\n"
      ],
      "execution_count": 33,
      "outputs": [
        {
          "output_type": "execute_result",
          "data": {
            "text/plain": [
              "Mercury       0.330\n",
              "Venus         4.870\n",
              "Earth         5.970\n",
              "Mars          0.642\n",
              "Jupiter    1898.000\n",
              "Saturn      568.000\n",
              "Uranus       86.800\n",
              "Neptune     102.000\n",
              "dtype: float64"
            ]
          },
          "metadata": {
            "tags": []
          },
          "execution_count": 33
        }
      ]
    },
    {
      "cell_type": "code",
      "metadata": {
        "colab": {
          "base_uri": "https://localhost:8080/"
        },
        "id": "za0TNNE2w_QJ",
        "outputId": "57c890db-5ba7-4866-dfe0-2367a11be491"
      },
      "source": [
        "mass"
      ],
      "execution_count": 34,
      "outputs": [
        {
          "output_type": "execute_result",
          "data": {
            "text/plain": [
              "Mercury       0.3300\n",
              "Venus         4.8700\n",
              "Earth         5.9700\n",
              "Mars          0.6420\n",
              "Jupiter    1898.0000\n",
              "Saturn      568.0000\n",
              "Uranus       86.8000\n",
              "Neptune     102.0000\n",
              "Pluto         0.0146\n",
              "dtype: float64"
            ]
          },
          "metadata": {
            "tags": []
          },
          "execution_count": 34
        }
      ]
    },
    {
      "cell_type": "markdown",
      "metadata": {
        "id": "JPump6t_xIia"
      },
      "source": [
        "## Collect numbers for the diameters of these planets (heavenly bodies) and store it as a Series object. Then given these two Series objects mass and diameter, compute the density of each planet."
      ]
    },
    {
      "cell_type": "code",
      "metadata": {
        "id": "zQOuJQ8mxKG8"
      },
      "source": [
        "diameter = pd.Series([4879, 12104, 12756, 3475, 6792, 142984, 120536, 51118, 49528, 2370], \n",
        "                     index=['Mercury', 'Venus', 'Earth', 'Moon', 'Mars', 'Jupiter', 'Saturn', 'Uranus', 'Neptune', 'Pluto'])"
      ],
      "execution_count": 35,
      "outputs": []
    },
    {
      "cell_type": "code",
      "metadata": {
        "colab": {
          "base_uri": "https://localhost:8080/"
        },
        "id": "rH8TcID1xYv5",
        "outputId": "7573bab5-cc68-450f-99ab-cd5f4d65560f"
      },
      "source": [
        "density = pd.Series([])\n"
      ],
      "execution_count": 36,
      "outputs": [
        {
          "output_type": "stream",
          "text": [
            "/usr/local/lib/python3.7/dist-packages/ipykernel_launcher.py:1: DeprecationWarning: The default dtype for empty Series will be 'object' instead of 'float64' in a future version. Specify a dtype explicitly to silence this warning.\n",
            "  \"\"\"Entry point for launching an IPython kernel.\n"
          ],
          "name": "stderr"
        }
      ]
    },
    {
      "cell_type": "code",
      "metadata": {
        "id": "xMllNuWAxdSL"
      },
      "source": [
        "for planet in mass.index:\n",
        "    density[planet] = mass[planet] / (np.pi * diameter[planet] * diameter[planet] * diameter[planet] / 6)"
      ],
      "execution_count": 37,
      "outputs": []
    },
    {
      "cell_type": "code",
      "metadata": {
        "colab": {
          "base_uri": "https://localhost:8080/"
        },
        "id": "iLqVo-mDxhPL",
        "outputId": "f73cfa78-1c5d-49ca-f00d-98d42f810a95"
      },
      "source": [
        "print(density)\n"
      ],
      "execution_count": 38,
      "outputs": [
        {
          "output_type": "stream",
          "text": [
            "Mercury    5.426538e-12\n",
            "Venus      5.244977e-12\n",
            "Earth      5.493286e-12\n",
            "Mars       3.913302e-12\n",
            "Jupiter    1.240039e-12\n",
            "Saturn     6.194402e-13\n",
            "Uranus     1.241079e-12\n",
            "Neptune    1.603427e-12\n",
            "Pluto      2.094639e-12\n",
            "dtype: float64\n"
          ],
          "name": "stdout"
        }
      ]
    },
    {
      "cell_type": "code",
      "metadata": {
        "colab": {
          "base_uri": "https://localhost:8080/"
        },
        "id": "bxmi6EHYxk5W",
        "outputId": "544344a4-159e-4ec9-84c0-ea9eeeb1a393"
      },
      "source": [
        "density = mass / (np.pi * np.power(diameter, 3) / 6)\n",
        "print(density)"
      ],
      "execution_count": 39,
      "outputs": [
        {
          "output_type": "stream",
          "text": [
            "Earth      5.493286e-12\n",
            "Jupiter    1.240039e-12\n",
            "Mars       3.913302e-12\n",
            "Mercury    5.426538e-12\n",
            "Moon                NaN\n",
            "Neptune    1.603427e-12\n",
            "Pluto      2.094639e-12\n",
            "Saturn     6.194402e-13\n",
            "Uranus     1.241079e-12\n",
            "Venus      5.244977e-12\n",
            "dtype: float64\n"
          ],
          "name": "stdout"
        }
      ]
    },
    {
      "cell_type": "code",
      "metadata": {
        "colab": {
          "base_uri": "https://localhost:8080/"
        },
        "id": "eEy8OoU7x2lU",
        "outputId": "6c507ea7-7767-4b2f-da60-65f34fa6330b"
      },
      "source": [
        "mass['PlanetX'] = 6\n",
        "density = mass / (np.pi * np.power(diameter, 3) / 6)\n",
        "print(density)"
      ],
      "execution_count": 40,
      "outputs": [
        {
          "output_type": "stream",
          "text": [
            "Earth      5.493286e-12\n",
            "Jupiter    1.240039e-12\n",
            "Mars       3.913302e-12\n",
            "Mercury    5.426538e-12\n",
            "Moon                NaN\n",
            "Neptune    1.603427e-12\n",
            "PlanetX             NaN\n",
            "Pluto      2.094639e-12\n",
            "Saturn     6.194402e-13\n",
            "Uranus     1.241079e-12\n",
            "Venus      5.244977e-12\n",
            "dtype: float64\n"
          ],
          "name": "stdout"
        }
      ]
    },
    {
      "cell_type": "markdown",
      "metadata": {
        "id": "hp2yj1hWyHg8"
      },
      "source": [
        "## Given this density Series, replace all values which NaNs with the mean density of all planets\n",
        "\n"
      ]
    },
    {
      "cell_type": "code",
      "metadata": {
        "colab": {
          "base_uri": "https://localhost:8080/"
        },
        "id": "NGho7amHyKLI",
        "outputId": "a3b38598-8972-4ecd-bdce-93558dbc3087"
      },
      "source": [
        "density_mean = np.mean(density)\n",
        "\n",
        "for key in density.index:\n",
        "    if pd.isnull(density[key]):\n",
        "        density[key] = density_mean\n",
        "print(density)"
      ],
      "execution_count": 41,
      "outputs": [
        {
          "output_type": "stream",
          "text": [
            "Earth      5.493286e-12\n",
            "Jupiter    1.240039e-12\n",
            "Mars       3.913302e-12\n",
            "Mercury    5.426538e-12\n",
            "Moon       2.986303e-12\n",
            "Neptune    1.603427e-12\n",
            "PlanetX    2.986303e-12\n",
            "Pluto      2.094639e-12\n",
            "Saturn     6.194402e-13\n",
            "Uranus     1.241079e-12\n",
            "Venus      5.244977e-12\n",
            "dtype: float64\n"
          ],
          "name": "stdout"
        }
      ]
    },
    {
      "cell_type": "code",
      "metadata": {
        "colab": {
          "base_uri": "https://localhost:8080/"
        },
        "id": "F1o04ji9yV64",
        "outputId": "2994b73c-f75f-4c4c-c947-cdb3806311db"
      },
      "source": [
        "density[pd.isnull(density)] = np.mean(density)\n",
        "print(density)"
      ],
      "execution_count": 42,
      "outputs": [
        {
          "output_type": "stream",
          "text": [
            "Earth      5.493286e-12\n",
            "Jupiter    1.240039e-12\n",
            "Mars       3.913302e-12\n",
            "Mercury    5.426538e-12\n",
            "Moon       2.986303e-12\n",
            "Neptune    1.603427e-12\n",
            "PlanetX    2.986303e-12\n",
            "Pluto      2.094639e-12\n",
            "Saturn     6.194402e-13\n",
            "Uranus     1.241079e-12\n",
            "Venus      5.244977e-12\n",
            "dtype: float64\n"
          ],
          "name": "stdout"
        }
      ]
    },
    {
      "cell_type": "code",
      "metadata": {
        "id": "Cs9zMdOIy_DU"
      },
      "source": [
        "my_dict = {}\n",
        "N = 1000000\n",
        "for i in range(N):\n",
        "    my_dict[i] = i%10"
      ],
      "execution_count": 43,
      "outputs": []
    },
    {
      "cell_type": "code",
      "metadata": {
        "id": "YjaLgGPTzA-g"
      },
      "source": [
        "my_series = pd.Series(my_dict)\n",
        "M = 10000\n",
        "arr = np.random.randint(0, N, M)\n"
      ],
      "execution_count": 44,
      "outputs": []
    },
    {
      "cell_type": "code",
      "metadata": {
        "colab": {
          "base_uri": "https://localhost:8080/"
        },
        "id": "ayN3NjkXzxb6",
        "outputId": "81d677b9-a1e2-41ad-b44a-a6f985f52ff1"
      },
      "source": [
        "%%timeit\n",
        "for i in arr:\n",
        "    i in my_dict"
      ],
      "execution_count": 45,
      "outputs": [
        {
          "output_type": "stream",
          "text": [
            "100 loops, best of 5: 5.29 ms per loop\n"
          ],
          "name": "stdout"
        }
      ]
    },
    {
      "cell_type": "code",
      "metadata": {
        "colab": {
          "base_uri": "https://localhost:8080/"
        },
        "id": "jHpbLvXDz20N",
        "outputId": "c84fdb3e-a711-4664-c94a-e9d58e17204d"
      },
      "source": [
        "%%timeit\n",
        "for i in arr:\n",
        "    i in my_series"
      ],
      "execution_count": 46,
      "outputs": [
        {
          "output_type": "stream",
          "text": [
            "The slowest run took 7.06 times longer than the fastest. This could mean that an intermediate result is being cached.\n",
            "100 loops, best of 5: 11 ms per loop\n"
          ],
          "name": "stdout"
        }
      ]
    },
    {
      "cell_type": "code",
      "metadata": {
        "colab": {
          "base_uri": "https://localhost:8080/"
        },
        "id": "ELbLV2xU0GF8",
        "outputId": "911e8ffd-82b9-4141-8a03-baeab618b110"
      },
      "source": [
        "%%timeit\n",
        "sum(my_dict.values())"
      ],
      "execution_count": 47,
      "outputs": [
        {
          "output_type": "stream",
          "text": [
            "100 loops, best of 5: 10 ms per loop\n"
          ],
          "name": "stdout"
        }
      ]
    },
    {
      "cell_type": "code",
      "metadata": {
        "colab": {
          "base_uri": "https://localhost:8080/"
        },
        "id": "Sw6ZLUei0OQt",
        "outputId": "5a0d2667-4847-49a5-ca9e-65cb0a1da356"
      },
      "source": [
        "%%timeit\n",
        "np.sum(my_series)"
      ],
      "execution_count": 48,
      "outputs": [
        {
          "output_type": "stream",
          "text": [
            "1000 loops, best of 5: 745 µs per loop\n"
          ],
          "name": "stdout"
        }
      ]
    },
    {
      "cell_type": "code",
      "metadata": {
        "colab": {
          "base_uri": "https://localhost:8080/"
        },
        "id": "-8_7k_j70PgY",
        "outputId": "c759952e-1248-4457-a6bc-12a38cfc0087"
      },
      "source": [
        "%%timeit\n",
        "mean = sum(my_dict.values()) / N\n",
        "variance = sum([(x - mean)**2 for x in my_dict.values()])\n",
        "std = variance ** 0.5"
      ],
      "execution_count": 49,
      "outputs": [
        {
          "output_type": "stream",
          "text": [
            "10 loops, best of 5: 174 ms per loop\n"
          ],
          "name": "stdout"
        }
      ]
    },
    {
      "cell_type": "code",
      "metadata": {
        "colab": {
          "base_uri": "https://localhost:8080/"
        },
        "id": "91srNy2d0XbY",
        "outputId": "c88d464a-1c21-4a86-df5d-59702152dd1e"
      },
      "source": [
        "%%timeit\n",
        "np.std(my_series)"
      ],
      "execution_count": 50,
      "outputs": [
        {
          "output_type": "stream",
          "text": [
            "100 loops, best of 5: 2.32 ms per loop\n"
          ],
          "name": "stdout"
        }
      ]
    }
  ]
}