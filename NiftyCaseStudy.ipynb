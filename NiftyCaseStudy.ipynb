{
  "nbformat": 4,
  "nbformat_minor": 0,
  "metadata": {
    "colab": {
      "name": "Numpy_Assignments_Questions-200320-184846.ipynb",
      "provenance": [],
      "collapsed_sections": [],
      "include_colab_link": true
    },
    "kernelspec": {
      "name": "python3",
      "display_name": "Python 3"
    }
  },
  "cells": [
    {
      "cell_type": "markdown",
      "metadata": {
        "id": "view-in-github",
        "colab_type": "text"
      },
      "source": [
        "<a href=\"https://colab.research.google.com/github/anubhavgupta1/Data---Science/blob/main/NiftyCaseStudy.ipynb\" target=\"_parent\"><img src=\"https://colab.research.google.com/assets/colab-badge.svg\" alt=\"Open In Colab\"/></a>"
      ]
    },
    {
      "cell_type": "code",
      "metadata": {
        "colab": {
          "base_uri": "https://localhost:8080/"
        },
        "id": "eM8kCeRM8o9k",
        "outputId": "928d2fec-230c-42bd-c42e-a68edec68c03"
      },
      "source": [
        "!ls\n",
        "!apt-get install -y -qq software-properties-common python-software-properties module-init-tools\n",
        "!add-apt-repository -y ppa:alessandro-strada/ppa 2>&1 > /dev/null\n",
        "!apt-get update -qq 2>&1 > /dev/null\n",
        "!apt-get -y install -qq google-drive-ocamlfuse fuse\n",
        "from google.colab import auth\n",
        "auth.authenticate_user()\n",
        "from oauth2client.client import GoogleCredentials\n",
        "creds = GoogleCredentials.get_application_default()\n",
        "import getpass\n",
        "!google-drive-ocamlfuse -headless -id={creds.client_id} -secret={creds.client_secret} < /dev/null 2>&1 | grep URL\n",
        "vcode = getpass.getpass()\n",
        "!echo {vcode} | google-drive-ocamlfuse -headless -id={creds.client_id} -secret={creds.client_secret}\n",
        "\n",
        "\n",
        "!mkdir -p drive\n",
        "!google-drive-ocamlfuse drive\n",
        "\n",
        "import os\n",
        "os.chdir (\"drive/Udacity/data science/\")\n",
        "!ls"
      ],
      "execution_count": 1,
      "outputs": [
        {
          "output_type": "stream",
          "text": [
            "sample_data\n",
            "E: Package 'python-software-properties' has no installation candidate\n",
            "Selecting previously unselected package google-drive-ocamlfuse.\n",
            "(Reading database ... 160983 files and directories currently installed.)\n",
            "Preparing to unpack .../google-drive-ocamlfuse_0.7.26-0ubuntu1~ubuntu18.04.1_amd64.deb ...\n",
            "Unpacking google-drive-ocamlfuse (0.7.26-0ubuntu1~ubuntu18.04.1) ...\n",
            "Setting up google-drive-ocamlfuse (0.7.26-0ubuntu1~ubuntu18.04.1) ...\n",
            "Processing triggers for man-db (2.8.3-2ubuntu0.1) ...\n",
            "Please, open the following URL in a web browser: https://accounts.google.com/o/oauth2/auth?client_id=32555940559.apps.googleusercontent.com&redirect_uri=urn%3Aietf%3Awg%3Aoauth%3A2.0%3Aoob&scope=https%3A%2F%2Fwww.googleapis.com%2Fauth%2Fdrive&response_type=code&access_type=offline&approval_prompt=force\n",
            "··········\n",
            "Please, open the following URL in a web browser: https://accounts.google.com/o/oauth2/auth?client_id=32555940559.apps.googleusercontent.com&redirect_uri=urn%3Aietf%3Awg%3Aoauth%3A2.0%3Aoob&scope=https%3A%2F%2Fwww.googleapis.com%2Fauth%2Fdrive&response_type=code&access_type=offline&approval_prompt=force\n",
            "Please enter the verification code: Access token retrieved correctly.\n",
            "cric_data.tsv\t\t  planets_new.npy    zeros_compressed.npz\n",
            "many_arrs_compressed.npz  planets_new.txt    zeros.npz\n",
            "many_arrs.npz\t\t  planets_small.txt\n",
            "nifty-200623-235920.csv   planets.txt\n"
          ],
          "name": "stdout"
        }
      ]
    },
    {
      "cell_type": "code",
      "metadata": {
        "colab": {
          "base_uri": "https://localhost:8080/"
        },
        "id": "QJov9H-KEo_w",
        "outputId": "dad873ad-16f5-4493-a7d8-cd70e4684b6e"
      },
      "source": [
        "!head nifty-200623-235920.csv  "
      ],
      "execution_count": 2,
      "outputs": [
        {
          "output_type": "stream",
          "text": [
            "Date,Close\r\n",
            "01-Jan-2019,10910.10\r\n",
            "02-Jan-2019,10792.50\r\n",
            "03-Jan-2019,10672.25\r\n",
            "04-Jan-2019,10727.35\r\n",
            "07-Jan-2019,10771.80\r\n",
            "08-Jan-2019,10802.15\r\n",
            "09-Jan-2019,10855.15\r\n",
            "10-Jan-2019,10821.60\r\n",
            "11-Jan-2019,10794.95\r\n"
          ],
          "name": "stdout"
        }
      ]
    },
    {
      "cell_type": "code",
      "metadata": {
        "id": "gzRE7xBgE2UB"
      },
      "source": [
        "import pandas as pd\n",
        "import numpy as np\n"
      ],
      "execution_count": 3,
      "outputs": []
    },
    {
      "cell_type": "code",
      "metadata": {
        "colab": {
          "base_uri": "https://localhost:8080/"
        },
        "id": "4F5MdMmnFBBw",
        "outputId": "275bfdc4-0d8a-48d6-ca5e-bce40969084e"
      },
      "source": [
        "nifty = pd.read_csv('nifty-200623-235920.csv', index_col=0).iloc[:, 0]\n",
        "print(nifty.shape)"
      ],
      "execution_count": 4,
      "outputs": [
        {
          "output_type": "stream",
          "text": [
            "(245,)\n"
          ],
          "name": "stdout"
        }
      ]
    },
    {
      "cell_type": "code",
      "metadata": {
        "colab": {
          "base_uri": "https://localhost:8080/"
        },
        "id": "zLNpb09qFn82",
        "outputId": "155ddcac-94d0-4bbb-bbb8-f7cc40903b41"
      },
      "source": [
        "nifty.head(25)\n"
      ],
      "execution_count": 5,
      "outputs": [
        {
          "output_type": "execute_result",
          "data": {
            "text/plain": [
              "Date\n",
              "01-Jan-2019    10910.10\n",
              "02-Jan-2019    10792.50\n",
              "03-Jan-2019    10672.25\n",
              "04-Jan-2019    10727.35\n",
              "07-Jan-2019    10771.80\n",
              "08-Jan-2019    10802.15\n",
              "09-Jan-2019    10855.15\n",
              "10-Jan-2019    10821.60\n",
              "11-Jan-2019    10794.95\n",
              "14-Jan-2019    10737.60\n",
              "15-Jan-2019    10886.80\n",
              "16-Jan-2019    10890.30\n",
              "17-Jan-2019    10905.20\n",
              "18-Jan-2019    10906.95\n",
              "21-Jan-2019    10961.85\n",
              "22-Jan-2019    10922.75\n",
              "23-Jan-2019    10831.50\n",
              "24-Jan-2019    10849.80\n",
              "25-Jan-2019    10780.55\n",
              "28-Jan-2019    10661.55\n",
              "29-Jan-2019    10652.20\n",
              "30-Jan-2019    10651.80\n",
              "31-Jan-2019    10830.95\n",
              "01-Feb-2019    10893.65\n",
              "04-Feb-2019    10912.25\n",
              "Name: Close, dtype: float64"
            ]
          },
          "metadata": {
            "tags": []
          },
          "execution_count": 5
        }
      ]
    },
    {
      "cell_type": "code",
      "metadata": {
        "colab": {
          "base_uri": "https://localhost:8080/"
        },
        "id": "LLvnlUnBF2Em",
        "outputId": "ab973efc-2215-403e-805a-54f03b96ea36"
      },
      "source": [
        "nifty.tail(25)"
      ],
      "execution_count": 6,
      "outputs": [
        {
          "output_type": "execute_result",
          "data": {
            "text/plain": [
              "Date\n",
              "26-Nov-2019    12037.70\n",
              "27-Nov-2019    12100.70\n",
              "28-Nov-2019    12151.15\n",
              "29-Nov-2019    12056.05\n",
              "02-Dec-2019    12048.20\n",
              "03-Dec-2019    11994.20\n",
              "04-Dec-2019    12043.20\n",
              "05-Dec-2019    12018.40\n",
              "06-Dec-2019    11921.50\n",
              "09-Dec-2019    11937.50\n",
              "10-Dec-2019    11856.80\n",
              "11-Dec-2019    11910.15\n",
              "12-Dec-2019    11971.80\n",
              "13-Dec-2019    12086.70\n",
              "16-Dec-2019    12053.95\n",
              "17-Dec-2019    12165.00\n",
              "18-Dec-2019    12221.65\n",
              "19-Dec-2019    12259.70\n",
              "20-Dec-2019    12271.80\n",
              "23-Dec-2019    12262.75\n",
              "24-Dec-2019    12214.55\n",
              "26-Dec-2019    12126.55\n",
              "27-Dec-2019    12245.80\n",
              "30-Dec-2019    12255.85\n",
              "31-Dec-2019    12168.45\n",
              "Name: Close, dtype: float64"
            ]
          },
          "metadata": {
            "tags": []
          },
          "execution_count": 6
        }
      ]
    },
    {
      "cell_type": "code",
      "metadata": {
        "colab": {
          "base_uri": "https://localhost:8080/"
        },
        "id": "MARFqJiCGOwc",
        "outputId": "3710f1f2-61b7-4c77-a7c9-cb6cc33c9e71"
      },
      "source": [
        "print(np.mean(nifty))\n",
        "print(np.median(nifty))\n",
        "print(np.std(nifty))"
      ],
      "execution_count": 7,
      "outputs": [
        {
          "output_type": "stream",
          "text": [
            "11432.632244897959\n",
            "11512.4\n",
            "453.2866947459807\n"
          ],
          "name": "stdout"
        }
      ]
    },
    {
      "cell_type": "code",
      "metadata": {
        "colab": {
          "base_uri": "https://localhost:8080/"
        },
        "id": "OT5NDVauGaLk",
        "outputId": "52a0607a-1c46-4837-a001-65e9626165ea"
      },
      "source": [
        "print(nifty[0])\n",
        "print(nifty[1])\n",
        "print(nifty[1]-nifty[0])"
      ],
      "execution_count": 8,
      "outputs": [
        {
          "output_type": "stream",
          "text": [
            "10910.1\n",
            "10792.5\n",
            "-117.60000000000036\n"
          ],
          "name": "stdout"
        }
      ]
    },
    {
      "cell_type": "code",
      "metadata": {
        "colab": {
          "base_uri": "https://localhost:8080/"
        },
        "id": "v9w7z_pVEiUu",
        "outputId": "a8a573a1-2a57-4282-98f1-da9a49e0861d"
      },
      "source": [
        "nifty[1:].shape"
      ],
      "execution_count": 9,
      "outputs": [
        {
          "output_type": "execute_result",
          "data": {
            "text/plain": [
              "(244,)"
            ]
          },
          "metadata": {
            "tags": []
          },
          "execution_count": 9
        }
      ]
    },
    {
      "cell_type": "code",
      "metadata": {
        "colab": {
          "base_uri": "https://localhost:8080/"
        },
        "id": "txWMVmL4EtVM",
        "outputId": "3152654e-b800-48ea-c577-ad33cc4e714c"
      },
      "source": [
        "nifty[:-1].shape"
      ],
      "execution_count": 10,
      "outputs": [
        {
          "output_type": "execute_result",
          "data": {
            "text/plain": [
              "(244,)"
            ]
          },
          "metadata": {
            "tags": []
          },
          "execution_count": 10
        }
      ]
    },
    {
      "cell_type": "code",
      "metadata": {
        "colab": {
          "base_uri": "https://localhost:8080/"
        },
        "id": "ecOu-m3fEuxv",
        "outputId": "53e6de1c-03ef-4532-90c7-fbccfd080a16"
      },
      "source": [
        "print(nifty[1:] - nifty[:-1])"
      ],
      "execution_count": 11,
      "outputs": [
        {
          "output_type": "stream",
          "text": [
            "Date\n",
            "01-Apr-2019    0.0\n",
            "01-Aug-2019    0.0\n",
            "01-Feb-2019    0.0\n",
            "01-Jan-2019    NaN\n",
            "01-Jul-2019    0.0\n",
            "              ... \n",
            "31-Dec-2019    NaN\n",
            "31-Jan-2019    0.0\n",
            "31-Jul-2019    0.0\n",
            "31-May-2019    0.0\n",
            "31-Oct-2019    0.0\n",
            "Name: Close, Length: 245, dtype: float64\n"
          ],
          "name": "stdout"
        }
      ]
    },
    {
      "cell_type": "code",
      "metadata": {
        "colab": {
          "base_uri": "https://localhost:8080/"
        },
        "id": "6Wqo8ZyZFZNT",
        "outputId": "9563562e-11d8-414a-afe6-d403f67094ac"
      },
      "source": [
        "print((nifty[1:] - nifty[:-1])>0)"
      ],
      "execution_count": 12,
      "outputs": [
        {
          "output_type": "stream",
          "text": [
            "Date\n",
            "01-Apr-2019    False\n",
            "01-Aug-2019    False\n",
            "01-Feb-2019    False\n",
            "01-Jan-2019    False\n",
            "01-Jul-2019    False\n",
            "               ...  \n",
            "31-Dec-2019    False\n",
            "31-Jan-2019    False\n",
            "31-Jul-2019    False\n",
            "31-May-2019    False\n",
            "31-Oct-2019    False\n",
            "Name: Close, Length: 245, dtype: bool\n"
          ],
          "name": "stdout"
        }
      ]
    },
    {
      "cell_type": "code",
      "metadata": {
        "colab": {
          "base_uri": "https://localhost:8080/"
        },
        "id": "nSB_YYPvFqZC",
        "outputId": "9d18b2ea-b85a-43b9-a023-2515deaafd37"
      },
      "source": [
        "print(np.sum((nifty.values[1:] - nifty.values[:-1]) > 0) )"
      ],
      "execution_count": 13,
      "outputs": [
        {
          "output_type": "stream",
          "text": [
            "129\n"
          ],
          "name": "stdout"
        }
      ]
    },
    {
      "cell_type": "code",
      "metadata": {
        "colab": {
          "base_uri": "https://localhost:8080/"
        },
        "id": "9v5bz9XhE2wF",
        "outputId": "01d3613c-a64c-4951-a233-16ad944c1bf0"
      },
      "source": [
        "print(np.sum((nifty.values[1:] - nifty.values[:-1]) > 0) / len(nifty))"
      ],
      "execution_count": 14,
      "outputs": [
        {
          "output_type": "stream",
          "text": [
            "0.5265306122448979\n"
          ],
          "name": "stdout"
        }
      ]
    },
    {
      "cell_type": "markdown",
      "metadata": {
        "id": "26tJE4WUcwbj"
      },
      "source": [
        "## Task 1\n",
        "* Compute moving average of the last 5 days\n",
        "\n",
        "* Subset the data to include only data for Fridays"
      ]
    },
    {
      "cell_type": "code",
      "metadata": {
        "colab": {
          "base_uri": "https://localhost:8080/"
        },
        "id": "-rddnuFpomNd",
        "outputId": "8901c22a-6b22-4f56-db9d-1e3590729c56"
      },
      "source": [
        "print(nifty[0])"
      ],
      "execution_count": 15,
      "outputs": [
        {
          "output_type": "stream",
          "text": [
            "10910.1\n"
          ],
          "name": "stdout"
        }
      ]
    },
    {
      "cell_type": "code",
      "metadata": {
        "colab": {
          "base_uri": "https://localhost:8080/"
        },
        "id": "ppo9rGqsbWuT",
        "outputId": "73a40033-a2d0-47e7-dfe2-45a522e76d4b"
      },
      "source": [
        "timestamp = pd.Timestamp(nifty.index[0])\n",
        "print(timestamp)"
      ],
      "execution_count": 16,
      "outputs": [
        {
          "output_type": "stream",
          "text": [
            "2019-01-01 00:00:00\n"
          ],
          "name": "stdout"
        }
      ]
    },
    {
      "cell_type": "code",
      "metadata": {
        "colab": {
          "base_uri": "https://localhost:8080/"
        },
        "id": "KzphTxrMngGo",
        "outputId": "2df7f26d-d46d-4e82-d329-5dd112d6896a"
      },
      "source": [
        "print(timestamp.day)\n",
        "print(timestamp.dayofweek)\n",
        "print(timestamp.dayofyear)\n",
        "print(timestamp.hour)"
      ],
      "execution_count": 17,
      "outputs": [
        {
          "output_type": "stream",
          "text": [
            "1\n",
            "1\n",
            "1\n",
            "0\n"
          ],
          "name": "stdout"
        }
      ]
    },
    {
      "cell_type": "code",
      "metadata": {
        "colab": {
          "base_uri": "https://localhost:8080/"
        },
        "id": "cyx9SRzFoHdX",
        "outputId": "b1e5c8e0-ca30-44f0-b3e4-29e6a0b60dd1"
      },
      "source": [
        "new_index = map(pd.Timestamp, nifty.index)\n",
        "new_nifty = pd.Series(nifty, index = new_index)\n",
        "new_nifty.head(5)"
      ],
      "execution_count": 18,
      "outputs": [
        {
          "output_type": "execute_result",
          "data": {
            "text/plain": [
              "2019-01-01    10910.10\n",
              "2019-01-02    10792.50\n",
              "2019-01-03    10672.25\n",
              "2019-01-04    10727.35\n",
              "2019-01-07    10771.80\n",
              "Name: Close, dtype: float64"
            ]
          },
          "metadata": {
            "tags": []
          },
          "execution_count": 18
        }
      ]
    },
    {
      "cell_type": "code",
      "metadata": {
        "colab": {
          "base_uri": "https://localhost:8080/"
        },
        "id": "zhKbqjkNogBR",
        "outputId": "a2561eb6-d75a-47f2-aaf4-9b2afc393d3c"
      },
      "source": [
        "print(nifty[0])\n",
        "print(new_nifty.index[0])"
      ],
      "execution_count": 19,
      "outputs": [
        {
          "output_type": "stream",
          "text": [
            "10910.1\n",
            "2019-01-01 00:00:00\n"
          ],
          "name": "stdout"
        }
      ]
    },
    {
      "cell_type": "code",
      "metadata": {
        "colab": {
          "base_uri": "https://localhost:8080/"
        },
        "id": "-51dO_j1o0Fu",
        "outputId": "9c44d340-72e2-4bf0-98f1-722b0ca9843f"
      },
      "source": [
        "new_nifty.rolling('5d').mean()\n"
      ],
      "execution_count": 20,
      "outputs": [
        {
          "output_type": "execute_result",
          "data": {
            "text/plain": [
              "2019-01-01    10910.100000\n",
              "2019-01-02    10851.300000\n",
              "2019-01-03    10791.616667\n",
              "2019-01-04    10775.550000\n",
              "2019-01-07    10723.800000\n",
              "                  ...     \n",
              "2019-12-24    12249.700000\n",
              "2019-12-26    12201.283333\n",
              "2019-12-27    12212.412500\n",
              "2019-12-30    12209.400000\n",
              "2019-12-31    12223.366667\n",
              "Name: Close, Length: 245, dtype: float64"
            ]
          },
          "metadata": {
            "tags": []
          },
          "execution_count": 20
        }
      ]
    },
    {
      "cell_type": "code",
      "metadata": {
        "id": "cKvz5LJppXHd"
      },
      "source": [
        "dow = new_nifty.copy()\n",
        "for i in dow.index:\n",
        "    dow[i] = i.dayofweek"
      ],
      "execution_count": 21,
      "outputs": []
    },
    {
      "cell_type": "code",
      "metadata": {
        "colab": {
          "base_uri": "https://localhost:8080/"
        },
        "id": "XDO0N9t-pdVY",
        "outputId": "50f70e1e-5e20-49da-c845-8d4de889037e"
      },
      "source": [
        "dow"
      ],
      "execution_count": 22,
      "outputs": [
        {
          "output_type": "execute_result",
          "data": {
            "text/plain": [
              "2019-01-01    1.0\n",
              "2019-01-02    2.0\n",
              "2019-01-03    3.0\n",
              "2019-01-04    4.0\n",
              "2019-01-07    0.0\n",
              "             ... \n",
              "2019-12-24    1.0\n",
              "2019-12-26    3.0\n",
              "2019-12-27    4.0\n",
              "2019-12-30    0.0\n",
              "2019-12-31    1.0\n",
              "Name: Close, Length: 245, dtype: float64"
            ]
          },
          "metadata": {
            "tags": []
          },
          "execution_count": 22
        }
      ]
    },
    {
      "cell_type": "code",
      "metadata": {
        "colab": {
          "base_uri": "https://localhost:8080/"
        },
        "id": "UwA2W0k-pgI_",
        "outputId": "77e78585-4d96-45b3-a0df-5dcbbed66608"
      },
      "source": [
        "new_nifty[dow == 4]\n"
      ],
      "execution_count": 23,
      "outputs": [
        {
          "output_type": "execute_result",
          "data": {
            "text/plain": [
              "2019-01-04    10727.35\n",
              "2019-01-11    10794.95\n",
              "2019-01-18    10906.95\n",
              "2019-01-25    10780.55\n",
              "2019-02-01    10893.65\n",
              "2019-02-08    10943.60\n",
              "2019-02-15    10724.40\n",
              "2019-02-22    10791.65\n",
              "2019-03-01    10863.50\n",
              "2019-03-08    11035.40\n",
              "2019-03-15    11426.85\n",
              "2019-03-22    11456.90\n",
              "2019-03-29    11623.90\n",
              "2019-04-05    11665.95\n",
              "2019-04-12    11643.45\n",
              "2019-04-26    11754.65\n",
              "2019-05-03    11712.25\n",
              "2019-05-10    11278.90\n",
              "2019-05-17    11407.15\n",
              "2019-05-24    11844.10\n",
              "2019-05-31    11922.80\n",
              "2019-06-07    11870.65\n",
              "2019-06-14    11823.30\n",
              "2019-06-21    11724.10\n",
              "2019-06-28    11788.85\n",
              "2019-07-05    11811.15\n",
              "2019-07-12    11552.50\n",
              "2019-07-19    11419.25\n",
              "2019-07-26    11284.30\n",
              "2019-08-02    10997.35\n",
              "2019-08-09    11109.65\n",
              "2019-08-16    11047.80\n",
              "2019-08-23    10829.35\n",
              "2019-08-30    11023.25\n",
              "2019-09-06    10946.20\n",
              "2019-09-13    11075.90\n",
              "2019-09-20    11274.20\n",
              "2019-09-27    11512.40\n",
              "2019-10-04    11174.75\n",
              "2019-10-11    11305.05\n",
              "2019-10-18    11661.85\n",
              "2019-10-25    11583.90\n",
              "2019-11-01    11890.60\n",
              "2019-11-08    11908.15\n",
              "2019-11-15    11895.45\n",
              "2019-11-22    11914.40\n",
              "2019-11-29    12056.05\n",
              "2019-12-06    11921.50\n",
              "2019-12-13    12086.70\n",
              "2019-12-20    12271.80\n",
              "2019-12-27    12245.80\n",
              "Name: Close, dtype: float64"
            ]
          },
          "metadata": {
            "tags": []
          },
          "execution_count": 23
        }
      ]
    }
  ]
}